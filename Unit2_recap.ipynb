{
 "cells": [
  {
   "cell_type": "markdown",
   "metadata": {},
   "source": [
    "# Unit 2 Review "
   ]
  },
  {
   "cell_type": "markdown",
   "metadata": {},
   "source": [
    "\n",
    "Python uses the following operators for math:\n",
    "\n",
    "Add        +\n",
    "\n",
    "Subtract   -\n",
    "\n",
    "Divide     /\n",
    "\n",
    "Multiply   *\n",
    "\n",
    "To Power   **\n",
    "\n",
    "Modulus    %   Returns leftover of a division \n",
    "\n",
    "Floor      //  Returns division round to lowest whole\n",
    "\n",
    "increment +=   Increases by the number specified \n",
    "\n",
    "decrement -=   Decreases by the number specified"
   ]
  },
  {
   "cell_type": "code",
   "execution_count": 8,
   "metadata": {},
   "outputs": [
    {
     "name": "stdout",
     "output_type": "stream",
     "text": [
      "1 + 1 =  2\n",
      "1 - 1 =  0\n",
      "2 * 3 =  6\n",
      "6 / 4 =  1.7142857142857142\n",
      "6 // 4 =   1.0\n",
      "5 ** 5 3125\n",
      "16 % 3 =  1\n"
     ]
    }
   ],
   "source": [
    "print(\"1 + 1 = \", 1 + 1)\n",
    "print(\"1 - 1 = \", 1 - 1)\n",
    "print(\"2 * 3 = \", 2 * 3)\n",
    "print(\"6 / 4 = \", 6 / 3.5)\n",
    "\n",
    "# floor division rounds to lowest integer\n",
    "print(\"6 // 4 =  \", 6 // 3.5)\n",
    "print(\"5 ** 5\", 5 ** 5)\n",
    "\n",
    "# modulus return the remainder of divison \n",
    "print(\"16 % 3 = \", 16 % 3)"
   ]
  },
  {
   "cell_type": "markdown",
   "metadata": {},
   "source": [
    "### Increment/Decrement"
   ]
  },
  {
   "cell_type": "markdown",
   "metadata": {},
   "source": [
    "We can increment and decrement using and the +=, -=, etc. "
   ]
  },
  {
   "cell_type": "code",
   "execution_count": 10,
   "metadata": {},
   "outputs": [
    {
     "name": "stdout",
     "output_type": "stream",
     "text": [
      "x is:\n",
      "11\n",
      "y is:\n",
      "9\n"
     ]
    }
   ],
   "source": [
    "\n",
    "# both x and y start at 10\n",
    "\n",
    "# Declare, increment, print\n",
    "print(\"x is:\")\n",
    "x = 10\n",
    "x += 1\n",
    "print(x)\n",
    "\n",
    "# decrement\n",
    "print(\"y is:\")\n",
    "y = 10\n",
    "y -= 1\n",
    "print(y)\n"
   ]
  },
  {
   "cell_type": "markdown",
   "metadata": {},
   "source": [
    "### Conditionals: if, else, elif"
   ]
  },
  {
   "cell_type": "markdown",
   "metadata": {},
   "source": [
    "'if' statements evaluate a condition and execute code based on the results. They require a \":\" to terminate the condition, and an indent to denote the end of the code."
   ]
  },
  {
   "cell_type": "code",
   "execution_count": 12,
   "metadata": {},
   "outputs": [
    {
     "name": "stdout",
     "output_type": "stream",
     "text": [
      "x is less than 10\n"
     ]
    }
   ],
   "source": [
    "x = 10\n",
    "\n",
    "if x <= 10:\n",
    "    print(\"x is less than 10\")"
   ]
  },
  {
   "cell_type": "markdown",
   "metadata": {},
   "source": [
    "'else' statements provide a course of action when the 'if' is not met"
   ]
  },
  {
   "cell_type": "code",
   "execution_count": 14,
   "metadata": {},
   "outputs": [
    {
     "name": "stdout",
     "output_type": "stream",
     "text": [
      "x is more than or equal to 10\n"
     ]
    }
   ],
   "source": [
    "x = 11\n",
    "\n",
    "if x < 10:\n",
    "    print(\"x is less than 10\")\n",
    "else:\n",
    "    print(\"x is more than or equal to 10\")"
   ]
  },
  {
   "cell_type": "markdown",
   "metadata": {},
   "source": [
    "'elif' allows us to string code into block using the same syntax."
   ]
  },
  {
   "cell_type": "code",
   "execution_count": 16,
   "metadata": {},
   "outputs": [
    {
     "name": "stdout",
     "output_type": "stream",
     "text": [
      "x is 10\n"
     ]
    }
   ],
   "source": [
    "x = 10\n",
    "\n",
    "if x < 10:\n",
    "    print(\"x is less than 10\")\n",
    "elif x > 10:\n",
    "    print(\"x is greater than 10\")\n",
    "else:\n",
    "    print(\"x is 10\")"
   ]
  }
 ],
 "metadata": {
  "kernelspec": {
   "display_name": "Python 3",
   "language": "python",
   "name": "python3"
  },
  "language_info": {
   "codemirror_mode": {
    "name": "ipython",
    "version": 3
   },
   "file_extension": ".py",
   "mimetype": "text/x-python",
   "name": "python",
   "nbconvert_exporter": "python",
   "pygments_lexer": "ipython3",
   "version": "3.5.3"
  }
 },
 "nbformat": 4,
 "nbformat_minor": 2
}
