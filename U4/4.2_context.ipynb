{
 "cells": [
  {
   "cell_type": "markdown",
   "metadata": {},
   "source": [
    "# A Function in Context"
   ]
  },
  {
   "cell_type": "markdown",
   "metadata": {},
   "source": [
    "Now that we've seen a few simple functions, let's expand a litte. In this lesson we won't learn much in the way of new material; we'll mostly be examining how we use functions to improve things we already know. "
   ]
  },
  {
   "cell_type": "markdown",
   "metadata": {},
   "source": [
    "In a recent problem, we applied a tax to the total cost of a hot sauce spending spree. This is a good example of where a function can make things better: what if we want to apply a different tax rate? We can simply pass the cost and the tax rate to a function instead of changing the math at every point in the code. "
   ]
  },
  {
   "cell_type": "code",
   "execution_count": 6,
   "metadata": {},
   "outputs": [
    {
     "name": "stdout",
     "output_type": "stream",
     "text": [
      "1.06\n"
     ]
    }
   ],
   "source": [
    "\n",
    "def tax(total, rate):        # define tax, taking total and rate\n",
    "    rate = 1 + rate          # we add the rate to 1 for easy multiplying\n",
    "    result = total * rate    # the result is the price times the 1+rate\n",
    "    return result            # return the results \n",
    "\n",
    "test_total = 1.00            # try it on a dollar to check it easily\n",
    "test_rate = 0.06             # we'll use a 6% rate for whatever reason\n",
    "\n",
    "print(tax(test_total, test_rate))    # print out the results"
   ]
  },
  {
   "cell_type": "markdown",
   "metadata": {},
   "source": [
    "If we wanted to see different results for different rates, we could easily store them in sensibly names variables:"
   ]
  },
  {
   "cell_type": "code",
   "execution_count": 9,
   "metadata": {},
   "outputs": [
    {
     "name": "stdout",
     "output_type": "stream",
     "text": [
      "212.0 210.0 208.0\n"
     ]
    }
   ],
   "source": [
    "\n",
    "# whatever we want for cost\n",
    "cost = 200\n",
    "\n",
    "# try different values and store them\n",
    "six_pct = tax(cost, 0.06)\n",
    "five_pct = tax(cost, 0.05)\n",
    "four_pct = tax(cost, 0.04)\n",
    "\n",
    "print(six_pct, five_pct, four_pct)"
   ]
  },
  {
   "cell_type": "markdown",
   "metadata": {},
   "source": [
    "To further illustrate the contextual usage of functions, let's see how we could incorporate this into a useful program. Let's say we need to be sure we spend less than 100 dollars after tax. "
   ]
  },
  {
   "cell_type": "code",
   "execution_count": 16,
   "metadata": {},
   "outputs": [
    {
     "name": "stdout",
     "output_type": "stream",
     "text": [
      "90.02\n",
      "89.99\n"
     ]
    }
   ],
   "source": [
    "\n",
    "# a list of prices of different hypothetical objects\n",
    "objects = [95.00, 96.49, 90.02, 89.99]\n",
    "\n",
    "# our current tax rate is 7%\n",
    "tax_rate = 0.07\n",
    "\n",
    "# iterate through\n",
    "for item in objects:\n",
    "    # see if it is < 100 after tax\n",
    "    if tax(item, tax_rate) < 100:\n",
    "        print(item)"
   ]
  },
  {
   "cell_type": "markdown",
   "metadata": {},
   "source": [
    "We now know that the 90.02 and 89.99 items won't put us over our limit."
   ]
  },
  {
   "cell_type": "markdown",
   "metadata": {},
   "source": [
    "There isn't a technique and meta for this lesson because there is no new material . "
   ]
  },
  {
   "cell_type": "markdown",
   "metadata": {},
   "source": [
    "For practice, get the code running on your own, but change the prices and the cutoff. "
   ]
  }
 ],
 "metadata": {
  "kernelspec": {
   "display_name": "Python 3",
   "language": "python",
   "name": "python3"
  },
  "language_info": {
   "codemirror_mode": {
    "name": "ipython",
    "version": 3
   },
   "file_extension": ".py",
   "mimetype": "text/x-python",
   "name": "python",
   "nbconvert_exporter": "python",
   "pygments_lexer": "ipython3",
   "version": "3.5.3"
  }
 },
 "nbformat": 4,
 "nbformat_minor": 2
}
