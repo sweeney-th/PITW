{
 "cells": [
  {
   "cell_type": "markdown",
   "metadata": {},
   "source": [
    "# Functions "
   ]
  },
  {
   "cell_type": "markdown",
   "metadata": {},
   "source": [
    "So far, we have made extensive use of functions that are built into the Python language to get things done: len(), print(), type(), etc. What really makes programming powerful, however, is that you can define functions of your own. You can make these functions work however you want to. You'll write a definition once and then call the functions using their name and (), just like any other function."
   ]
  },
  {
   "cell_type": "markdown",
   "metadata": {},
   "source": [
    "It's difficult to overstate the importance of functions to writing good code. Besides the customization, we can also use them to make our programs much easier to maintain (more on this in a moment), much easier to read, and faster to write. "
   ]
  },
  {
   "cell_type": "markdown",
   "metadata": {},
   "source": [
    "Let's say we happen to find ourselves writing a program where we take the average of different list many times. This is time consuming and error prone, and is best avoided. Many programmers would say this violates the \"DRY\" rule (\"Don't repeated yourself\"). With a little work up front, we can make a function that takes the average of a list instead of writing out the code to do it line by line over and over. Let's start with a small example to learn the syntax, and then work our way up to writing something truly useful. "
   ]
  },
  {
   "cell_type": "markdown",
   "metadata": {},
   "source": [
    "We'll write a function that multiplies things by ten."
   ]
  },
  {
   "cell_type": "markdown",
   "metadata": {},
   "source": [
    "The keyword for defining a function in Python is 'def'. The syntax that follows is just like the 'for' and 'if' statements. Like the 'for' loop, we add the code we want the function to execute under the indentation."
   ]
  },
  {
   "cell_type": "markdown",
   "metadata": {},
   "source": [
    "After the 'def' keyword we write what we want the function to be called.\n",
    "\n",
    "After that, we do something new. We use ( ) to tell the function what we want it to act on. We get to pick what this is called (it will be clear soon), and we will tell it to act on \"number\" because the function multiplies numbers by 10 (naming these arguments is similar to naming a function - make it count!). "
   ]
  },
  {
   "cell_type": "markdown",
   "metadata": {},
   "source": [
    "Lastly, we want the function to return something. A function that takes something in usually spits something out. Intuitively, the keyword for this is simply return.\n",
    "\n",
    "The function below is called \"by_ten\". It takes a variable we are calling \"number\", multiplies it by ten, and returns it."
   ]
  },
  {
   "cell_type": "code",
   "execution_count": 12,
   "metadata": {},
   "outputs": [
    {
     "name": "stdout",
     "output_type": "stream",
     "text": [
      "50\n"
     ]
    }
   ],
   "source": [
    "\n",
    "# create a function called \"by_ten\" \n",
    "# that acts on \"number\", and returns \n",
    "# that number multiplied by 10.\n",
    "\n",
    "def by_ten(number):\n",
    "    results = number * 10\n",
    "    return results\n",
    "\n",
    "# use the function on the number.\n",
    "# we'll use 5 as \"number\"\n",
    "\n",
    "print(by_ten(5))"
   ]
  },
  {
   "cell_type": "markdown",
   "metadata": {},
   "source": [
    "Here is a hyper-commented verison, step-by-step:"
   ]
  },
  {
   "cell_type": "code",
   "execution_count": null,
   "metadata": {},
   "outputs": [],
   "source": [
    "\n",
    "# define a function called \"by_ten\" acts on what we'll call 'number'\n",
    "def by_ten(number):\n",
    "    # multiply the incoming 'number' by ten\n",
    "    # store in a variable called \"results\"\n",
    "    results = number * 10\n",
    "    # return the results\n",
    "    return results \n",
    "\n",
    "# print the results of calling the function on 5\n",
    "print(by_ten(5))    "
   ]
  },
  {
   "cell_type": "markdown",
   "metadata": {},
   "source": [
    "The first thing to confuse me about this was the word in the the ( ). It seems to come from nowhere - where did we define it? We didn't, it's telling the function that there will be something coming down the pike, and that when it sees it, it should call it 'number'. We then use the term 'number' throughout the function to refer to what we have passed to it. Remember, we can call that whatever we want. We could just as easily have written:"
   ]
  },
  {
   "cell_type": "code",
   "execution_count": 17,
   "metadata": {},
   "outputs": [
    {
     "name": "stdout",
     "output_type": "stream",
     "text": [
      "70\n"
     ]
    }
   ],
   "source": [
    "\n",
    "def by_ten(Alakazam):\n",
    "    results = Alakazam * 10\n",
    "    return results \n",
    "\n",
    "print(by_ten(7))"
   ]
  },
  {
   "cell_type": "markdown",
   "metadata": {},
   "source": [
    "Essentially, we are telling a function what to expect and what to do with it before it spits it back out."
   ]
  },
  {
   "cell_type": "markdown",
   "metadata": {},
   "source": [
    "The other thing that confused me was the 'return' statement. Why is it needed? Functions (generally) work be taking something in and sending something out. The return tell what to send out. If the ( ) are the entrance to a function, the 'return' statement is the way exit. "
   ]
  },
  {
   "cell_type": "markdown",
   "metadata": {},
   "source": [
    "Let's try another function to nail it down. This one will take a name as an argument, and print it out as a greeting with it."
   ]
  },
  {
   "cell_type": "code",
   "execution_count": 49,
   "metadata": {},
   "outputs": [
    {
     "name": "stdout",
     "output_type": "stream",
     "text": [
      "Hello, Edward, how's things?\n"
     ]
    }
   ],
   "source": [
    "\n",
    "# define greet() that acts on \"word\"\n",
    "def greet(word):\n",
    "    # add the strings of a greeting to the word on either side\n",
    "    greeting = \"Hello, \" + word + \", how's things?\"\n",
    "    # return the full greeting\n",
    "    return greeting\n",
    "\n",
    "# call it\n",
    "print(greet(\"Edward\"))"
   ]
  },
  {
   "cell_type": "markdown",
   "metadata": {},
   "source": [
    "This also makes a final and important point: we can pass whatever we cant to a function as long as the code in the function is appropriate for the type of data. For example, we can't try to take the average of a word."
   ]
  },
  {
   "cell_type": "markdown",
   "metadata": {},
   "source": [
    "### An Average Function "
   ]
  },
  {
   "cell_type": "markdown",
   "metadata": {},
   "source": [
    "Let's review the code we used to get the average of a list of numbers:"
   ]
  },
  {
   "cell_type": "code",
   "execution_count": 34,
   "metadata": {},
   "outputs": [
    {
     "name": "stdout",
     "output_type": "stream",
     "text": [
      "4.875\n"
     ]
    }
   ],
   "source": [
    "\n",
    "# a list of numbers\n",
    "numbers = [4, 5, 4, 6, 7, 4, 6, 3]\n",
    "\n",
    "# we need to know the total...\n",
    "total = sum(numbers)\n",
    "\n",
    "# ... and how many there are\n",
    "num_entries = len(numbers)\n",
    "\n",
    "# average \n",
    "average = total/num_entries\n",
    "\n",
    "# display \n",
    "print(average)"
   ]
  },
  {
   "cell_type": "markdown",
   "metadata": {},
   "source": [
    "Let's say we have more than one list:"
   ]
  },
  {
   "cell_type": "code",
   "execution_count": 36,
   "metadata": {},
   "outputs": [
    {
     "name": "stdout",
     "output_type": "stream",
     "text": [
      "4.875 5.625\n"
     ]
    }
   ],
   "source": [
    "# a lists of numbers\n",
    "numbers1 = [4, 5, 4, 6, 7, 4, 6, 3]\n",
    "numbers2 = [5 ,4 ,5, 7, 5, 5, 6, 8]\n",
    "\n",
    "# we need to know the totals...\n",
    "total1 = sum(numbers1)\n",
    "total2 = sum(numbers2)\n",
    "\n",
    "# ... and how many there are\n",
    "num_entries1 = len(numbers1)\n",
    "num_entries2 = len(numbers2)\n",
    "\n",
    "# averages\n",
    "average1 = total1/num_entries1\n",
    "average2 = total2/num_entries2"
   ]
  },
  {
   "cell_type": "markdown",
   "metadata": {},
   "source": [
    "In a program this size, this is still doable, but it's starting to get a little harder to manage. What about a third list?"
   ]
  },
  {
   "cell_type": "code",
   "execution_count": 38,
   "metadata": {},
   "outputs": [
    {
     "name": "stdout",
     "output_type": "stream",
     "text": [
      "4.875 5.625 4.75\n"
     ]
    }
   ],
   "source": [
    "# a list of numbers\n",
    "numbers1 = [4, 5, 4, 6, 7, 4, 6, 3]\n",
    "numbers2 = [5 ,4 ,5, 7, 5, 5, 6, 8]\n",
    "numbers3 = [3 ,4 ,5, 2, 5, 5, 6, 8]\n",
    "\n",
    "# we need to know the total...\n",
    "total1 = sum(numbers1)\n",
    "total2 = sum(numbers2)\n",
    "total3 = sum(numbers3)\n",
    "\n",
    "# ... and how many there are\n",
    "num_entries1 = len(numbers1)\n",
    "num_entries2 = len(numbers2)\n",
    "num_entries3 = len(numbers3)\n",
    "\n",
    "# average \n",
    "average1 = total1/num_entries1\n",
    "average2 = total2/num_entries2\n",
    "average3 = total3/num_entries3\n",
    "\n",
    "print(average1, average2, average3)"
   ]
  },
  {
   "cell_type": "markdown",
   "metadata": {},
   "source": [
    "This is getting to be a little much. Besides being obnoxious, it's also easy to make an error as the variables all look like one another. Worse, the error might not be apparent. If we type \"average2\" instead of \"average3\" when we're writing the code for the third average, we will still get a result because average two does exist and we can do math with it. The results will look totally right, and be totally wrong because they we using do the math with the wrong set of numbers for one step. This is where functions will save us. Observe."
   ]
  },
  {
   "cell_type": "code",
   "execution_count": 43,
   "metadata": {},
   "outputs": [],
   "source": [
    "# this function will take a list and return the average of it.\n",
    "# the code should look the same, it's just inside a function now.\n",
    "\n",
    "# define \"average\" that acts on \"number_list\"\n",
    "\n",
    "def average(number_list):\n",
    "    total = sum(number_list)    # get the total, as before\n",
    "    entries = len(number_list)  # get the number of entries\n",
    "    average = total/entries     # divide for the average\n",
    "    return average              # return it"
   ]
  },
  {
   "cell_type": "markdown",
   "metadata": {},
   "source": [
    "Let's test drive the new function:"
   ]
  },
  {
   "cell_type": "code",
   "execution_count": 41,
   "metadata": {},
   "outputs": [
    {
     "name": "stdout",
     "output_type": "stream",
     "text": [
      "4.875\n"
     ]
    }
   ],
   "source": [
    "\n",
    "# a list of numbers\n",
    "numbers = [4, 5, 4, 6, 7, 4, 6, 3]\n",
    "\n",
    "# call the average function\n",
    "def average(number_list):\n",
    "    total = sum(number_list)    # get the total, as before\n",
    "    entries = len(number_list)  # get the number of entries\n",
    "    average = total/entries     # divide for the average\n",
    "    return average              # return itprint(average(numbers))"
   ]
  },
  {
   "cell_type": "markdown",
   "metadata": {},
   "source": [
    "Now if we have 3 lists, we can easily get the information from them. I'll show the function again for the sake a practice. "
   ]
  },
  {
   "cell_type": "code",
   "execution_count": 48,
   "metadata": {},
   "outputs": [
    {
     "name": "stdout",
     "output_type": "stream",
     "text": [
      "4.875 5.625 4.75\n"
     ]
    }
   ],
   "source": [
    "def average(number_list):\n",
    "    total = sum(number_list)    # get the total, as before\n",
    "    entries = len(number_list)  # get the number of entries\n",
    "    average = total/entries     # divide for the average\n",
    "    return average              # return it\n",
    "\n",
    "# lists of numbers\n",
    "numbers1 = [4, 5, 4, 6, 7, 4, 6, 3]\n",
    "numbers2 = [5 ,4 ,5, 7, 5, 5, 6, 8]\n",
    "numbers3 = [3 ,4 ,5, 2, 5, 5, 6, 8]\n",
    "\n",
    "average1 = average(numbers1)\n",
    "average2 = average(numbers2)\n",
    "average3 = average(numbers3)\n",
    "\n",
    "print(average1, average2, average3)"
   ]
  },
  {
   "cell_type": "markdown",
   "metadata": {},
   "source": [
    "This is obviously a lot tidier. It's shorter, and the amount by which it is shorter will increase with each list we add. \n",
    "\n",
    "I also hinted at the idea of \"maintenance\". This refers to the work to update a program and keep it working. Let's say we wanted to change something about the way we found the average. To do so, we would need to make the change for each list in the first version of the program. With the function, we can just make the change to the function, and since the function is what calculates each average, the change will automatically apply to all the lists."
   ]
  },
  {
   "cell_type": "markdown",
   "metadata": {},
   "source": [
    "### Technique "
   ]
  },
  {
   "cell_type": "markdown",
   "metadata": {},
   "source": [
    "Functions are defined with the 'def' keyword. The rules for indentation and the \":\" are like those in the logical blocks we have seen before. The code in the indented block under the keyword will be executed the same way every time the function is called if we pass the appropriate type of data.\n",
    "\n",
    "The word in the ( ) is essentially a variable name that will be assigned to whatever we pass to the function. \n",
    "\n",
    "The word in the ( ) is the input. \n",
    "\n",
    "'return' designates the output."
   ]
  },
  {
   "cell_type": "markdown",
   "metadata": {},
   "source": [
    "### Meta "
   ]
  },
  {
   "cell_type": "markdown",
   "metadata": {},
   "source": [
    "Functions allow us to avoid repeating ourselves in our programs. The \"DRY\" rule is an acronym for \"Don't Repeat Yourself\". This decreases the chance of errors.\n",
    "\n",
    "Maintenance refers to the effort required to change of update software. Using functions means we can make the change once instead of every time a computation is executed. \n",
    "\n",
    "Writing code into functions when appropriate is considered a key aspect of quality coding. "
   ]
  },
  {
   "cell_type": "markdown",
   "metadata": {},
   "source": [
    "### Questions\n"
   ]
  },
  {
   "cell_type": "markdown",
   "metadata": {},
   "source": [
    "Q1) Write a function that takes a word and returns it in all lowercase form. "
   ]
  },
  {
   "cell_type": "markdown",
   "metadata": {},
   "source": [
    "Q2) Consider the following code. What happens when the code is run? What do you need to add to make it do what the title suggests the author had in mind? Add a print statement and call the function to investigate."
   ]
  },
  {
   "cell_type": "code",
   "execution_count": 59,
   "metadata": {},
   "outputs": [],
   "source": [
    "def increase_by_one(x):\n",
    "    x = x + 1"
   ]
  },
  {
   "cell_type": "markdown",
   "metadata": {},
   "source": [
    "Q3) Debug this code based one what the author is trying do. Add a call to the function and a print statement to investigate."
   ]
  },
  {
   "cell_type": "code",
   "execution_count": 64,
   "metadata": {},
   "outputs": [],
   "source": [
    "def decrease_by_two(number):\n",
    "    x -= 2\n",
    "    return x"
   ]
  }
 ],
 "metadata": {
  "kernelspec": {
   "display_name": "Python 3",
   "language": "python",
   "name": "python3"
  },
  "language_info": {
   "codemirror_mode": {
    "name": "ipython",
    "version": 3
   },
   "file_extension": ".py",
   "mimetype": "text/x-python",
   "name": "python",
   "nbconvert_exporter": "python",
   "pygments_lexer": "ipython3",
   "version": "3.5.3"
  }
 },
 "nbformat": 4,
 "nbformat_minor": 2
}
