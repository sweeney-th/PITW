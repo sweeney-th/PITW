{
 "cells": [
  {
   "cell_type": "markdown",
   "metadata": {},
   "source": [
    "Q1) Write a function that takes a word and returns it in all lowercase form. "
   ]
  },
  {
   "cell_type": "code",
   "execution_count": null,
   "metadata": {},
   "outputs": [],
   "source": []
  },
  {
   "cell_type": "code",
   "execution_count": 11,
   "metadata": {},
   "outputs": [
    {
     "name": "stdout",
     "output_type": "stream",
     "text": [
      "anderson\n"
     ]
    }
   ],
   "source": [
    "\n",
    "test_word = \"ANDERSON\"    # we'll need a test words\n",
    "\n",
    "def lower_word(word):     # define lower_word that acts on word\n",
    "    word = word.lower()   # update the word to be lower\n",
    "    return word           # return the word\n",
    "\n",
    "print(lower_word(test_word))"
   ]
  },
  {
   "cell_type": "markdown",
   "metadata": {},
   "source": [
    "Q2) Consider the following code. What happens when the code is run? What do you need to add to make it do what the title suggests the author had in mind? Add a print statement and call the function to investigate."
   ]
  },
  {
   "cell_type": "markdown",
   "metadata": {},
   "source": [
    "Everything here looked fine as it was, save it was missing a 'return' statement. All we have to do it add it. "
   ]
  },
  {
   "cell_type": "code",
   "execution_count": 6,
   "metadata": {},
   "outputs": [
    {
     "name": "stdout",
     "output_type": "stream",
     "text": [
      "10\n"
     ]
    }
   ],
   "source": [
    "def increase_by_one(x):\n",
    "    x = x + 1\n",
    "    return x        # all we were missing \n",
    "\n",
    "print(increase_by_one(9))"
   ]
  },
  {
   "cell_type": "markdown",
   "metadata": {},
   "source": [
    "Q3) Debug this code based one what the author is trying do. Add a call to the function and a print statement to investigate."
   ]
  },
  {
   "cell_type": "markdown",
   "metadata": {},
   "source": [
    "It appears the mystery author simply used inconsistent naming. We need to refer to the input as either \"x\" or \"number\" consistently. "
   ]
  },
  {
   "cell_type": "code",
   "execution_count": 10,
   "metadata": {},
   "outputs": [
    {
     "name": "stdout",
     "output_type": "stream",
     "text": [
      "2\n"
     ]
    }
   ],
   "source": [
    "def decrease_by_two(number):\n",
    "    number -= 2             # change x to number\n",
    "    return number           # change x to number\n",
    "\n",
    "print(decrease_by_two(4))"
   ]
  }
 ],
 "metadata": {
  "kernelspec": {
   "display_name": "Python 3",
   "language": "python",
   "name": "python3"
  },
  "language_info": {
   "codemirror_mode": {
    "name": "ipython",
    "version": 3
   },
   "file_extension": ".py",
   "mimetype": "text/x-python",
   "name": "python",
   "nbconvert_exporter": "python",
   "pygments_lexer": "ipython3",
   "version": "3.5.3"
  }
 },
 "nbformat": 4,
 "nbformat_minor": 2
}
