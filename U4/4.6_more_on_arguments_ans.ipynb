{
 "cells": [
  {
   "cell_type": "markdown",
   "metadata": {},
   "source": [
    "Q1) Write any function you want that does anything you want. Call it once without named arguments and once with them. "
   ]
  },
  {
   "cell_type": "markdown",
   "metadata": {},
   "source": [
    "Here is a function that I wrote that tells you the vowels vs. consonants of a word that you feed it. "
   ]
  },
  {
   "cell_type": "code",
   "execution_count": null,
   "metadata": {},
   "outputs": [],
   "source": [
    "def vowel_percent(word):\n",
    "    # define our vowels \n",
    "    vowels = [\"A\", \"E\", \"I\", \"O\", \"U\"]    \n",
    "    for letter in word:"
   ]
  },
  {
   "cell_type": "markdown",
   "metadata": {},
   "source": [
    "Q2) Write a function called \"repeat_yourself\". The function should be able to take an argument called \"name\" and an argument called \"repititions\". The function should print out \"names\" as many times as the number in \"repititions\" (each repeat on its own line). If the user doesn't enter anything, it should print out the word \"yourself\" ten times."
   ]
  },
  {
   "cell_type": "code",
   "execution_count": 6,
   "metadata": {},
   "outputs": [
    {
     "name": "stdout",
     "output_type": "stream",
     "text": [
      "Seattle\n",
      "Seattle\n",
      "Seattle\n",
      "Seattle\n",
      "Seattle\n",
      "yourself\n",
      "yourself\n",
      "yourself\n",
      "yourself\n",
      "yourself\n",
      "yourself\n",
      "yourself\n",
      "yourself\n",
      "yourself\n",
      "yourself\n"
     ]
    }
   ],
   "source": [
    "# define repeat_yourself that acts on 'name' and 'repititions'\n",
    "# and defaults to \"yourself\" and 10 as defaults\n",
    "\n",
    "def repeat_yourself(name = \"yourself\", repititions = 10):\n",
    "    # use range to iterate up to repititions\n",
    "    for number in range(repititions):\n",
    "        # print name each time \n",
    "        print(name)\n",
    "        \n",
    "repeat_yourself(\"Seattle\", 5)\n",
    "repeat_yourself()\n"
   ]
  }
 ],
 "metadata": {
  "kernelspec": {
   "display_name": "Python 3",
   "language": "python",
   "name": "python3"
  },
  "language_info": {
   "codemirror_mode": {
    "name": "ipython",
    "version": 3
   },
   "file_extension": ".py",
   "mimetype": "text/x-python",
   "name": "python",
   "nbconvert_exporter": "python",
   "pygments_lexer": "ipython3",
   "version": "3.5.3"
  }
 },
 "nbformat": 4,
 "nbformat_minor": 2
}
