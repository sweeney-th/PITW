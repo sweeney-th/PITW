{
 "cells": [
  {
   "cell_type": "markdown",
   "metadata": {},
   "source": [
    "### Booleans"
   ]
  },
  {
   "cell_type": "markdown",
   "metadata": {},
   "source": [
    "Working with functions provides a good practical context to introduce Booleans. In Python, Booleans keywords are True and False. They are often returned by functions to help direct the program in making decisions for is in conditionals. Take a look below:"
   ]
  },
  {
   "cell_type": "code",
   "execution_count": 1,
   "metadata": {},
   "outputs": [
    {
     "name": "stdout",
     "output_type": "stream",
     "text": [
      "True\n"
     ]
    }
   ],
   "source": [
    "\n",
    "# some random value \n",
    "x = 10 \n",
    "\n",
    "# enter a conditional to a print\n",
    "print(x < 100)"
   ]
  },
  {
   "cell_type": "markdown",
   "metadata": {},
   "source": [
    "We get a Boolean back, because 10 is in fact less than 100. What does this have to do with functions? Remeber when we used the modulus operator to see if numbers were even or odd? We can right that into a function if we use Booleans."
   ]
  },
  {
   "cell_type": "markdown",
   "metadata": {},
   "source": [
    "We will test to see if a number is even as the positive (True) condition, and then check down to the negative (False) condition."
   ]
  },
  {
   "cell_type": "code",
   "execution_count": 7,
   "metadata": {},
   "outputs": [
    {
     "name": "stdout",
     "output_type": "stream",
     "text": [
      "True\n",
      "False\n"
     ]
    }
   ],
   "source": [
    "\n",
    "def even(number):        # define even that acts on number\n",
    "    if number % 2 == 0:  # does dividing it by 2 leave 0?\n",
    "        return True      # than it's True that it is even\n",
    "    else:         \n",
    "        return False     # if not, it's False that it is even\n",
    "    \n",
    "\n",
    "# we can now test the function\n",
    "print(even(10))   # will be true\n",
    "print(even(11))   # will be false"
   ]
  },
  {
   "cell_type": "markdown",
   "metadata": {},
   "source": [
    "To show the code in context, we can use it on a list of numbers."
   ]
  },
  {
   "cell_type": "code",
   "execution_count": 12,
   "metadata": {},
   "outputs": [
    {
     "name": "stdout",
     "output_type": "stream",
     "text": [
      "2 is even!\n",
      "4 is even!\n",
      "6 is even!\n",
      "8 is even!\n",
      "10 is even!\n"
     ]
    }
   ],
   "source": [
    "\n",
    "# random number list\n",
    "numbers = [1, 2, 3, 4, 5, 6,7 ,8 ,9 ,10]\n",
    "\n",
    "for item in numbers:             # iterate through\n",
    "    if even(item) == True:       # this is a comparison, 2 =\n",
    "        print(item, \"is even!\")  # print a message with the item"
   ]
  },
  {
   "cell_type": "markdown",
   "metadata": {},
   "source": [
    "In the name of providing more than one example, consider this simplistic function that will tell you if something is over ten."
   ]
  },
  {
   "cell_type": "code",
   "execution_count": 13,
   "metadata": {},
   "outputs": [
    {
     "name": "stdout",
     "output_type": "stream",
     "text": [
      "True\n"
     ]
    }
   ],
   "source": [
    "\n",
    "def over_ten(number):        # define over_ten that acts on number\n",
    "    if number > 10:          # greater than 10?\n",
    "        return True          # then it is True\n",
    "    else:\n",
    "        return False         # then it is False\n",
    "    \n",
    "print(over_ten(500))         "
   ]
  },
  {
   "cell_type": "markdown",
   "metadata": {},
   "source": [
    "### Technique \n",
    "\n",
    "Booleans values are True and False. They are used to direct functions and evaluate conditions. \n",
    "\n",
    "Booleans can be 'returned' "
   ]
  },
  {
   "cell_type": "markdown",
   "metadata": {},
   "source": [
    "### Meta\n",
    "\n",
    "The term Boolean is often credited to George Boole, which is why it is sometimes capitalized. "
   ]
  },
  {
   "cell_type": "markdown",
   "metadata": {},
   "source": [
    "### Questions"
   ]
  },
  {
   "cell_type": "markdown",
   "metadata": {},
   "source": [
    "Q1) Make a function that returns a Boolean based on if a number is odd instead of even, ie odd is the positive (True) condition and even is the negative (False)."
   ]
  },
  {
   "cell_type": "markdown",
   "metadata": {},
   "source": [
    "Q2) Write any program using conditionals whose output is:\n",
    "\n",
    "True\n",
    "\n",
    "True\n",
    "\n",
    "False\n",
    "\n",
    "False\n",
    "\n",
    "True \n",
    "\n",
    "True \n",
    "\n",
    "False"
   ]
  },
  {
   "cell_type": "markdown",
   "metadata": {},
   "source": [
    "Q3)"
   ]
  }
 ],
 "metadata": {
  "kernelspec": {
   "display_name": "Python 3",
   "language": "python",
   "name": "python3"
  },
  "language_info": {
   "codemirror_mode": {
    "name": "ipython",
    "version": 3
   },
   "file_extension": ".py",
   "mimetype": "text/x-python",
   "name": "python",
   "nbconvert_exporter": "python",
   "pygments_lexer": "ipython3",
   "version": "3.5.3"
  }
 },
 "nbformat": 4,
 "nbformat_minor": 2
}
