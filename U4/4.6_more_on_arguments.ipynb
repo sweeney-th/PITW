{
 "cells": [
  {
   "cell_type": "markdown",
   "metadata": {},
   "source": [
    "### Named Arguments "
   ]
  },
  {
   "cell_type": "markdown",
   "metadata": {},
   "source": [
    "Remember the function we wrote to calculate price after tax?"
   ]
  },
  {
   "cell_type": "code",
   "execution_count": 1,
   "metadata": {},
   "outputs": [],
   "source": [
    "\n",
    "def tax(total, rate):        # define tax, taking total and rate\n",
    "    rate = 1 + rate          # we add the rate to 1 for easy multiplying\n",
    "    result = total * rate    # the result is the price times the 1+rate\n",
    "    return result            # return the results "
   ]
  },
  {
   "cell_type": "markdown",
   "metadata": {},
   "source": [
    "We used the function like this:"
   ]
  },
  {
   "cell_type": "code",
   "execution_count": 2,
   "metadata": {},
   "outputs": [
    {
     "name": "stdout",
     "output_type": "stream",
     "text": [
      "1.06\n"
     ]
    }
   ],
   "source": [
    "\n",
    "after_tax = tax(1.00, 0.06)\n",
    "print(after_tax)"
   ]
  },
  {
   "cell_type": "markdown",
   "metadata": {},
   "source": [
    "If we to be very clear what we are doing, we can use \"named arguments\", which explicitly tell the function which arguments go where. This function takes two arguments, one called total and one called rate."
   ]
  },
  {
   "cell_type": "code",
   "execution_count": 3,
   "metadata": {},
   "outputs": [
    {
     "name": "stdout",
     "output_type": "stream",
     "text": [
      "1.06\n"
     ]
    }
   ],
   "source": [
    "\n",
    "after_tax = tax(total = 1.00, rate = 0.06) # explicitly name arguments \n",
    "print(after_tax)"
   ]
  },
  {
   "cell_type": "markdown",
   "metadata": {},
   "source": [
    "This is handy if there are a lot of arguments to keep track of or you forget the order the go in. This still works even though we enter them \"backwards\"."
   ]
  },
  {
   "cell_type": "code",
   "execution_count": 4,
   "metadata": {},
   "outputs": [
    {
     "name": "stdout",
     "output_type": "stream",
     "text": [
      "1.06\n"
     ]
    }
   ],
   "source": [
    "after_tax = tax(rate = 0.06, total = 1.00)  # opposite order \n",
    "print(after_tax)"
   ]
  },
  {
   "cell_type": "markdown",
   "metadata": {},
   "source": [
    "Not that it is sometimes easier to read code if you break arguments up on their own lines. This is especially useful if there are a lot of arguments to keep track of."
   ]
  },
  {
   "cell_type": "code",
   "execution_count": 5,
   "metadata": {},
   "outputs": [
    {
     "name": "stdout",
     "output_type": "stream",
     "text": [
      "1.06\n"
     ]
    }
   ],
   "source": [
    "after_tax = tax(rate = 0.06, \n",
    "                total = 1.00)\n",
    "\n",
    "print(after_tax)"
   ]
  },
  {
   "cell_type": "markdown",
   "metadata": {},
   "source": [
    "### Default Arguments "
   ]
  },
  {
   "cell_type": "markdown",
   "metadata": {},
   "source": [
    "So far our functions have relied on us providing all the information they need. In the name of convenience though, it is sometimes helpful to provide default values that our function \"knows\" to use when we don't specify what to do. For example, let's say 90% of the time, the tax rate we are going to use is 5%. It's easier to have the function assume we're going to be using that value unless otherwise specified. We can do so by writing the number in the parenthesis in the function definition."
   ]
  },
  {
   "cell_type": "code",
   "execution_count": 6,
   "metadata": {},
   "outputs": [
    {
     "name": "stdout",
     "output_type": "stream",
     "text": [
      "1.05\n",
      "1.07\n"
     ]
    }
   ],
   "source": [
    "def tax(total, rate = 0.05):        # define a rate in the definition \n",
    "    rate = 1 + rate \n",
    "    result = total * rate\n",
    "    return result    \n",
    "\n",
    "\n",
    "default_tax = tax(1.00)             # call the function with no rate specifed \n",
    "print(default_tax)                  # viola! it \"knows\" to use 5%\n",
    "\n",
    "specified_tax = tax(1.00, 0.07)     # we can still specify if we want to though\n",
    "print(specified_tax)                # see that the specific one works, too"
   ]
  },
  {
   "cell_type": "markdown",
   "metadata": {},
   "source": [
    "In English, what we are saying is \"Use 5% unless otherwise specified\". We can \"specify\" by passing something else.  "
   ]
  },
  {
   "cell_type": "markdown",
   "metadata": {},
   "source": [
    "### Technique "
   ]
  },
  {
   "cell_type": "markdown",
   "metadata": {},
   "source": [
    "Named arguments are used to pass arguments very explicitly and can be done it any order."
   ]
  },
  {
   "cell_type": "markdown",
   "metadata": {},
   "source": [
    "Default arguments specify how a function should behave if the programmer does not give it explicit instructions."
   ]
  },
  {
   "cell_type": "markdown",
   "metadata": {},
   "source": [
    "### Meta"
   ]
  },
  {
   "cell_type": "markdown",
   "metadata": {},
   "source": [
    "Default arguments can be helpful to manage cases that are far more common then their alternatives without losing the flexibility of having a custom function."
   ]
  },
  {
   "cell_type": "markdown",
   "metadata": {},
   "source": [
    "### Questions"
   ]
  },
  {
   "cell_type": "markdown",
   "metadata": {},
   "source": [
    "Q1) Write any function you want that does anything you want. Call it once without named arguments and once with them. "
   ]
  },
  {
   "cell_type": "markdown",
   "metadata": {},
   "source": [
    "Q2) Write a function called \"repeat_yourself\". The function should be able to take an argument called \"name\" and an argument called \"repetitions\". The function should print out \"names\" as many times as the number in \"repetitions\". If the user doesn't enter any  thing, it should print out the word \"yourself\" ten times. "
   ]
  }
 ],
 "metadata": {
  "kernelspec": {
   "display_name": "Python 3",
   "language": "python",
   "name": "python3"
  },
  "language_info": {
   "codemirror_mode": {
    "name": "ipython",
    "version": 3
   },
   "file_extension": ".py",
   "mimetype": "text/x-python",
   "name": "python",
   "nbconvert_exporter": "python",
   "pygments_lexer": "ipython3",
   "version": "3.6.4"
  }
 },
 "nbformat": 4,
 "nbformat_minor": 2
}
