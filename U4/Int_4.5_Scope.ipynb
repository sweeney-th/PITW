{
 "cells": [
  {
   "cell_type": "markdown",
   "metadata": {},
   "source": [
    "# Scope"
   ]
  },
  {
   "cell_type": "markdown",
   "metadata": {},
   "source": [
    "In programming, scope refers to 'where' in our program variables accessible. Up until not, it didn't matter. We'd have a variable 'x' with a value, and if we set 'x' to something else later, that was the new value. But given that we pass things 'into' a function, and they are returned 'out' of a function, it implies that there can be more than one x. Consider the following example:"
   ]
  },
  {
   "cell_type": "code",
   "execution_count": 2,
   "metadata": {},
   "outputs": [],
   "source": [
    "\n",
    "# define an example function\n",
    "def example():\n",
    "    x = 10"
   ]
  },
  {
   "cell_type": "markdown",
   "metadata": {},
   "source": [
    "What would happen if we added a print statement to the bottom of this code to print x? We'd get an error because x has not been defined in the general program, only inside the function."
   ]
  },
  {
   "cell_type": "markdown",
   "metadata": {},
   "source": [
    "Python functions are said to have \"lexical\". This means that variables defined there are part of the \"lexicon\" of the function, not the outside world. The opposite of lexical scope is \"global\" scope, and that is where variables not found inside functions are. "
   ]
  },
  {
   "cell_type": "markdown",
   "metadata": {},
   "source": [
    "Consider the following code snippet. Why does x print 10?"
   ]
  },
  {
   "cell_type": "code",
   "execution_count": 1,
   "metadata": {},
   "outputs": [
    {
     "name": "stdout",
     "output_type": "stream",
     "text": [
      "10\n"
     ]
    }
   ],
   "source": [
    "x = 10\n",
    "\n",
    "def test():\n",
    "    x = 100\n",
    "    return x\n",
    "\n",
    "print(x)"
   ]
  },
  {
   "cell_type": "markdown",
   "metadata": {},
   "source": [
    "This is because x IS defined outside the function, and it is set to 10. To get access to the variable in the function, we'd need to call the function."
   ]
  },
  {
   "cell_type": "markdown",
   "metadata": {},
   "source": [
    "Consider the following:"
   ]
  },
  {
   "cell_type": "code",
   "execution_count": 5,
   "metadata": {},
   "outputs": [
    {
     "name": "stdout",
     "output_type": "stream",
     "text": [
      "Scope outside function: 10\n",
      "Scope in first function: 200\n",
      "Scope in second function: 300\n"
     ]
    }
   ],
   "source": [
    "x = 10\n",
    "\n",
    "def scope2():\n",
    "    x = 200\n",
    "    return x\n",
    "    \n",
    "def scope3():\n",
    "    x = 300\n",
    "    return x\n",
    "\n",
    "print(\"Scope outside function:\", x)\n",
    "print(\"Scope in first function:\", scope2())\n",
    "print(\"Scope in second function:\", scope3())"
   ]
  },
  {
   "cell_type": "markdown",
   "metadata": {},
   "source": [
    "The thinking behind this, in part, is that it keeps our programs neat; it we were writing a bunch of math functions that took numbers and computed results based on them, we would have to call the number something different in each function. "
   ]
  },
  {
   "cell_type": "markdown",
   "metadata": {},
   "source": [
    " "
   ]
  },
  {
   "cell_type": "code",
   "execution_count": null,
   "metadata": {},
   "outputs": [],
   "source": []
  }
 ],
 "metadata": {
  "kernelspec": {
   "display_name": "Python 3",
   "language": "python",
   "name": "python3"
  },
  "language_info": {
   "codemirror_mode": {
    "name": "ipython",
    "version": 3
   },
   "file_extension": ".py",
   "mimetype": "text/x-python",
   "name": "python",
   "nbconvert_exporter": "python",
   "pygments_lexer": "ipython3",
   "version": "3.5.3"
  }
 },
 "nbformat": 4,
 "nbformat_minor": 2
}
