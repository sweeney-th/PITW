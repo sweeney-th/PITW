{
 "cells": [
  {
   "cell_type": "markdown",
   "metadata": {},
   "source": [
    "# Interlude: Void Functions"
   ]
  },
  {
   "cell_type": "markdown",
   "metadata": {},
   "source": [
    "Up to this point we have used functions with return statements. This interlude is simply to point out that not every function has to return something. These functions are called void functions. A lot of the time, void functions print out information but don't return anything that would be stored in a variable. "
   ]
  },
  {
   "cell_type": "markdown",
   "metadata": {},
   "source": [
    "Here is a simple example. The function, a modifed version of the greet() function we say in the introduction to this unit, takes a name and prints out a greeting. It doesn't, however, return anything. Take a look:"
   ]
  },
  {
   "cell_type": "code",
   "execution_count": 13,
   "metadata": {},
   "outputs": [
    {
     "name": "stdout",
     "output_type": "stream",
     "text": [
      "Hello, Carly, how's it going?\n"
     ]
    }
   ],
   "source": [
    "\n",
    "def greet(name):\n",
    "    print(\"Hello,\", name + \",\", \"how's it going?\")      # print a greeting?\n",
    "\n",
    "greet(\"Carly\")  # notice we dont have to say print(), it is in the function"
   ]
  },
  {
   "cell_type": "markdown",
   "metadata": {},
   "source": [
    "There are other examples of void functions, especially in other languages, so we should know they exist. The are handy when you want to display information to a user, etc. "
   ]
  },
  {
   "cell_type": "markdown",
   "metadata": {},
   "source": [
    "Since this is an informal interlude, why did I use name + \",\" in the code above when I just used the comma syntax for everything else?\n"
   ]
  },
  {
   "cell_type": "markdown",
   "metadata": {},
   "source": [
    "To find out change the line to:\n",
    "\n",
    "print(\"Hello,\", name, \", how's it going?\")\n",
    "\n",
    ":)\n"
   ]
  },
  {
   "cell_type": "code",
   "execution_count": 19,
   "metadata": {},
   "outputs": [
    {
     "name": "stdout",
     "output_type": "stream",
     "text": [
      "20\n"
     ]
    }
   ],
   "source": [
    "def void_example():           # define void_example that takes no arguments\n",
    "    message = \"Still works!\"  # define a message in \n",
    "    print(message)            # print the message\n",
    "\n",
    "void_example()                # call the functions "
   ]
  }
 ],
 "metadata": {
  "kernelspec": {
   "display_name": "Python 3",
   "language": "python",
   "name": "python3"
  },
  "language_info": {
   "codemirror_mode": {
    "name": "ipython",
    "version": 3
   },
   "file_extension": ".py",
   "mimetype": "text/x-python",
   "name": "python",
   "nbconvert_exporter": "python",
   "pygments_lexer": "ipython3",
   "version": "3.5.3"
  }
 },
 "nbformat": 4,
 "nbformat_minor": 2
}
