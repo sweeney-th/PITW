{
 "cells": [
  {
   "cell_type": "markdown",
   "metadata": {},
   "source": [
    "# Functions and Lists"
   ]
  },
  {
   "cell_type": "markdown",
   "metadata": {},
   "source": [
    "It is worth taking the time to say explicitly that there is nothing stopping us from passing a list to a function: The following code take a list and prints out each item in it."
   ]
  },
  {
   "cell_type": "code",
   "execution_count": 2,
   "metadata": {},
   "outputs": [
    {
     "name": "stdout",
     "output_type": "stream",
     "text": [
      "Sanatarium\n",
      "let\n",
      "me\n",
      "be\n"
     ]
    }
   ],
   "source": [
    "sample = [\"Sanatarium\", \"let\", \"me\", \"be\"]\n",
    "\n",
    "def display(list_to_display):\n",
    "    for item in list_to_display:\n",
    "        print(item)\n",
    "        \n",
    "display(sample)"
   ]
  },
  {
   "cell_type": "markdown",
   "metadata": {},
   "source": [
    "Similarly, a function can return a list: "
   ]
  },
  {
   "cell_type": "code",
   "execution_count": 3,
   "metadata": {},
   "outputs": [
    {
     "name": "stdout",
     "output_type": "stream",
     "text": [
      "['t', 'w', 'e', 'n', 't', 'y', '-', 'o', 'n', 'e']\n",
      "<class 'list'>\n"
     ]
    }
   ],
   "source": [
    "thing = \"twenty-one\"\n",
    "\n",
    "def split_into_letters(word):\n",
    "    # prepare an empty list\n",
    "    results = []\n",
    "    # iterate through\n",
    "    for letter in word:\n",
    "        # add them to list\n",
    "        results.append(letter)\n",
    "    return results\n",
    "        \n",
    "example = split_into_letters(thing)\n",
    "print(example)\n",
    "print(type(example))"
   ]
  }
 ],
 "metadata": {
  "kernelspec": {
   "display_name": "Python 3",
   "language": "python",
   "name": "python3"
  },
  "language_info": {
   "codemirror_mode": {
    "name": "ipython",
    "version": 3
   },
   "file_extension": ".py",
   "mimetype": "text/x-python",
   "name": "python",
   "nbconvert_exporter": "python",
   "pygments_lexer": "ipython3",
   "version": "3.6.4"
  }
 },
 "nbformat": 4,
 "nbformat_minor": 2
}
