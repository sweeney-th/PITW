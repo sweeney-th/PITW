{
 "cells": [
  {
   "cell_type": "markdown",
   "metadata": {},
   "source": [
    "# The peanut-butter and jelly of paired data: zip() and dict()"
   ]
  },
  {
   "cell_type": "markdown",
   "metadata": {},
   "source": [
    "Let's say we have two lists of names and want to store them as paired data in a dictionary. All we need to do to get a nice, tidy, dictionary out of it is the following (I'll show the running code and then go through it afterwards with a more realistic use case)."
   ]
  },
  {
   "cell_type": "code",
   "execution_count": 54,
   "metadata": {},
   "outputs": [
    {
     "name": "stdout",
     "output_type": "stream",
     "text": [
      "A 1\n",
      "B 2\n",
      "C 3\n"
     ]
    }
   ],
   "source": [
    "\n",
    "# here are our two lists\n",
    "first = [\"A\",\"B\",\"C\"]\n",
    "second = [\"1\",\"2\",\"3\"]\n",
    "\n",
    "# make a dict from the output of zipping the two iterables\n",
    "third = dict(zip(first, second))\n",
    "\n",
    "# iterate thorough and show we got what we were looking for\n",
    "for item in z:\n",
    "    print(item, third[item])"
   ]
  },
  {
   "cell_type": "markdown",
   "metadata": {},
   "source": [
    "That's it. What's going on here? Let's take a closer look."
   ]
  },
  {
   "cell_type": "markdown",
   "metadata": {},
   "source": [
    "\n",
    "Python has a \"zip\" function that will return a zip object of tuples (don't worry if that sounds weird; it just means it is a zip class and has our data stored in a way such that it can't be modified). It takes iteratable objects like lists as arguments, in our case, just two. It goes through the lists in order, and \"zips\" them together, first item to first item, second to second, and so on."
   ]
  },
  {
   "cell_type": "code",
   "execution_count": 50,
   "metadata": {},
   "outputs": [
    {
     "name": "stdout",
     "output_type": "stream",
     "text": [
      "<zip object at 0x7efc545fb608>\n",
      "<class 'zip'>\n"
     ]
    }
   ],
   "source": [
    "\n",
    "# here are our to lists\n",
    "first = [\"Christopher\",\"Jo-Vaughn\",\"Sean\",\"Sir Robert Bryson\",\"Jermaine\",\"Alexander\",\"Tariq\",\"Kendrick\",\"Tupac\"]\n",
    "last = [\"Wallace\",\"Scott\",\"Carter\",\"Hall II\",\"Cole\",\"Hamilton\",\"Trotter\",\"Duckworth\",\"Shakur\"]\n",
    "\n",
    "# call the zip function that takes iteratable structure \n",
    "names = zip(first, last)\n",
    "\n",
    "# if we print it out, we see we have a zip object and memory address\n",
    "print(names)\n",
    "print(type(names))"
   ]
  },
  {
   "cell_type": "markdown",
   "metadata": {},
   "source": [
    "While they are in the object, we can't use them as paired data directly. Fortunately, the dict() function will take a list of tuples and return a dictionary. "
   ]
  },
  {
   "cell_type": "code",
   "execution_count": 51,
   "metadata": {},
   "outputs": [
    {
     "name": "stdout",
     "output_type": "stream",
     "text": [
      "Christopher Wallace\n",
      "Jo-Vaughn Scott\n",
      "Sean Carter\n",
      "Sir Robert Bryson Hall II\n",
      "Jermaine Cole\n",
      "Alexander Hamilton\n",
      "Tariq Trotter\n",
      "Kendrick Duckworth\n",
      "Tupac Shakur\n"
     ]
    }
   ],
   "source": [
    "\n",
    "# use the dict function on the zip object\n",
    "names = dict(names)\n",
    "\n",
    "# print out the evidence\n",
    "for item in names:\n",
    "    print(item, names[item])"
   ]
  },
  {
   "cell_type": "markdown",
   "metadata": {},
   "source": [
    "Note that this will also work with ints and floats. That's all there is to it. Thanks for reading. "
   ]
  }
 ],
 "metadata": {
  "kernelspec": {
   "display_name": "Python 3",
   "language": "python",
   "name": "python3"
  },
  "language_info": {
   "codemirror_mode": {
    "name": "ipython",
    "version": 3
   },
   "file_extension": ".py",
   "mimetype": "text/x-python",
   "name": "python",
   "nbconvert_exporter": "python",
   "pygments_lexer": "ipython3",
   "version": "3.6.3"
  }
 },
 "nbformat": 4,
 "nbformat_minor": 2
}
