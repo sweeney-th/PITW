{
 "cells": [
  {
   "cell_type": "markdown",
   "metadata": {},
   "source": [
    "# Find and Replace Deluxe:\n",
    "## How to use a Python dict for find/replace functions "
   ]
  },
  {
   "cell_type": "markdown",
   "metadata": {},
   "source": [
    "We're going to go through several examples of find-and-replace tasks of varying complexity. We'll also find some potential hiccups and how to avoid them. We're going to use a simple string that is a coherent message if the code works and is hard to read if it isn't to see if our efforts are working."
   ]
  },
  {
   "cell_type": "markdown",
   "metadata": {},
   "source": [
    "### Simple character-character substitution\n",
    "\n",
    "Replacing one character with another is pretty straightforward using a function. This function takes the string and the dict as arguments, iterates through them, and makes the replacements. You'll notice it has an \"if\" statement. This is to make sure that the item exists in our dict or else we get a keyError. We can't replace something will the right pair in the dict if the item isn't in the dict, and, if you think about it, that's what we're trying to do if we iterate over every letter and look it up in the dict regardless of whether or not it's there. "
   ]
  },
  {
   "cell_type": "markdown",
   "metadata": {},
   "source": [
    "Note: I'm going to comment every line on this one to make sure we're on the same page as this function will serve as the basis of all the ones coming after it. After that, I'll just highlight what is different about the function."
   ]
  },
  {
   "cell_type": "code",
   "execution_count": 33,
   "metadata": {},
   "outputs": [
    {
     "data": {
      "text/plain": [
       "'HERE-IS-A-SAMPLE-STRING'"
      ]
     },
     "execution_count": 33,
     "metadata": {},
     "output_type": "execute_result"
    }
   ],
   "source": [
    "\n",
    "# here is our target string, contaminated with \"X\"s\n",
    "s = \"HEREXISXAXSAMPLEXSTRING\"\n",
    "\n",
    "# dictionary pairs \"X\" with \"-\"\n",
    "d = {\"X\":\"-\"}\n",
    "\n",
    "# define a functions that takes a string and a dict\n",
    "def find_replace(string, dictionary):\n",
    "    # is the item in the dict?\n",
    "    for item in string:\n",
    "        # iterate by keys\n",
    "        if item in dictionary.keys():\n",
    "            # look up and replace\n",
    "            string = string.replace(item, dictionary[item])\n",
    "    # return updated string\n",
    "    return string\n",
    "\n",
    "# call the funciton\n",
    "find_replace(s,d)"
   ]
  },
  {
   "cell_type": "markdown",
   "metadata": {},
   "source": [
    "We can see that all the \"X\"s have been replaced by \"-\", their paired value."
   ]
  },
  {
   "cell_type": "markdown",
   "metadata": {},
   "source": [
    "### Replacing multi-character values"
   ]
  },
  {
   "cell_type": "markdown",
   "metadata": {},
   "source": [
    "This follows the same basic pattern, but uses a simple regex function. We will get rid of \"ABC\"s instead of \"X\"s. We import the re library and modify our string and dict for the test."
   ]
  },
  {
   "cell_type": "code",
   "execution_count": 34,
   "metadata": {},
   "outputs": [
    {
     "data": {
      "text/plain": [
       "'HERE-IS-A-SAMPLE-STRING'"
      ]
     },
     "execution_count": 34,
     "metadata": {},
     "output_type": "execute_result"
    }
   ],
   "source": [
    "\n",
    "import re\n",
    "\n",
    "s = \"HEREABCISABCAABCSAMPLEABCSTRING\"\n",
    "\n",
    "d = {\"ABC\":\"-\"}\n",
    "\n",
    "def find_replace_multi(string, dictionary):\n",
    "    for item in dictionary.keys():\n",
    "        # sub item for item's paired value in string\n",
    "        string = re.sub(item, dictionary[item], string)\n",
    "    return string\n",
    "\n",
    "find_replace_multi(s, d)"
   ]
  },
  {
   "cell_type": "markdown",
   "metadata": {},
   "source": [
    "### Replacing single and multi character patterns... oh wait, crap...."
   ]
  },
  {
   "cell_type": "markdown",
   "metadata": {},
   "source": [
    "There is a final kink in this however. What would happen if one of the single character values we wanted to replace is in the multi-character string? Let's walk through the problem from right before we discover it to how we solve it to understand why it occurs not just how to get rid of it."
   ]
  },
  {
   "cell_type": "code",
   "execution_count": 35,
   "metadata": {},
   "outputs": [
    {
     "data": {
      "text/plain": [
       "'HERE-IS-ACSAMPLE-STRING'"
      ]
     },
     "execution_count": 35,
     "metadata": {},
     "output_type": "execute_result"
    }
   ],
   "source": [
    "\n",
    "# the middle \"ABC\" has been replaced with just an \"C\"\n",
    "s = \"HEREABCISABCACSAMPLEABCSTRING\"\n",
    "\n",
    "# ...which we see \n",
    "find_replace_multi(s,d)"
   ]
  },
  {
   "cell_type": "markdown",
   "metadata": {},
   "source": [
    "Alas! It seems we have a variation. One of the \"ABC\"s is just a \"C\". No problem, right? We just update the dictionary (spoiler alert: this doesn't work)."
   ]
  },
  {
   "cell_type": "code",
   "execution_count": 36,
   "metadata": {},
   "outputs": [
    {
     "data": {
      "text/plain": [
       "'HERE-IS-A-SAMPLE-STRING'"
      ]
     },
     "execution_count": 36,
     "metadata": {},
     "output_type": "execute_result"
    }
   ],
   "source": [
    "\n",
    "# the troublesome string\n",
    "s = \"HEREABCISABCACSAMPLEABCSTRING\"\n",
    "\n",
    "# new dictionary to get rid of \"C\"\n",
    "d ={\"C\":\"-\", \"ABC\":\"-\"}\n",
    "\n",
    "find_replace_multi(s,d)"
   ]
  },
  {
   "cell_type": "markdown",
   "metadata": {},
   "source": [
    "We got rid of the \"C\", but now have these \"AB\"s everywhere. "
   ]
  },
  {
   "cell_type": "markdown",
   "metadata": {},
   "source": [
    "What's happened here is that the function went through and removed all the \"C\"s just like we told it to. The side effect, however, is that the pattern \"ABC\" doesn't exist any more; they've all been turned into \"AB-\"s so they don't match anything in our dictionary. "
   ]
  },
  {
   "cell_type": "markdown",
   "metadata": {},
   "source": [
    "Can we score an easy solve by changing the order of the entries in the dict manually? Let's try putting the \"ABC\" first to see if it gets replaced first (hint: no)"
   ]
  },
  {
   "cell_type": "code",
   "execution_count": 37,
   "metadata": {},
   "outputs": [
    {
     "data": {
      "text/plain": [
       "'HERE-IS-A-SAMPLE-STRING'"
      ]
     },
     "execution_count": 37,
     "metadata": {},
     "output_type": "execute_result"
    }
   ],
   "source": [
    "\n",
    "# the troublesome string\n",
    "s = \"HEREABCISABCACSAMPLEABCSTRING\"\n",
    "\n",
    "# simply switching the order in the dict delcaration itself\n",
    "d ={\"ABC\":\"-\", \"C\":\"-\"}\n",
    "\n",
    "find_replace_multi(s,d)"
   ]
  },
  {
   "cell_type": "markdown",
   "metadata": {},
   "source": [
    "Nope! Why? Remember that in the function we are iterating through the keys in the dictionary in the first line of the function after the definition.\n"
   ]
  },
  {
   "cell_type": "raw",
   "metadata": {},
   "source": [
    "    for item in dictionary.keys():"
   ]
  },
  {
   "cell_type": "markdown",
   "metadata": {},
   "source": [
    "Let's look under the hood. We can use a print statement to see what order the keys are going on."
   ]
  },
  {
   "cell_type": "code",
   "execution_count": 38,
   "metadata": {},
   "outputs": [
    {
     "name": "stdout",
     "output_type": "stream",
     "text": [
      "dict_keys(['ABC', 'C'])\n"
     ]
    }
   ],
   "source": [
    "print(d.keys())"
   ]
  },
  {
   "cell_type": "markdown",
   "metadata": {},
   "source": [
    "And there we have it! The \"C\" comes first in the iteration. "
   ]
  },
  {
   "cell_type": "markdown",
   "metadata": {},
   "source": [
    "### So what do we do?\n",
    "My solution for this problem is to make sure we iterate through the dictionary keys from largest by length to smallest to ensure that we don't replace any pieces of them by accident. We can do this by using the sorted() function and using the reverse = True options (it goes smallest to largest by default). Check it."
   ]
  },
  {
   "cell_type": "code",
   "execution_count": 39,
   "metadata": {},
   "outputs": [
    {
     "data": {
      "text/plain": [
       "'HERE-IS-A-SAMPLE-STRING'"
      ]
     },
     "execution_count": 39,
     "metadata": {},
     "output_type": "execute_result"
    }
   ],
   "source": [
    "\n",
    "s = \"HEREABCISABCACSAMPLEABCSTRING\"\n",
    "\n",
    "d ={\"C\":\"-\", \"ABC\":\"-\"}\n",
    "\n",
    "def find_replace_multi_ordered(string, dictionary):\n",
    "    # sort keys by length, in reverse order\n",
    "    for item in sorted(dictionary.keys(), key = len, reverse = True):\n",
    "        string = re.sub(item, dictionary[item], string)\n",
    "    return string\n",
    "\n",
    "find_replace_multi_ordered(s, d)"
   ]
  },
  {
   "cell_type": "markdown",
   "metadata": {},
   "source": [
    "Looks as if we are on the right track. I'll write one more test to be sure. To confirm that the largest is going first, and not simply that \"ABC\" is going before \"C\", we'll add another value to the dict (the rest of the code stays the same). I'll use \"CSAMPLEABC\", because the only way for that to be replaced is if it goes before \"C\" and \"ABC\" as BOTH of those strings are in it."
   ]
  },
  {
   "cell_type": "code",
   "execution_count": 40,
   "metadata": {},
   "outputs": [
    {
     "data": {
      "text/plain": [
       "'HERE-IS-A- :) -STRING'"
      ]
     },
     "execution_count": 40,
     "metadata": {},
     "output_type": "execute_result"
    }
   ],
   "source": [
    "s = \"HEREABCISABCACSAMPLEABCSTRING\"\n",
    "\n",
    "d ={\"C\":\"-\", \"ABC\":\"-\", \"CSAMPLEABC\":\"- :) -\"}\n",
    "\n",
    "def find_replace_multi_ordered(string, dictionary):\n",
    "    # sort keys by length, in reverse order\n",
    "    for item in sorted(dictionary.keys(), key = len, reverse = True):\n",
    "        string = re.sub(item, dictionary[item], string)\n",
    "    return string\n",
    "\n",
    "find_replace_multi_ordered(s, d)"
   ]
  },
  {
   "cell_type": "markdown",
   "metadata": {},
   "source": [
    "And there we have it! Our final function. It's worth noting that, while I made the initial character-character find-and-replace function to work us up to this one, we final function will work for simple character-character substitutions too, so we only need the one, final version for all the tasks here. I'd advise doing so because it has error avoidance with the iteration and the \"if\" statment."
   ]
  },
  {
   "cell_type": "markdown",
   "metadata": {},
   "source": [
    "### If you're the type to stick around after the credits..."
   ]
  },
  {
   "cell_type": "markdown",
   "metadata": {},
   "source": [
    "...here is a bonus and final note of caution:\n",
    "\n",
    "What goes wrong if we don't use the new version?"
   ]
  },
  {
   "cell_type": "markdown",
   "metadata": {},
   "source": [
    "This version of the function avoids situations that seem fine but could cause problems. Python dictionaries are unordered. There is, generally, no reason to store the items in order because you look up things up with keys, not an index like an array. Note that the order stays the same, it's just generated with no concern for sequence.\n",
    "\n",
    "If you're using a dictionary then, it's thus possible to \"accidentally\" find and replace in the \"right\" order. This will produce the exact results you are looking for but might not in the future if the dictionary is ever updated. For example, if \"ABC\" happened to be replaced before \"A\", it would look like things were fine, but the next time you run the code from scratch they might not be."
   ]
  }
 ],
 "metadata": {
  "kernelspec": {
   "display_name": "Python 3",
   "language": "python",
   "name": "python3"
  },
  "language_info": {
   "codemirror_mode": {
    "name": "ipython",
    "version": 3
   },
   "file_extension": ".py",
   "mimetype": "text/x-python",
   "name": "python",
   "nbconvert_exporter": "python",
   "pygments_lexer": "ipython3",
   "version": "3.5.3"
  }
 },
 "nbformat": 4,
 "nbformat_minor": 2
}
