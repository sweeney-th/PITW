{
 "cells": [
  {
   "cell_type": "markdown",
   "metadata": {},
   "source": [
    "Q1) Write any function you want that does anything you want. Call it once without named arguments and once with them. "
   ]
  },
  {
   "cell_type": "markdown",
   "metadata": {},
   "source": [
    "Here is a function that I wrote that tells you the vowels vs. consonants of a word that you feed it. "
   ]
  },
  {
   "cell_type": "code",
   "execution_count": 7,
   "metadata": {},
   "outputs": [],
   "source": [
    "\n",
    "def vowel_percent(word):\n",
    "    # start at no vowels\n",
    "    vowel_count = 0\n",
    "    # define what vowels are \n",
    "    vowels = [\"A\", \"E\", \"I\", \"O\", \"U\"]\n",
    "    # iterate through the letters\n",
    "    for letter in word:\n",
    "        # are they in vowels?\n",
    "        if letter in vowels:\n",
    "            # count them\n",
    "            vowel_count += 1\n",
    "    # as a percent \n",
    "    return vowel_count/len(word)"
   ]
  },
  {
   "cell_type": "markdown",
   "metadata": {},
   "source": [
    "Some of you reading this are no doubt wondering \"what about 'Y'?\". We could easily add the letter 'Y' to the list. But there is a more refined approach. Let's make counting 'Y' an optional argument. If the user wants to use it they can. If not? No big deal. We can even set a default behavior. "
   ]
  },
  {
   "cell_type": "code",
   "execution_count": 6,
   "metadata": {},
   "outputs": [
    {
     "name": "stdout",
     "output_type": "stream",
     "text": [
      "0.25\n",
      "0.5\n"
     ]
    }
   ],
   "source": [
    "\n",
    "def vowel_percent(word, count_y = True):\n",
    "    # start at no vowels\n",
    "    vowel_count = 0\n",
    "    # define what vowels are \n",
    "    vowels = [\"A\", \"E\", \"I\", \"O\", \"U\"]\n",
    "    # counting y?\n",
    "    if count_y == True:\n",
    "        # add it if needed\n",
    "        vowels.append(\"Y\")\n",
    "    # iterate through the letters\n",
    "    for letter in word:\n",
    "        # are they in vowels?\n",
    "        if letter in vowels:\n",
    "            # count them\n",
    "            vowel_count += 1\n",
    "    # as a percent \n",
    "    return vowel_count/len(word)\n",
    "\n",
    "# call the function without counting the \"y\"\n",
    "print(vowel_percent(\"YAMS\", count_y = False))\n",
    "# call with the default behavior\n",
    "print(vowel_percent(\"YAMS\"))"
   ]
  },
  {
   "cell_type": "markdown",
   "metadata": {},
   "source": [
    "Q2) Write a function called \"repeat_yourself\". The function should be able to take an argument called \"name\" and an argument called \"repititions\". The function should print out \"names\" as many times as the number in \"repititions\" (each repeat on its own line). If the user doesn't enter anything, it should print out the word \"yourself\" ten times."
   ]
  },
  {
   "cell_type": "code",
   "execution_count": 6,
   "metadata": {},
   "outputs": [
    {
     "name": "stdout",
     "output_type": "stream",
     "text": [
      "Seattle\n",
      "Seattle\n",
      "Seattle\n",
      "Seattle\n",
      "Seattle\n",
      "yourself\n",
      "yourself\n",
      "yourself\n",
      "yourself\n",
      "yourself\n",
      "yourself\n",
      "yourself\n",
      "yourself\n",
      "yourself\n",
      "yourself\n"
     ]
    }
   ],
   "source": [
    "# define repeat_yourself that acts on 'name' and 'repititions'\n",
    "# and defaults to \"yourself\" and 10 as defaults\n",
    "\n",
    "def repeat_yourself(name = \"yourself\", repititions = 10):\n",
    "    # use range to iterate up to repititions\n",
    "    for number in range(repititions):\n",
    "        # print name each time \n",
    "        print(name)\n",
    "        \n",
    "repeat_yourself(\"Seattle\", 5)\n",
    "repeat_yourself()\n"
   ]
  }
 ],
 "metadata": {
  "kernelspec": {
   "display_name": "Python 3",
   "language": "python",
   "name": "python3"
  },
  "language_info": {
   "codemirror_mode": {
    "name": "ipython",
    "version": 3
   },
   "file_extension": ".py",
   "mimetype": "text/x-python",
   "name": "python",
   "nbconvert_exporter": "python",
   "pygments_lexer": "ipython3",
   "version": "3.6.4"
  }
 },
 "nbformat": 4,
 "nbformat_minor": 2
}
