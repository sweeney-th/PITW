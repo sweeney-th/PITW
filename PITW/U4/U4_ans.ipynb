{
 "cells": [
  {
   "cell_type": "markdown",
   "metadata": {},
   "source": [
    "Q1) Fix the following function.\n"
   ]
  },
  {
   "cell_type": "markdown",
   "metadata": {},
   "source": [
    "It is just missing the return statement. Psyche. "
   ]
  },
  {
   "cell_type": "code",
   "execution_count": 9,
   "metadata": {},
   "outputs": [
    {
     "name": "stdout",
     "output_type": "stream",
     "text": [
      "5\n"
     ]
    }
   ],
   "source": [
    "\n",
    "def letters_in_name(word):\n",
    "    letters = len(word)\n",
    "    return letters\n",
    "    \n",
    "print(letters_in_name(\"Ghost\"))"
   ]
  },
  {
   "cell_type": "markdown",
   "metadata": {},
   "source": [
    "Q2) Write a function that takes a list of number and returns \"True\" if the HIGHEST number in the list EVEN. Do so while only adding 10 lines of code to what is already provided.\n"
   ]
  },
  {
   "cell_type": "code",
   "execution_count": 10,
   "metadata": {},
   "outputs": [
    {
     "name": "stdout",
     "output_type": "stream",
     "text": [
      "False\n",
      "True\n",
      "False\n",
      "True\n",
      "False\n"
     ]
    }
   ],
   "source": [
    "first  = [1,2,3,4,5]\n",
    "second = [6,7,8,9,10]\n",
    "third  = [11,12,13,14,15]\n",
    "fourth = [16,17,18,19,20]\n",
    "fifth  = [21,22,23,24,25]\n",
    "def highst_even(numbers):        # remeber this function?\n",
    "    if max(numbers) % 2 == 0:    # just use built-in function max()\n",
    "        return True\n",
    "    else:\n",
    "        return False \n",
    "print(highst_even(first))\n",
    "print(highst_even(second))\n",
    "print(highst_even(third))\n",
    "print(highst_even(fourth))\n",
    "print(highst_even(fifth))"
   ]
  }
 ],
 "metadata": {
  "kernelspec": {
   "display_name": "Python 3",
   "language": "python",
   "name": "python3"
  },
  "language_info": {
   "codemirror_mode": {
    "name": "ipython",
    "version": 3
   },
   "file_extension": ".py",
   "mimetype": "text/x-python",
   "name": "python",
   "nbconvert_exporter": "python",
   "pygments_lexer": "ipython3",
   "version": "3.6.4"
  }
 },
 "nbformat": 4,
 "nbformat_minor": 2
}
