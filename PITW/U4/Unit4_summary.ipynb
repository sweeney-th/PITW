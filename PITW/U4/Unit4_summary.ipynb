{
 "cells": [
  {
   "cell_type": "markdown",
   "metadata": {},
   "source": [
    "# Unit 4 Review "
   ]
  },
  {
   "cell_type": "markdown",
   "metadata": {},
   "source": [
    "Functions rock. Use them. "
   ]
  },
  {
   "cell_type": "markdown",
   "metadata": {},
   "source": [
    "Functions are defined using the def keyword, and are used to \"encapsulate\" code making it easier to use, write, and maintain. You can make customized code with them to execute anything you can figure out how to code. They may or may not take arguments, depending on your instructors. They can then preform useful tasks and return values if you so desire. "
   ]
  },
  {
   "cell_type": "code",
   "execution_count": 1,
   "metadata": {},
   "outputs": [
    {
     "name": "stdout",
     "output_type": "stream",
     "text": [
      "There are 9 in your name.\n"
     ]
    }
   ],
   "source": [
    "def letters_in_name(name):\n",
    "    # get the length\n",
    "    number_of_letters = len(name)\n",
    "    # make a string message\n",
    "    message = \"There are \" + str(number_of_letters) + \" in your name.\"\n",
    "    # return it\n",
    "    return message\n",
    "\n",
    "answer = letters_in_name(\"Pinegrove\")\n",
    "print(answer)"
   ]
  },
  {
   "cell_type": "markdown",
   "metadata": {},
   "source": [
    "If you don't want to store the result in a variable, but simply print it, you can use a void function that just prints out the information."
   ]
  },
  {
   "cell_type": "code",
   "execution_count": 2,
   "metadata": {},
   "outputs": [
    {
     "name": "stdout",
     "output_type": "stream",
     "text": [
      "There are  7  in your name.\n"
     ]
    }
   ],
   "source": [
    "# void version\n",
    "def letters_in_name(name):\n",
    "    # get the length\n",
    "    number_of_letters = len(name)\n",
    "    # make a string message\n",
    "    print(\"There are \", number_of_letters, \" in your name.\")\n",
    "\n",
    "letters_in_name(\"Aphasia\")"
   ]
  },
  {
   "cell_type": "markdown",
   "metadata": {},
   "source": [
    "### Booleans"
   ]
  },
  {
   "cell_type": "markdown",
   "metadata": {},
   "source": [
    "Booleans are true or false values use in control flow to help make decisions. The following. The following function determines if the are more than three vowels in a name entered in all caps. "
   ]
  },
  {
   "cell_type": "code",
   "execution_count": 3,
   "metadata": {},
   "outputs": [
    {
     "name": "stdout",
     "output_type": "stream",
     "text": [
      "False\n",
      "True\n"
     ]
    }
   ],
   "source": [
    "\n",
    "def three_plus_vowels(name):\n",
    "    vowels = 0\n",
    "    vowels += name.count(\"A\")\n",
    "    vowels += name.count(\"E\")\n",
    "    vowels += name.count(\"I\")\n",
    "    vowels += name.count(\"O\")\n",
    "    vowels += name.count(\"U\")\n",
    "    if vowels >= 3:\n",
    "        return True\n",
    "    else:\n",
    "        return False\n",
    "    \n",
    "print(three_plus_vowels(\"BOBBY\"))   # will return false\n",
    "print(three_plus_vowels(\"EZEKIEL\")) # will be true"
   ]
  },
  {
   "cell_type": "markdown",
   "metadata": {},
   "source": [
    "### Scope"
   ]
  },
  {
   "cell_type": "markdown",
   "metadata": {},
   "source": [
    "The scope of a variable is the \"region\" of your code in which it is accessible. There are two main scopes: global and lexical. The global scope is outside a function. This is where things are in the main program unless otherwise specified. The lexical, or local, scope is inside a function. A function in a lexical scope is only accessible inside that function. "
   ]
  },
  {
   "cell_type": "code",
   "execution_count": 4,
   "metadata": {},
   "outputs": [
    {
     "name": "stdout",
     "output_type": "stream",
     "text": [
      "This is the global scope\n",
      "This is the lexical scope\n"
     ]
    }
   ],
   "source": [
    "\n",
    "# show the global scope\n",
    "scope = \"This is the global scope\"\n",
    "\n",
    "# show the lexical scope \n",
    "def lexical():\n",
    "    scope = \"This is the lexical scope\"\n",
    "    return scope\n",
    "\n",
    "# prints out as expected\n",
    "print(scope)\n",
    "\n",
    "# must be called out of it's shell\n",
    "print(lexical())"
   ]
  },
  {
   "cell_type": "code",
   "execution_count": null,
   "metadata": {},
   "outputs": [],
   "source": []
  }
 ],
 "metadata": {
  "kernelspec": {
   "display_name": "Python 3",
   "language": "python",
   "name": "python3"
  },
  "language_info": {
   "codemirror_mode": {
    "name": "ipython",
    "version": 3
   },
   "file_extension": ".py",
   "mimetype": "text/x-python",
   "name": "python",
   "nbconvert_exporter": "python",
   "pygments_lexer": "ipython3",
   "version": "3.6.4"
  }
 },
 "nbformat": 4,
 "nbformat_minor": 2
}
