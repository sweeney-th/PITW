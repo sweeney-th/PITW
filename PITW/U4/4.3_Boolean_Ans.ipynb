{
 "cells": [
  {
   "cell_type": "code",
   "execution_count": 1,
   "metadata": {},
   "outputs": [
    {
     "name": "stdout",
     "output_type": "stream",
     "text": [
      "True\n"
     ]
    }
   ],
   "source": [
    "\n",
    "# just switch the True/False\n",
    "\n",
    "def odd(number):         # define even that acts on number\n",
    "    if number % 2 == 0:  # does dividing it by 2 leave 0?\n",
    "        return False     # than it's False that it is odd\n",
    "    else:         \n",
    "        return True      # if not, it's True that it is odd\n",
    "    \n",
    "print(odd(1))"
   ]
  },
  {
   "cell_type": "markdown",
   "metadata": {},
   "source": [
    "This is just a goofy way to get you to understand how Booleans emerge from comparisons. Just make sure you say something that is true to get True and bogus to get False."
   ]
  },
  {
   "cell_type": "code",
   "execution_count": 4,
   "metadata": {},
   "outputs": [
    {
     "name": "stdout",
     "output_type": "stream",
     "text": [
      "True\n",
      "True\n",
      "False\n",
      "False\n",
      "True\n",
      "True\n",
      "False\n"
     ]
    }
   ],
   "source": [
    "\n",
    "print(10 == 10)        # ten is in fact ten\n",
    "print(11 == 11)        # eleven is in fact eleven\n",
    "print(10 != 10)        # it is not true that ten isn't ten\n",
    "print(10 > 100)        # ten in not bigger than one hundred\n",
    "print(1 == 1)          # one is one\n",
    "print(1 < 2 )          # one is less than two\n",
    "print(len(\"yes\") < 1)  # the len() of the word yes in not les than 1"
   ]
  }
 ],
 "metadata": {
  "kernelspec": {
   "display_name": "Python 3",
   "language": "python",
   "name": "python3"
  },
  "language_info": {
   "codemirror_mode": {
    "name": "ipython",
    "version": 3
   },
   "file_extension": ".py",
   "mimetype": "text/x-python",
   "name": "python",
   "nbconvert_exporter": "python",
   "pygments_lexer": "ipython3",
   "version": "3.6.4"
  }
 },
 "nbformat": 4,
 "nbformat_minor": 2
}
