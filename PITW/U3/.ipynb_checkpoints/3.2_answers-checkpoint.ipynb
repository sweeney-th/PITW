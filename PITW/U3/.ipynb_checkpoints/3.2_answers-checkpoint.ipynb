{
 "cells": [
  {
   "cell_type": "markdown",
   "metadata": {},
   "source": [
    "1) Iterate through the following list and print everything out."
   ]
  },
  {
   "cell_type": "code",
   "execution_count": 4,
   "metadata": {},
   "outputs": [
    {
     "name": "stdout",
     "output_type": "stream",
     "text": [
      "1\n",
      "2\n",
      "3\n",
      "4\n",
      "5\n",
      "6\n",
      "7\n"
     ]
    }
   ],
   "source": [
    "\n",
    "# list of ints\n",
    "numbers = [1, 2, 3, 4, 5, 6, 7]\n",
    "\n",
    "# create a for loop to print them all\n",
    "for item in numbers:\n",
    "    print(item)"
   ]
  },
  {
   "cell_type": "markdown",
   "metadata": {},
   "source": [
    "2) Iterate through the following list and print out only the even numbers \n"
   ]
  },
  {
   "cell_type": "code",
   "execution_count": 9,
   "metadata": {},
   "outputs": [
    {
     "name": "stdout",
     "output_type": "stream",
     "text": [
      "14\n",
      "16\n",
      "18\n",
      "44\n",
      "102\n",
      "14444\n",
      "100\n"
     ]
    }
   ],
   "source": [
    "\n",
    "# list on ints\n",
    "numbers = [11, 14, 16, 18, 17, 13, 15, 19, 44, 43, 102, 99, 14444, 1, 100]\n",
    "\n",
    "# for loop with a conditional\n",
    "for num in numbers:\n",
    "    # use modulus2 == 0 idiom for conditional \n",
    "    if num%2 == 0:\n",
    "        print(num)"
   ]
  },
  {
   "cell_type": "markdown",
   "metadata": {},
   "source": [
    "3) Below is what appears to be a working solution to problem 1, but there is a bug in it. Will this program run? If so, what will it output? What's the term for this kind of bug?"
   ]
  },
  {
   "cell_type": "markdown",
   "metadata": {},
   "source": [
    "This bug is easy to make and it happens all the time. Recall that it is valid to say print(item) when using the default varaible, and it is also valid to say print(number) print the whole list of numbers. What is happening here is that we have \"numbers\" instead of \"item\" in the in the print statement, so the loop iterates through every item in the list, and for that item, prints the hole list. This is a semantic error, but it will run."
   ]
  },
  {
   "cell_type": "code",
   "execution_count": 6,
   "metadata": {},
   "outputs": [
    {
     "name": "stdout",
     "output_type": "stream",
     "text": [
      "[1, 2, 3, 4, 5, 6, 7]\n",
      "[1, 2, 3, 4, 5, 6, 7]\n",
      "[1, 2, 3, 4, 5, 6, 7]\n",
      "[1, 2, 3, 4, 5, 6, 7]\n",
      "[1, 2, 3, 4, 5, 6, 7]\n",
      "[1, 2, 3, 4, 5, 6, 7]\n",
      "[1, 2, 3, 4, 5, 6, 7]\n"
     ]
    }
   ],
   "source": [
    "numbers = [1, 2, 3, 4, 5, 6, 7]\n",
    "\n",
    "for item in numbers:\n",
    "    print(numbers)"
   ]
  }
 ],
 "metadata": {
  "kernelspec": {
   "display_name": "Python 3",
   "language": "python",
   "name": "python3"
  },
  "language_info": {
   "codemirror_mode": {
    "name": "ipython",
    "version": 3
   },
   "file_extension": ".py",
   "mimetype": "text/x-python",
   "name": "python",
   "nbconvert_exporter": "python",
   "pygments_lexer": "ipython3",
   "version": "3.5.3"
  }
 },
 "nbformat": 4,
 "nbformat_minor": 2
}
