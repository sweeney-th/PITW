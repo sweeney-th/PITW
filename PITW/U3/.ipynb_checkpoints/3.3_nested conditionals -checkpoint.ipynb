{
 "cells": [
  {
   "cell_type": "markdown",
   "metadata": {},
   "source": [
    "We introduced compound logic the last lesson when we paired a 'for' and an 'if'. It's worth noting you can use compound or 'nested' logic like this with two if's as well. I am showing it here because there was already 'else' and 'elif' to worry about and achieve flexibility when we were learning 'if'. It also fits nicely into a real world context here. Here is an example of two 'if's. "
   ]
  },
  {
   "cell_type": "code",
   "execution_count": 12,
   "metadata": {},
   "outputs": [
    {
     "name": "stdout",
     "output_type": "stream",
     "text": [
      "x is between 5 and 10\n"
     ]
    }
   ],
   "source": [
    "\n",
    "x = 7\n",
    "\n",
    "# more than 5?\n",
    "if x > 5:\n",
    "    # less than ten?\n",
    "    if x < 10:\n",
    "        print(\"x is between 5 and 10\")"
   ]
  },
  {
   "cell_type": "code",
   "execution_count": null,
   "metadata": {},
   "outputs": [],
   "source": []
  },
  {
   "cell_type": "markdown",
   "metadata": {},
   "source": [
    "We can think of this as two 'if's make an 'and'. Both conditions need to be true for the print statement to be activated. In fact, Python has an 'and' keyword that serves the same purpose:"
   ]
  },
  {
   "cell_type": "code",
   "execution_count": 11,
   "metadata": {},
   "outputs": [
    {
     "name": "stdout",
     "output_type": "stream",
     "text": [
      "x is between 5 and 10\n"
     ]
    }
   ],
   "source": [
    "\n",
    "# join the conditions with 'and'\n",
    "if x > 5 and x < 10:\n",
    "    print(\"x is between 5 and 10\")"
   ]
  },
  {
   "cell_type": "markdown",
   "metadata": {},
   "source": [
    "So why did I trouble you with the "
   ]
  }
 ],
 "metadata": {
  "kernelspec": {
   "display_name": "Python 3",
   "language": "python",
   "name": "python3"
  },
  "language_info": {
   "codemirror_mode": {
    "name": "ipython",
    "version": 3
   },
   "file_extension": ".py",
   "mimetype": "text/x-python",
   "name": "python",
   "nbconvert_exporter": "python",
   "pygments_lexer": "ipython3",
   "version": "3.6.4"
  }
 },
 "nbformat": 4,
 "nbformat_minor": 2
}
