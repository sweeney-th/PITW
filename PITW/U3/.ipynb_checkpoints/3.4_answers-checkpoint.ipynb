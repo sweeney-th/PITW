{
 "cells": [
  {
   "cell_type": "markdown",
   "metadata": {},
   "source": [
    "1) Create a dict that maps the first 5 letters of the alphabet to the iteger of their order, ie A to 1, B to 2, etc."
   ]
  },
  {
   "cell_type": "code",
   "execution_count": 8,
   "metadata": {},
   "outputs": [],
   "source": [
    "\n",
    "# create a dictionary \n",
    "d = {\"A\":1, \"B\":2, \"C\":3, \"D\":4, \"E\":5}"
   ]
  },
  {
   "cell_type": "markdown",
   "metadata": {},
   "source": [
    "2) There are three parts:\n",
    "Print out all of the keys in the dict from Q1.\n",
    "Print out all the values.\n",
    "Print all keys with their values next to them.\n",
    "Print the items in reverse order."
   ]
  },
  {
   "cell_type": "code",
   "execution_count": 9,
   "metadata": {},
   "outputs": [
    {
     "name": "stdout",
     "output_type": "stream",
     "text": [
      "C\n",
      "E\n",
      "A\n",
      "B\n",
      "D\n",
      "3\n",
      "5\n",
      "1\n",
      "2\n",
      "4\n",
      "C 3\n",
      "E 5\n",
      "A 1\n",
      "B 2\n",
      "D 4\n",
      "E\n",
      "D\n",
      "C\n",
      "B\n",
      "A\n"
     ]
    }
   ],
   "source": [
    "\n",
    "# iterate and print key\n",
    "for item in d:\n",
    "    print(item)\n",
    "\n",
    "# as above, but with lookup\n",
    "for item in d:\n",
    "    print(d[item])\n",
    "\n",
    "# print both\n",
    "for item in d:\n",
    "    print(item, d[item])\n",
    "\n",
    "# using sort and optional reverse\n",
    "for item in sorted(d, reverse = True):\n",
    "    print(item)"
   ]
  },
  {
   "cell_type": "markdown",
   "metadata": {},
   "source": [
    "3) A dict has the names of the 10 highest selling rock albums of all time in it. It maps the name of the band to the name of the record, for 20 total strings. What is the length of the dictionary?"
   ]
  },
  {
   "cell_type": "markdown",
   "metadata": {},
   "source": [
    "The dictionary has 10 items: the count is by pairs, not by item. "
   ]
  },
  {
   "cell_type": "code",
   "execution_count": 3,
   "metadata": {},
   "outputs": [
    {
     "name": "stdout",
     "output_type": "stream",
     "text": [
      "5\n"
     ]
    }
   ],
   "source": [
    "\n",
    "# confirm with len()\n",
    "print(len(d))"
   ]
  }
 ],
 "metadata": {
  "kernelspec": {
   "display_name": "Python 3",
   "language": "python",
   "name": "python3"
  },
  "language_info": {
   "codemirror_mode": {
    "name": "ipython",
    "version": 3
   },
   "file_extension": ".py",
   "mimetype": "text/x-python",
   "name": "python",
   "nbconvert_exporter": "python",
   "pygments_lexer": "ipython3",
   "version": "3.5.3"
  }
 },
 "nbformat": 4,
 "nbformat_minor": 2
}
