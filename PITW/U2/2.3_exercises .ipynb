{
 "cells": [
  {
   "cell_type": "markdown",
   "metadata": {},
   "source": [
    "Write a program with the following variables. Check if each one is greater than 100, and print a message if it is true. The, print the variable to confirm you're corrent. "
   ]
  },
  {
   "cell_type": "code",
   "execution_count": 12,
   "metadata": {},
   "outputs": [],
   "source": [
    "x = 5 ** 5\n",
    "\n",
    "y = 5000/19\n",
    "\n",
    "z = 100"
   ]
  },
  {
   "cell_type": "markdown",
   "metadata": {},
   "source": [
    "Check to see if the length of any of these snippets exceede 30 characters:"
   ]
  },
  {
   "cell_type": "code",
   "execution_count": 13,
   "metadata": {},
   "outputs": [],
   "source": [
    "sent1 = \"It was a bright cold day in April, and the clocks were striking thirteen\"\n",
    "\n",
    "sent2 = \"Call me Jonah. My parents did, or nearly did. They called me John.\"\n",
    "\n",
    "sent3 = \"The King stood in a pool of blue light, unmoored\"\n",
    "\n",
    "sent4 = \"All this happened, more or less\"\n"
   ]
  }
 ],
 "metadata": {
  "kernelspec": {
   "display_name": "Python 3",
   "language": "python",
   "name": "python3"
  },
  "language_info": {
   "codemirror_mode": {
    "name": "ipython",
    "version": 3
   },
   "file_extension": ".py",
   "mimetype": "text/x-python",
   "name": "python",
   "nbconvert_exporter": "python",
   "pygments_lexer": "ipython3",
   "version": "3.5.3"
  }
 },
 "nbformat": 4,
 "nbformat_minor": 2
}
