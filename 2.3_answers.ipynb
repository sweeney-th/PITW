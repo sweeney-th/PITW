{
 "cells": [
  {
   "cell_type": "markdown",
   "metadata": {},
   "source": [
    "Write a program with the following variables. Check if each one is greater than 100, and print a message if it is true. The, print the variable to confirm you're corrent. "
   ]
  },
  {
   "cell_type": "code",
   "execution_count": 2,
   "metadata": {},
   "outputs": [],
   "source": [
    "x = 5 ** 5\n",
    "\n",
    "y = 5000/19\n",
    "\n",
    "z = 100"
   ]
  },
  {
   "cell_type": "code",
   "execution_count": 3,
   "metadata": {},
   "outputs": [
    {
     "name": "stdout",
     "output_type": "stream",
     "text": [
      "x is greater than 100\n",
      "3125\n",
      "y is greater than 100\n",
      "263.1578947368421\n",
      "100\n"
     ]
    }
   ],
   "source": [
    "\n",
    "# check condition, write message, print variable\n",
    "if x > 100:\n",
    "    print(\"x is greater than 100\")\n",
    "print(x)\n",
    "\n",
    "# check condition, write message, print variable\n",
    "if y > 100:\n",
    "    print(\"y is greater than 100\")\n",
    "print(y)\n",
    "\n",
    "# check condition, write message, print variable\n",
    "if z > 100:\n",
    "    print(\"z is greater than 100\")\n",
    "print(z)"
   ]
  },
  {
   "cell_type": "markdown",
   "metadata": {},
   "source": [
    "Check to see if the length of any of these snippets exceede 40 characters:"
   ]
  },
  {
   "cell_type": "code",
   "execution_count": 15,
   "metadata": {},
   "outputs": [
    {
     "name": "stdout",
     "output_type": "stream",
     "text": [
      "Sentence 1 is over 30 characters\n",
      "Sentence 2 is over 30 characters\n",
      "Sentence 4 is over 30 characters\n"
     ]
    }
   ],
   "source": [
    "sent1 = \"It was a bright cold day in April, and the clocks were striking thirteen\"\n",
    "\n",
    "sent2 = \"Call me Jonah. My parents did, or nearly did. They called me John.\"\n",
    "\n",
    "sent3 = \"All this happened, more or less\"\n",
    "\n",
    "sent4 = \"The King stood in a pool of blue light, unmoored\"\n",
    "\n",
    "\n",
    "\n",
    "if len(sent1) > 40:\n",
    "    print(\"Sentence 1 is over 30 characters\")\n",
    "\n",
    "if len(sent2) > 40:\n",
    "    print(\"Sentence 2 is over 30 characters\")\n",
    "\n",
    "if len(sent3) > 40:\n",
    "    print(\"Sentence 3 is over 30 characters\")\n",
    "\n",
    "if len(sent4) > 40:\n",
    "    print(\"Sentence 4 is over 30 characters\")"
   ]
  },
  {
   "cell_type": "code",
   "execution_count": null,
   "metadata": {},
   "outputs": [],
   "source": []
  }
 ],
 "metadata": {
  "kernelspec": {
   "display_name": "Python 3",
   "language": "python",
   "name": "python3"
  },
  "language_info": {
   "codemirror_mode": {
    "name": "ipython",
    "version": 3
   },
   "file_extension": ".py",
   "mimetype": "text/x-python",
   "name": "python",
   "nbconvert_exporter": "python",
   "pygments_lexer": "ipython3",
   "version": "3.5.3"
  }
 },
 "nbformat": 4,
 "nbformat_minor": 2
}
