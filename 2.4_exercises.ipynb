{
 "cells": [
  {
   "cell_type": "markdown",
   "metadata": {},
   "source": [
    "1) Let's say we want to make a prototype program that checks if a user entered a valid ID number. The ID numbers in our hypothetical system are supposed to be 8 characters long. Write a program that uses the if-elif-else idiom to determine if the length of a string is too short, too long, and just right. Print specific feedback to the user that tells them which problem they have, if any, and confirms their entry if they have the right length. This requires some elements of previous units.  "
   ]
  },
  {
   "cell_type": "code",
   "execution_count": 1,
   "metadata": {},
   "outputs": [],
   "source": [
    "\n",
    "# user entry\n",
    "user_input = \"8675309\"\n",
    "\n",
    "# length we want \n",
    "id_number_len = 8 \n",
    "\n",
    "### You do the rest! :) ### \n"
   ]
  },
  {
   "cell_type": "markdown",
   "metadata": {},
   "source": [
    "2) Recall how you could test each condition to make sure they all work as desired. Implement the test."
   ]
  },
  {
   "cell_type": "markdown",
   "metadata": {},
   "source": [
    "Let's assume we're writing a prototype for a password checker. The program will have a variable that is got from a user (by magic for now, but we will learn how to do this) and a true password to compare it to. Your job is to implement the comparison and print a message saying \"access granted\" if it matches and \"Uh, Uh, Uh, didn't say the magic word\" if it doesn't."
   ]
  },
  {
   "cell_type": "code",
   "execution_count": null,
   "metadata": {},
   "outputs": [],
   "source": []
  }
 ],
 "metadata": {
  "kernelspec": {
   "display_name": "Python 3",
   "language": "python",
   "name": "python3"
  },
  "language_info": {
   "codemirror_mode": {
    "name": "ipython",
    "version": 3
   },
   "file_extension": ".py",
   "mimetype": "text/x-python",
   "name": "python",
   "nbconvert_exporter": "python",
   "pygments_lexer": "ipython3",
   "version": "3.5.3"
  }
 },
 "nbformat": 4,
 "nbformat_minor": 2
}
