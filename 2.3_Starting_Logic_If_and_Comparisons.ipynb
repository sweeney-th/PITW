{
 "cells": [
  {
   "cell_type": "markdown",
   "metadata": {},
   "source": [
    "# Comparisons, Booleans, and the \"if\" Statement."
   ]
  },
  {
   "cell_type": "markdown",
   "metadata": {},
   "source": [
    "So far we have learned about different types of data and how to store and use them for basic computations. Now we will start making more dynamic and useful programs by adding logic and comparisons. Let's look at comparison operators. They are used pretty consistently in most language and look like their traditional math counterparts."
   ]
  },
  {
   "cell_type": "markdown",
   "metadata": {},
   "source": [
    "Greater than: >\n",
    "\n",
    "Lesser than: <\n",
    "\n",
    "Greater than or equal to: >=\n",
    "\n",
    "Lesser than or equal to: <=\n",
    "\n",
    "Equal to: ==\n",
    "\n",
    "Not equal: !="
   ]
  },
  {
   "cell_type": "markdown",
   "metadata": {},
   "source": [
    "When you run code with one of these conditions, it will return a \"boolean\" (true or false) value. Take a look:"
   ]
  },
  {
   "cell_type": "code",
   "execution_count": 50,
   "metadata": {},
   "outputs": [
    {
     "name": "stdout",
     "output_type": "stream",
     "text": [
      "True\n"
     ]
    }
   ],
   "source": [
    "\n",
    "x = 10\n",
    "\n",
    "# print te answer to \"x is greater than 1\"\n",
    "print(x > 1)"
   ]
  },
  {
   "cell_type": "markdown",
   "metadata": {},
   "source": [
    "Remember to watch out for bugs resulting from saying \"greater than\" when you meant \"greater than or equal to\" or vice versa. For instance, if you're looking for numbers 10 or higher and you write:"
   ]
  },
  {
   "cell_type": "code",
   "execution_count": 51,
   "metadata": {},
   "outputs": [
    {
     "name": "stdout",
     "output_type": "stream",
     "text": [
      "False\n"
     ]
    }
   ],
   "source": [
    "\n",
    "x = 10\n",
    "\n",
    "# print greater than ten?\n",
    "print(x > 10)"
   ]
  },
  {
   "cell_type": "markdown",
   "metadata": {},
   "source": [
    "We get a false because 10 is 10, not 10 or more. Though it may seem obvious, it does come up as a semantic error because it is fewer characters than the proper \">=\", so it gets left off. The fix:"
   ]
  },
  {
   "cell_type": "code",
   "execution_count": 52,
   "metadata": {},
   "outputs": [
    {
     "name": "stdout",
     "output_type": "stream",
     "text": [
      "True\n"
     ]
    }
   ],
   "source": [
    "\n",
    "# proper version\n",
    "print(x >= 10)"
   ]
  },
  {
   "cell_type": "markdown",
   "metadata": {},
   "source": [
    "### Why 2 equal signs?"
   ]
  },
  {
   "cell_type": "markdown",
   "metadata": {},
   "source": [
    "One thing people often wonder about this topic is why there are two = in the comparison operator. While strange at first and easy to forget when in the zone, this is simply to distinguish from the = sign we use to make a variable (called the \"assignment operator\" if you're feeling pinkies out). The computer doesn't understand this code...\n"
   ]
  },
  {
   "cell_type": "raw",
   "metadata": {},
   "source": [
    "x = 10 \n",
    "\n",
    "print(x = 10)"
   ]
  },
  {
   "cell_type": "markdown",
   "metadata": {},
   "source": [
    "...because it sees the single = and tries to create a variable name x with the value of 10."
   ]
  },
  {
   "cell_type": "markdown",
   "metadata": {},
   "source": [
    "Its complement trades the first = for a !, which means \"not\" in a lot of computer contexts."
   ]
  },
  {
   "cell_type": "code",
   "execution_count": 53,
   "metadata": {},
   "outputs": [
    {
     "name": "stdout",
     "output_type": "stream",
     "text": [
      "False\n"
     ]
    }
   ],
   "source": [
    "\n",
    "# print the anwer to \"x is not ten\"\n",
    "print(x != 10)"
   ]
  },
  {
   "cell_type": "markdown",
   "metadata": {},
   "source": [
    "### The 'if' Statement "
   ]
  },
  {
   "cell_type": "markdown",
   "metadata": {},
   "source": [
    "The function of the \"if\" statement in coding translates pretty intuitively from English. It will evaluate whatever comes after is a either true or false, and runs code based on the outcome. This is where we can start to create truly flexible code. Let's check the syntax:"
   ]
  },
  {
   "cell_type": "code",
   "execution_count": 54,
   "metadata": {},
   "outputs": [
    {
     "name": "stdout",
     "output_type": "stream",
     "text": [
      "Yes, x is greater than 10\n"
     ]
    }
   ],
   "source": [
    "\n",
    "x = 10\n",
    "\n",
    "# the word if, followed by a condition ending in a :\n",
    "# then, on another line, and indent and the code we want to run\n",
    "if x >= 10:\n",
    "    print(\"Yes, x is greater than or equal to 10\")"
   ]
  },
  {
   "cell_type": "markdown",
   "metadata": {},
   "source": [
    "This is a signature Python move: Python uses indentation to create blocks of logic and denote where they start and end. If it isn't indented, it won't run. Most languages use  { } braces, which is a tried and true approach, if a little more cumbersome. In a more traditional language it might look something like this:"
   ]
  },
  {
   "cell_type": "raw",
   "metadata": {},
   "source": [
    "if ( x >= 10) {\n",
    "    printf(\"Yes, x is greater than or equal to 10\");\n",
    "}"
   ]
  },
  {
   "cell_type": "markdown",
   "metadata": {},
   "source": [
    "Python favors the indentation to make code more readable and concise. Remeber the : or we will get a syntax error."
   ]
  },
  {
   "cell_type": "markdown",
   "metadata": {},
   "source": [
    "To really see if that the \"if\" is working, we can run this:"
   ]
  },
  {
   "cell_type": "code",
   "execution_count": 55,
   "metadata": {},
   "outputs": [],
   "source": [
    "\n",
    "# x is now one lower\n",
    "x = 9\n",
    "\n",
    "# the word if, followed by a condition ending in a :\n",
    "# then, on another line, and indent and the code we want to run\n",
    "if x >= 10:\n",
    "    print(\"Yes, x is greater than or equal to 10\")"
   ]
  },
  {
   "cell_type": "markdown",
   "metadata": {},
   "source": [
    "And we get a whole lot of nothing. This is what we should get, given that 9 is not equal to 10 or more."
   ]
  },
  {
   "cell_type": "markdown",
   "metadata": {},
   "source": [
    "Now use the 'if' statement with any of the operators."
   ]
  },
  {
   "cell_type": "code",
   "execution_count": 56,
   "metadata": {},
   "outputs": [
    {
     "name": "stdout",
     "output_type": "stream",
     "text": [
      "X is less than 100\n",
      "X is either ten or less than 10\n",
      "X is either ten or more than 10\n"
     ]
    }
   ],
   "source": [
    "\n",
    "x = 10\n",
    "\n",
    "if x > 10:\n",
    "    print(\"X is more than ten\") # won't run\n",
    "    \n",
    "# we can have more conditions below it to run afterwards\n",
    "if x < 100:\n",
    "    print(\"X is less than 100\") # will run\n",
    "    \n",
    "if x <= 10:\n",
    "    print(\"X is either ten or less than 10\") # will run\n",
    "    \n",
    "if x >= 10:\n",
    "    print(\"X is either ten or more than 10\") # will run"
   ]
  },
  {
   "cell_type": "markdown",
   "metadata": {},
   "source": [
    "### In Context"
   ]
  },
  {
   "cell_type": "markdown",
   "metadata": {},
   "source": [
    "Keep in mode that coding, by and large is a cumulative effort with large, useful programs being made up of lots of little pieces. Let's try to get some code running that has some elements of the previous unit worked it:\n"
   ]
  },
  {
   "cell_type": "code",
   "execution_count": 57,
   "metadata": {},
   "outputs": [
    {
     "name": "stdout",
     "output_type": "stream",
     "text": [
      "The string is over 10 characters long\n"
     ]
    }
   ],
   "source": [
    "\n",
    "# check the length of a string with if\n",
    "\n",
    "string = \"Hello Andersen\"\n",
    "\n",
    "if len(string) > 10:\n",
    "    print(\"The string is over 10 characters long\")"
   ]
  },
  {
   "cell_type": "markdown",
   "metadata": {},
   "source": [
    "Nothing says we can only check numbers!"
   ]
  },
  {
   "cell_type": "code",
   "execution_count": 58,
   "metadata": {},
   "outputs": [
    {
     "name": "stdout",
     "output_type": "stream",
     "text": [
      "The string starts with 'H'\n"
     ]
    }
   ],
   "source": [
    "\n",
    "# check the first letter of a string\n",
    "\n",
    "string = \"Hello Andersen\"\n",
    "\n",
    "# check the index where the first letter in the word is\n",
    "if string[0] == \"H\":\n",
    "    print(\"The string starts with 'H'\")"
   ]
  },
  {
   "cell_type": "markdown",
   "metadata": {},
   "source": [
    "### Technique:\n",
    "\n",
    "Comparisons of variables can be made using the folowing operators:\n",
    "\n",
    "Greater than: >\n",
    "\n",
    "Lesser than: <\n",
    "\n",
    "Greater than or equal to: >=\n",
    "\n",
    "Lesser than or equal to: <=\n",
    "\n",
    "Equal to: ==\n",
    "\n",
    "Not equal: !=\n",
    "\n",
    "They return a \"boolean\",true or false."
   ]
  },
  {
   "cell_type": "markdown",
   "metadata": {},
   "source": [
    "The 'if' statement check to see if a condition is true or false. If it is true, it runs code, if it is false, it does not. It uses the 'if' keyword, a conditional ending in \":\", and then a new line starting with and indent. "
   ]
  },
  {
   "cell_type": "markdown",
   "metadata": {},
   "source": [
    "### Meta:"
   ]
  },
  {
   "cell_type": "markdown",
   "metadata": {},
   "source": [
    "Using comparisons and conditionals we can create programs capable or automating tasks.\n",
    "\n",
    "A lot of languages use { } to denote logical blocks. Python opts to use indentation, and it is one of its notable quirks. "
   ]
  }
 ],
 "metadata": {
  "kernelspec": {
   "display_name": "Python 3",
   "language": "python",
   "name": "python3"
  },
  "language_info": {
   "codemirror_mode": {
    "name": "ipython",
    "version": 3
   },
   "file_extension": ".py",
   "mimetype": "text/x-python",
   "name": "python",
   "nbconvert_exporter": "python",
   "pygments_lexer": "ipython3",
   "version": "3.5.3"
  }
 },
 "nbformat": 4,
 "nbformat_minor": 2
}
