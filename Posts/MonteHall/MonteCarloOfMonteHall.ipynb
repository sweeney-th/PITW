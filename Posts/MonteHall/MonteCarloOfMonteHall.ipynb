{
 "cells": [
  {
   "cell_type": "code",
   "execution_count": 1,
   "metadata": {},
   "outputs": [],
   "source": [
    "import random"
   ]
  },
  {
   "cell_type": "markdown",
   "metadata": {},
   "source": [
    "The first thing we need is the potential outcomes of the game - two losses and a win. It's easy to represent these in a list and shuffle it to generate a random game."
   ]
  },
  {
   "cell_type": "code",
   "execution_count": 2,
   "metadata": {},
   "outputs": [
    {
     "name": "stdout",
     "output_type": "stream",
     "text": [
      "['win', 'loss', 'loss']\n"
     ]
    }
   ],
   "source": [
    "# potential outcomes\n",
    "outcomes = [\"win\", \"loss\", \"loss\"]\n",
    "\n",
    "# shuffle the results\n",
    "random.shuffle(outcomes)\n",
    "\n",
    "print(outcomes)"
   ]
  },
  {
   "cell_type": "markdown",
   "metadata": {},
   "source": [
    "The next thing we will need is way to represent one of the base components of they game - a door. No need for anything too fancy - we'll just make it into a class to keep it organized."
   ]
  },
  {
   "cell_type": "code",
   "execution_count": 3,
   "metadata": {},
   "outputs": [],
   "source": [
    "class Door(object):\n",
    "\n",
    "    # just something to refer to it by\n",
    "    name = None\n",
    "\n",
    "    # will have contents (win or loss)\n",
    "    contents = None\n",
    "\n",
    "    # will or will not be opened at any given time\n",
    "    isOpen = False"
   ]
  },
  {
   "cell_type": "markdown",
   "metadata": {},
   "source": [
    "We can now make some doors and assign the outcomes we've generated with our shuffle. "
   ]
  },
  {
   "cell_type": "code",
   "execution_count": 4,
   "metadata": {},
   "outputs": [],
   "source": [
    "# make our doors\n",
    "door1 = Door()\n",
    "door2 = Door()\n",
    "door3 = Door()\n",
    "\n",
    "# give them our shuffled outcomes and name them\n",
    "door1.contents = outcomes[0]\n",
    "door1.name = \"Door #1\"\n",
    "\n",
    "door2.contents = outcomes[1]\n",
    "door2.name = \"Door #2\"\n",
    "\n",
    "door3.contents = outcomes[2]\n",
    "door3.name = \"Door #3\"\n",
    "\n",
    "# out them all in a list, simply for convinience\n",
    "doors = [door1, door2, door3]"
   ]
  },
  {
   "cell_type": "markdown",
   "metadata": {},
   "source": [
    "Now that we've set up the game, we can actually play it! Which door to pick? We will just write a function to select a random."
   ]
  },
  {
   "cell_type": "code",
   "execution_count": 7,
   "metadata": {},
   "outputs": [
    {
     "name": "stdout",
     "output_type": "stream",
     "text": [
      "Door #2\n",
      "Door #1\n",
      "Door #3\n"
     ]
    }
   ],
   "source": [
    "def pickRandomDoor(doorList):\n",
    "    return doorList[random.randint(0,2)]\n",
    "\n",
    "# let's see if it's working\n",
    "print(pickRandomDoor(doors).name)\n",
    "print(pickRandomDoor(doors).name)\n",
    "print(pickRandomDoor(doors).name)"
   ]
  },
  {
   "cell_type": "markdown",
   "metadata": {},
   "source": [
    "Looks good!"
   ]
  },
  {
   "cell_type": "code",
   "execution_count": 9,
   "metadata": {},
   "outputs": [
    {
     "data": {
      "text/plain": [
       "'Door #1'"
      ]
     },
     "execution_count": 9,
     "metadata": {},
     "output_type": "execute_result"
    }
   ],
   "source": [
    "chosenDoor = pickRandomDoor(doors)\n",
    "\n",
    "chosenDoor.name"
   ]
  },
  {
   "cell_type": "markdown",
   "metadata": {},
   "source": [
    "The die is cast."
   ]
  }
 ],
 "metadata": {
  "kernelspec": {
   "display_name": "Python 3",
   "language": "python",
   "name": "python3"
  },
  "language_info": {
   "codemirror_mode": {
    "name": "ipython",
    "version": 3
   },
   "file_extension": ".py",
   "mimetype": "text/x-python",
   "name": "python",
   "nbconvert_exporter": "python",
   "pygments_lexer": "ipython3",
   "version": "3.7.5"
  }
 },
 "nbformat": 4,
 "nbformat_minor": 4
}
