{
 "cells": [
  {
   "cell_type": "markdown",
   "metadata": {},
   "source": [
    "# Understanding the Monty Hall Problem Using Step-by-Step Simulations"
   ]
  },
  {
   "cell_type": "markdown",
   "metadata": {},
   "source": [
    "The Monty Hall problem is a classic probability puzzle named for the host of the game show that made it famous.\n",
    "\n",
    "In the game contestants are shown three doors. Behind one door is a prize, behind the other two are nothing*.\n",
    "\n",
    "The contestant selects a door. After the initial selection, the host opens one of the remaining two doors, invariably revealing one of the losses, thus building suspense and introducing the next phase of the puzzle.\n",
    "\n",
    "The host then asks the question that makes this puzzle so intersting: \"Would you like to stay with your guess, or switch to a new door?\". At this point there is one open door (the one the host opened) and two closed (the initial guess and the remaining door). The question - does it benefit the contestant to switch to a new door?\n",
    "\n",
    "The popular and intuitive answer, famously, is 'no' - there is a 1/3 chance of getting it right - one win, three doors. The host didn't move anything around. Why would the odds have changed?\n",
    "\n",
    "Just as (in)famously, the *correct* answer is 'yes' - you are twice as likely to win if you switch.\n",
    "\n",
    "How can this be?\n",
    "\n",
    "This answer is so counterintuitive that the overwhelming number of people get it wrong initially. Something like 90% of a sample of the general public got the question wrong. Even among academics, many of them mathematicians, barely over 1/3 got the answer right (** *).\n"
   ]
  },
  {
   "cell_type": "code",
   "execution_count": null,
   "metadata": {},
   "outputs": [],
   "source": []
  },
  {
   "cell_type": "code",
   "execution_count": null,
   "metadata": {},
   "outputs": [],
   "source": []
  },
  {
   "cell_type": "code",
   "execution_count": null,
   "metadata": {},
   "outputs": [],
   "source": []
  },
  {
   "cell_type": "code",
   "execution_count": null,
   "metadata": {},
   "outputs": [],
   "source": []
  },
  {
   "cell_type": "code",
   "execution_count": null,
   "metadata": {},
   "outputs": [],
   "source": []
  },
  {
   "cell_type": "code",
   "execution_count": null,
   "metadata": {},
   "outputs": [],
   "source": []
  },
  {
   "cell_type": "code",
   "execution_count": 1,
   "metadata": {},
   "outputs": [],
   "source": [
    "import random"
   ]
  },
  {
   "cell_type": "markdown",
   "metadata": {},
   "source": [
    "The first thing we need is the potential outcomes of the game - two losses and a win. It's easy to represent these in a list and shuffle it to generate a random game."
   ]
  },
  {
   "cell_type": "code",
   "execution_count": 2,
   "metadata": {},
   "outputs": [
    {
     "name": "stdout",
     "output_type": "stream",
     "text": [
      "['win', 'loss', 'loss']\n"
     ]
    }
   ],
   "source": [
    "# potential outcomes\n",
    "outcomes = [\"win\", \"loss\", \"loss\"]\n",
    "\n",
    "# shuffle the results\n",
    "random.shuffle(outcomes)\n",
    "\n",
    "print(outcomes)"
   ]
  },
  {
   "cell_type": "markdown",
   "metadata": {},
   "source": [
    "The next thing we will need is way to represent one of the base components of they game - a door. No need for anything too fancy - we'll just make it into a class to keep it organized."
   ]
  },
  {
   "cell_type": "code",
   "execution_count": 3,
   "metadata": {},
   "outputs": [],
   "source": [
    "class Door(object):\n",
    "\n",
    "    # just something to refer to it by\n",
    "    name = None\n",
    "\n",
    "    # will have contents (win or loss)\n",
    "    contents = None\n",
    "\n",
    "    # will or will not be opened at any given time\n",
    "    isOpen = False\n",
    "    \n",
    "    def open_(self):\n",
    "        self.isOpen = True\n",
    "\n",
    "# a simple function to open a door\n",
    "def openDoor(door):\n",
    "    door.isOpen = True\n",
    "    return door"
   ]
  },
  {
   "cell_type": "markdown",
   "metadata": {},
   "source": [
    "We can now make some doors and assign the outcomes we've generated with our shuffle. "
   ]
  },
  {
   "cell_type": "code",
   "execution_count": 4,
   "metadata": {},
   "outputs": [],
   "source": [
    "# make our doors\n",
    "door1 = Door()\n",
    "door2 = Door()\n",
    "door3 = Door()\n",
    "\n",
    "# give them our shuffled outcomes and name them\n",
    "door1.contents = outcomes[0]\n",
    "door1.name = \"Door #1\"\n",
    "\n",
    "door2.contents = outcomes[1]\n",
    "door2.name = \"Door #2\"\n",
    "\n",
    "door3.contents = outcomes[2]\n",
    "door3.name = \"Door #3\"\n",
    "\n",
    "# put them all in a list, simply for convinience\n",
    "doors = [door1, door2, door3]"
   ]
  },
  {
   "cell_type": "markdown",
   "metadata": {},
   "source": [
    "Now that we've set up the game, we can actually play it! Which door to pick? We will just write a function to select a random."
   ]
  },
  {
   "cell_type": "code",
   "execution_count": 5,
   "metadata": {},
   "outputs": [
    {
     "name": "stdout",
     "output_type": "stream",
     "text": [
      "Door #3\n",
      "Door #2\n",
      "Door #3\n"
     ]
    }
   ],
   "source": [
    "def pickRandomDoor(doorList):\n",
    "    return doorList[random.randint(0,2)]\n",
    "\n",
    "# let's see if it's working\n",
    "print(pickRandomDoor(doors).name)\n",
    "print(pickRandomDoor(doors).name)\n",
    "print(pickRandomDoor(doors).name)"
   ]
  },
  {
   "cell_type": "markdown",
   "metadata": {},
   "source": [
    "Looks good!"
   ]
  },
  {
   "cell_type": "code",
   "execution_count": 6,
   "metadata": {},
   "outputs": [
    {
     "data": {
      "text/plain": [
       "'Door #3'"
      ]
     },
     "execution_count": 6,
     "metadata": {},
     "output_type": "execute_result"
    }
   ],
   "source": [
    "chosenDoor = pickRandomDoor(doors)\n",
    "\n",
    "chosenDoor.name"
   ]
  },
  {
   "cell_type": "markdown",
   "metadata": {},
   "source": [
    "The die is cast. Now, the host will reveal a door, and to prevent the game from ending early, they'll make sure to *reveal a loss*. This is the key to the whole problem. We can emulate this bahavior with a function as well. "
   ]
  },
  {
   "cell_type": "code",
   "execution_count": 7,
   "metadata": {},
   "outputs": [],
   "source": [
    "def revealLoss(doors, chosenDoor):\n",
    "    \n",
    "    # we will look for the door to reveal in a random order...\n",
    "    orderToLook = [0,1,2]\n",
    "\n",
    "    # shuffle them\n",
    "    random.shuffle(orderToLook)\n",
    "\n",
    "    # ...but then look through each door to see if it's closed and a loss\n",
    "    for number in orderToLook:\n",
    "        doorAtNumber = doors[number]\n",
    "        # can't choose the win or doors that are already opened!\n",
    "        if doorAtNumber.isOpen is False \\\n",
    "            and doorAtNumber.contents is not \"win\" \\\n",
    "                and doorAtNumber is not chosenDoor:\n",
    "            return doorAtNumber"
   ]
  },
  {
   "cell_type": "markdown",
   "metadata": {},
   "source": [
    "Let's test this function by calling it 1000 times and making sure it always brings back losses from unopened doors. (note: a 'set' is just each unique item in a list once)"
   ]
  },
  {
   "cell_type": "code",
   "execution_count": 8,
   "metadata": {},
   "outputs": [
    {
     "name": "stdout",
     "output_type": "stream",
     "text": [
      "{False}\n",
      "{'loss'}\n"
     ]
    }
   ],
   "source": [
    "# call the function 1000 times\n",
    "testLosses = [revealLoss(doors, chosenDoor = chosenDoor) for i in range(1000)]\n",
    "\n",
    "# are all the open statuses False?\n",
    "print(set([door.isOpen for door in testLosses]))\n",
    "\n",
    "# are all the contents a loss\n",
    "print(set([door.contents for door in testLosses]))"
   ]
  },
  {
   "cell_type": "markdown",
   "metadata": {},
   "source": [
    "The last thing we need is a function that allows us to switch doors if we so choose. It will need information on what doors we have (the doors list) and which door we chose initially (we can't switch to the door we're on!). It will open the door that a) isn't already opened and b) isn't the door we chose first. We can implement it thusly:"
   ]
  },
  {
   "cell_type": "code",
   "execution_count": 9,
   "metadata": {},
   "outputs": [],
   "source": [
    "def switchDoors(doors, currentDoor):\n",
    "    # pick a door that ...\n",
    "    for d in doors:\n",
    "        # ...isn't the current door...\n",
    "        if d == currentDoor:\n",
    "            continue # to the next \"d\"\n",
    "        # ... and isn't opened\n",
    "        if d.isOpen == True:\n",
    "            continue # to the next \"d\"\n",
    "        return d"
   ]
  },
  {
   "cell_type": "markdown",
   "metadata": {},
   "source": [
    "Let's test this function in context with the others."
   ]
  },
  {
   "cell_type": "code",
   "execution_count": 10,
   "metadata": {},
   "outputs": [
    {
     "name": "stdout",
     "output_type": "stream",
     "text": [
      "Our first choice is Door #3\n",
      "After switching we have Door #1\n"
     ]
    }
   ],
   "source": [
    "# show our first choice\n",
    "print(\"Our first choice is\", chosenDoor.name)\n",
    "\n",
    "# switch our chosen door\n",
    "chosenDoor = switchDoors(doors, chosenDoor)\n",
    "\n",
    "print(\"After switching we have\", chosenDoor.name)"
   ]
  },
  {
   "cell_type": "markdown",
   "metadata": {},
   "source": [
    "We can also test it in the context of a door being revealed to make sure we don't switch to a door that's been opened: "
   ]
  },
  {
   "cell_type": "code",
   "execution_count": 11,
   "metadata": {},
   "outputs": [
    {
     "name": "stdout",
     "output_type": "stream",
     "text": [
      "Our first choice is Door #1\n",
      "The loss that we revealed was Door #3\n",
      "So our choice after switching must be Door #2\n"
     ]
    }
   ],
   "source": [
    "# show our first choice\n",
    "print(\"Our first choice is\", chosenDoor.name)\n",
    "\n",
    "# reveal a loss\n",
    "doorOpened = openDoor(revealLoss(doors, chosenDoor))\n",
    "\n",
    "# show which door was opened\n",
    "print(\"The loss that we revealed was\", doorOpened.name)\n",
    "\n",
    "# switch our chosen door\n",
    "chosenDoor = switchDoors(doors, chosenDoor)\n",
    "\n",
    "print(\"So our choice after switching must be\", chosenDoor.name)"
   ]
  },
  {
   "cell_type": "markdown",
   "metadata": {},
   "source": [
    "We've now get everything we need to run a simulation of the game! Let's run one. We will do it step by step to make it as clear as possible."
   ]
  },
  {
   "cell_type": "code",
   "execution_count": 12,
   "metadata": {},
   "outputs": [
    {
     "name": "stdout",
     "output_type": "stream",
     "text": [
      "win\n"
     ]
    }
   ],
   "source": [
    "### set up the game\n",
    "\n",
    "# will we switch?\n",
    "switch = True\n",
    "\n",
    "# potential outcomes\n",
    "outcomes = [\"win\", \"loss\", \"loss\"]\n",
    "\n",
    "# shuffle the results\n",
    "random.shuffle(outcomes)\n",
    "\n",
    "# set up the doors\n",
    "door1 = Door()\n",
    "door2 = Door()\n",
    "door3 = Door()\n",
    "\n",
    "# assign names and contents them\n",
    "door1.contents = outcomes[0]\n",
    "door1.name = \"Door #1\"\n",
    "\n",
    "door2.contents = outcomes[1]\n",
    "door2.name = \"Door #2\"\n",
    "\n",
    "door3.contents = outcomes[2]\n",
    "door3.name = \"Door #3\"\n",
    "\n",
    "# simply for convinience\n",
    "doors = [door1, door2, door3]\n",
    "\n",
    "### make our initial selection\n",
    "chosenDoor = pickRandomDoor(doors)\n",
    "\n",
    "### reveal a loss \n",
    "doorOpened = openDoor(revealLoss(doors, chosenDoor))\n",
    "\n",
    "### the switch!\n",
    "if switch == True:\n",
    "    chosenDoor = switchDoors(doors, chosenDoor)\n",
    "else: # stay with our first guess\n",
    "    pass\n",
    "\n",
    "print(chosenDoor.contents)"
   ]
  },
  {
   "cell_type": "markdown",
   "metadata": {},
   "source": [
    "To make it easy to generate lots of results, we can wrap this in a function:"
   ]
  },
  {
   "cell_type": "code",
   "execution_count": 13,
   "metadata": {},
   "outputs": [],
   "source": [
    "def runMonteHall(switch = True):\n",
    "\n",
    "    ### set up the game\n",
    "    # potential outcomes\n",
    "    outcomes = [\"win\", \"loss\", \"loss\"]\n",
    "\n",
    "    # shuffle the results\n",
    "    random.shuffle(outcomes)\n",
    "\n",
    "    # set up the doors\n",
    "    door1 = Door()\n",
    "    door2 = Door()\n",
    "    door3 = Door()\n",
    "\n",
    "    # assign names and contents them\n",
    "    door1.contents = outcomes[0]\n",
    "    door1.name = \"Door #1\"\n",
    "\n",
    "    door2.contents = outcomes[1]\n",
    "    door2.name = \"Door #2\"\n",
    "\n",
    "    door3.contents = outcomes[2]\n",
    "    door3.name = \"Door #3\"\n",
    "\n",
    "    # simply for convinience\n",
    "    doors = [door1, door2, door3]\n",
    "\n",
    "    ### make our initial selection\n",
    "    chosenDoor = pickRandomDoor(doors)\n",
    "\n",
    "    ### reveal a door \n",
    "    doorOpened = openDoor(revealLoss(doors, chosenDoor))\n",
    "\n",
    "    ### the switch!\n",
    "    if switch == True:\n",
    "        chosenDoor = switchDoors(doors, chosenDoor)\n",
    "    else: # stay with our first guess\n",
    "        pass\n",
    "\n",
    "    return chosenDoor"
   ]
  },
  {
   "cell_type": "markdown",
   "metadata": {},
   "source": [
    "Now we can confirm our theoretical understanding of the problem by simply running thousands of games to see that pattern that emerges. To make this easy, let's write a simple function that scores lists of games for us."
   ]
  },
  {
   "cell_type": "code",
   "execution_count": 14,
   "metadata": {},
   "outputs": [],
   "source": [
    "def scoreGames(gamesList):\n",
    "\n",
    "    # count wins vs losses\n",
    "    wins = [result for result in gamesList if result == \"win\"]\n",
    "    losses = [result for result in gamesList if result == \"loss\"]\n",
    "\n",
    "    # get percents\n",
    "    winPercent = round(len(wins)/len(gamesList), 4) * 100\n",
    "    lossPercent = round(len(losses)/len(gamesList), 4) * 100\n",
    "\n",
    "    # return a dict of results\n",
    "    return {\"win %:\": winPercent, \"loss %:\": lossPercent}"
   ]
  },
  {
   "cell_type": "markdown",
   "metadata": {},
   "source": [
    "Now we'll run a bunch of games and count how many times we won with switching versus staying:"
   ]
  },
  {
   "cell_type": "code",
   "execution_count": 15,
   "metadata": {},
   "outputs": [
    {
     "name": "stdout",
     "output_type": "stream",
     "text": [
      "With switching: {'win %:': 66.44, 'loss %:': 33.56}\n",
      "With staying: {'win %:': 33.879999999999995, 'loss %:': 66.12}\n"
     ]
    }
   ],
   "source": [
    "# games where we switch\n",
    "switchGames = [runMonteHall(switch = True).contents for i in range(5000)]\n",
    "\n",
    "# games where we stay\n",
    "stayGames = [runMonteHall(switch = False).contents for i in range(5000)]\n",
    "\n",
    "# let's take a look\n",
    "switchResults = scoreGames(switchGames)\n",
    "print(\"With switching:\", switchResults)\n",
    "\n",
    "stayResults = scoreGames(stayGames)\n",
    "print(\"With staying:\", stayResults)"
   ]
  },
  {
   "cell_type": "markdown",
   "metadata": {},
   "source": [
    "\n",
    "     [?] [?] [?]\n",
    "\n",
    "\n",
    "|Door 1|Door 2|Door 3|\n",
    "|:------|:-----:|------:|\n",
    "| `1/3` | `1/3` | `1/3` |\n",
    "| `[?]` | `[?]` | `[?]` |\n",
    "|`picked`|`closed`|`closed`|"
   ]
  },
  {
   "cell_type": "code",
   "execution_count": null,
   "metadata": {},
   "outputs": [],
   "source": []
  },
  {
   "cell_type": "code",
   "execution_count": null,
   "metadata": {},
   "outputs": [],
   "source": []
  },
  {
   "cell_type": "code",
   "execution_count": null,
   "metadata": {},
   "outputs": [],
   "source": []
  },
  {
   "cell_type": "code",
   "execution_count": null,
   "metadata": {},
   "outputs": [],
   "source": []
  },
  {
   "cell_type": "markdown",
   "metadata": {},
   "source": [
    "### Testing the revealLoss function"
   ]
  },
  {
   "cell_type": "markdown",
   "metadata": {},
   "source": [
    "Just to make sure we never reveal a win or a the door we've already we opened we can do a little quality control. We'll make reveal 1,000 doors and tell Python to kick an error if it finds something we don't want. \n",
    "\n",
    "\n",
    "Specifically, we'll make sure there is only 2 (or fewer) doors ever chosen by the revealLoss function. If we choose the correct door on our first guess, the host has 2 doors to choose from (they can't open the one we chose, but neither of the other doors are the winner so they can open either). If we're wrong, the host only has one choice. They can't open our door, or the winner, leaving just one option (this will be an important insight later on, so keep it in mind). Thus, if our simulated losses contain 1 or 2 names, that's fine - but if there are three different doors in there we've done something wrong. "
   ]
  },
  {
   "cell_type": "code",
   "execution_count": 16,
   "metadata": {},
   "outputs": [
    {
     "name": "stdout",
     "output_type": "stream",
     "text": [
      "Names in the losses: {'Test #2', 'Test #3'}\n",
      "When Test #1 contains: win\n"
     ]
    }
   ],
   "source": [
    "# a test set of doors \n",
    "test1 = Door()\n",
    "test1.name = \"Test #1\"\n",
    "test1.contents = \"win\"\n",
    "\n",
    "test2 = Door()\n",
    "test2.name = \"Test #2\"\n",
    "test2.contents = \"loss\"\n",
    "\n",
    "test3 = Door()\n",
    "test3.name = \"Test #3\"\n",
    "test3.contents = \"loss\"\n",
    "\n",
    "# make our choice - we set the winner manually for transparency\n",
    "testChoice = test1\n",
    "\n",
    "# make a list of our test doors\n",
    "testDoors = [test1, test2, test3]\n",
    "\n",
    "# generate one thousand losses\n",
    "oneThousandLosses = [revealLoss(testDoors, testChoice) for i in range(1000)]\n",
    "\n",
    "# get all the names of the doors in the test losses\n",
    "lossesNames = [door.name for door in oneThousandLosses]\n",
    "\n",
    "# the unique names found (set simply returns one copy of each unique in a list)\n",
    "print(\"Names in the losses:\", set(lossesNames))\n",
    "\n",
    "# this will cause an error if there are more than two names in the list\n",
    "assert len(set(lossesNames)) <= 2\n",
    "\n",
    "# compare that to the chosen door\n",
    "print(\"When\", testChoice.name, \"contains:\", testChoice.contents)"
   ]
  },
  {
   "cell_type": "markdown",
   "metadata": {},
   "source": [
    "We see that our function returns the two doors that aren't the winner in our test of 1000 cases"
   ]
  }
 ],
 "metadata": {
  "kernelspec": {
   "display_name": "Python 3",
   "language": "python",
   "name": "python3"
  },
  "language_info": {
   "codemirror_mode": {
    "name": "ipython",
    "version": 3
   },
   "file_extension": ".py",
   "mimetype": "text/x-python",
   "name": "python",
   "nbconvert_exporter": "python",
   "pygments_lexer": "ipython3",
   "version": "3.7.5"
  }
 },
 "nbformat": 4,
 "nbformat_minor": 4
}
