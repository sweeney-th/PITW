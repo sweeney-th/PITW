{
 "cells": [
  {
   "cell_type": "code",
   "execution_count": 1,
   "metadata": {},
   "outputs": [],
   "source": [
    "import random"
   ]
  },
  {
   "cell_type": "markdown",
   "metadata": {},
   "source": [
    "The first thing we need is the potential outcomes of the game - two losses and a win. It's easy to represent these in a list and shuffle it to generate a random game."
   ]
  },
  {
   "cell_type": "code",
   "execution_count": 2,
   "metadata": {},
   "outputs": [
    {
     "name": "stdout",
     "output_type": "stream",
     "text": [
      "['loss', 'loss', 'win']\n"
     ]
    }
   ],
   "source": [
    "# potential outcomes\n",
    "outcomes = [\"win\", \"loss\", \"loss\"]\n",
    "\n",
    "# shuffle the results\n",
    "random.shuffle(outcomes)\n",
    "\n",
    "print(outcomes)"
   ]
  },
  {
   "cell_type": "markdown",
   "metadata": {},
   "source": [
    "The next thing we will need is way to represent one of the base components of they game - a door. No need for anything too fancy - we'll just make it into a class to keep it organized."
   ]
  },
  {
   "cell_type": "code",
   "execution_count": 3,
   "metadata": {},
   "outputs": [],
   "source": [
    "class Door(object):\n",
    "\n",
    "    # just something to refer to it by\n",
    "    name = None\n",
    "\n",
    "    # will have contents (win or loss)\n",
    "    contents = None\n",
    "\n",
    "    # will or will not be opened at any given time\n",
    "    isOpen = False"
   ]
  },
  {
   "cell_type": "markdown",
   "metadata": {},
   "source": [
    "We can now make some doors and assign the outcomes we've generated with our shuffle. "
   ]
  },
  {
   "cell_type": "code",
   "execution_count": 4,
   "metadata": {},
   "outputs": [],
   "source": [
    "# make our doors\n",
    "door1 = Door()\n",
    "door2 = Door()\n",
    "door3 = Door()\n",
    "\n",
    "# give them our shuffled outcomes and name them\n",
    "door1.contents = outcomes[0]\n",
    "door1.name = \"Door #1\"\n",
    "\n",
    "door2.contents = outcomes[1]\n",
    "door2.name = \"Door #2\"\n",
    "\n",
    "door3.contents = outcomes[2]\n",
    "door3.name = \"Door #3\"\n",
    "\n",
    "# out them all in a list, simply for convinience\n",
    "doors = [door1, door2, door3]"
   ]
  },
  {
   "cell_type": "markdown",
   "metadata": {},
   "source": [
    "Now that we've set up the game, we can actually play it! Which door to pick? We will just write a function to select a random."
   ]
  },
  {
   "cell_type": "code",
   "execution_count": 5,
   "metadata": {},
   "outputs": [
    {
     "name": "stdout",
     "output_type": "stream",
     "text": [
      "Door #1\n",
      "Door #1\n",
      "Door #2\n"
     ]
    }
   ],
   "source": [
    "def pickRandomDoor(doorList):\n",
    "    return doorList[random.randint(0,2)]\n",
    "\n",
    "# let's see if it's working\n",
    "print(pickRandomDoor(doors).name)\n",
    "print(pickRandomDoor(doors).name)\n",
    "print(pickRandomDoor(doors).name)"
   ]
  },
  {
   "cell_type": "markdown",
   "metadata": {},
   "source": [
    "Looks good!"
   ]
  },
  {
   "cell_type": "code",
   "execution_count": 6,
   "metadata": {},
   "outputs": [
    {
     "data": {
      "text/plain": [
       "'Door #3'"
      ]
     },
     "execution_count": 6,
     "metadata": {},
     "output_type": "execute_result"
    }
   ],
   "source": [
    "chosenDoor = pickRandomDoor(doors)\n",
    "\n",
    "chosenDoor.name"
   ]
  },
  {
   "cell_type": "markdown",
   "metadata": {},
   "source": [
    "The die is cast. Now, the host will reveal a door, and to prevent the game from ending early, they'll make sure to *reveal a loss*. This is the key to the whole problem. We can emulate this bahavior with a function as well. "
   ]
  },
  {
   "cell_type": "code",
   "execution_count": 7,
   "metadata": {},
   "outputs": [],
   "source": [
    "def revealLoss(doors, chosenDoor):\n",
    "    \n",
    "    # we will look for the door to reveal in a random order...\n",
    "    orderToLook = [0,1,2]\n",
    "\n",
    "    # shuffle them\n",
    "    random.shuffle(orderToLook)\n",
    "\n",
    "    # ...but then look through each door to see if it's closed and a loss\n",
    "    for number in orderToLook:\n",
    "        doorAtNumber = doors[number]\n",
    "        # can't choose the win or doors that are already opened!\n",
    "        if doorAtNumber.isOpen is False \\\n",
    "            and doorAtNumber.contents is not \"win\" \\\n",
    "                and doorAtNumber is not chosenDoor:\n",
    "            return doorAtNumber"
   ]
  },
  {
   "cell_type": "markdown",
   "metadata": {},
   "source": [
    "Let's test this function:"
   ]
  },
  {
   "cell_type": "code",
   "execution_count": 8,
   "metadata": {},
   "outputs": [
    {
     "name": "stdout",
     "output_type": "stream",
     "text": [
      "loss\n"
     ]
    }
   ],
   "source": [
    "print(revealLoss(doors, chosenDoor = chosenDoor).contents)"
   ]
  },
  {
   "cell_type": "markdown",
   "metadata": {},
   "source": [
    "Just to make sure we never reveal a win or a the door we've already we opened we can do a little quality control. We'll make reveal 1,000 doors and tell Python to kick an error if it finds something we don't want. \n",
    "\n",
    "\n",
    "Specifically, we'll make sure there is only 2 (or fewer) doors ever chosen. This is because, if we choose the correct door on our first guess, the host has 2 doors to choose from (they can't open the one we chose, but neither of the other doors are the winner so they can choose either).\n",
    "\n",
    "\n",
    "If we're wrong, the host only has one choice. They can't open our door, or the winner, leaving just one option (this will be an important insight later on, so keep it in mind). Thus, if our simulated losses contain 1 or 2 names, that's fine - but if there are three different doors in there we've done something wrong. "
   ]
  },
  {
   "cell_type": "code",
   "execution_count": 10,
   "metadata": {},
   "outputs": [
    {
     "name": "stdout",
     "output_type": "stream",
     "text": [
      "Names in the losses: {'Test #2', 'Test #3'}\n",
      "When Test #1 contains: win\n"
     ]
    }
   ],
   "source": [
    "# make a test set of doors\n",
    "# we will set the winner manually for transparency \n",
    "test1 = Door()\n",
    "test1.name = \"Test #1\"\n",
    "test1.contents = \"win\"\n",
    "\n",
    "test2 = Door()\n",
    "test2.name = \"Test #2\"\n",
    "test2.contents = \"loss\"\n",
    "\n",
    "test3 = Door()\n",
    "test3.name = \"Test #3\"\n",
    "test3.contents = \"loss\"\n",
    "\n",
    "# make our choice \n",
    "testChoice = test1\n",
    "\n",
    "# make a list of our test doors\n",
    "testDoors = [test1, test2, test3]\n",
    "\n",
    "# generate one thousand losses\n",
    "oneThousandLosses = [revealLoss(testDoors, testChoice) for i in range(1000)]\n",
    "\n",
    "# get all the names of the doors in the test losses\n",
    "lossesNames = [door.name for door in oneThousandLosses]\n",
    "\n",
    "# the unique names found (set simply returns one copy of each unique in a list)\n",
    "print(\"Names in the losses:\", set(lossesNames))\n",
    "\n",
    "# this will cause an error if there are more than two names in the list\n",
    "assert len(set(lossesNames)) <= 2\n",
    "\n",
    "# compare that to the chosen door\n",
    "print(\"When\", testChoice.name, \"contains:\", testChoice.contents)"
   ]
  },
  {
   "cell_type": "markdown",
   "metadata": {},
   "source": [
    "We see that our function returns the other "
   ]
  }
 ],
 "metadata": {
  "kernelspec": {
   "display_name": "Python 3",
   "language": "python",
   "name": "python3"
  },
  "language_info": {
   "codemirror_mode": {
    "name": "ipython",
    "version": 3
   },
   "file_extension": ".py",
   "mimetype": "text/x-python",
   "name": "python",
   "nbconvert_exporter": "python",
   "pygments_lexer": "ipython3",
   "version": "3.7.5"
  }
 },
 "nbformat": 4,
 "nbformat_minor": 4
}
