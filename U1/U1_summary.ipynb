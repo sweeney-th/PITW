{
 "cells": [
  {
   "cell_type": "markdown",
   "metadata": {},
   "source": [
    "# Unit 1 Summary"
   ]
  },
  {
   "cell_type": "markdown",
   "metadata": {},
   "source": [
    "Function take \"arguments\" in paranthesis and do something usefull for us."
   ]
  },
  {
   "cell_type": "markdown",
   "metadata": {},
   "source": [
    "The print() function displays information to the terminal. "
   ]
  },
  {
   "cell_type": "code",
   "execution_count": 12,
   "metadata": {},
   "outputs": [
    {
     "name": "stdout",
     "output_type": "stream",
     "text": [
      "Hello Python\n"
     ]
    }
   ],
   "source": [
    "\n",
    "# the print function displays information to the terminal \n",
    "print(\"Hello Python\")"
   ]
  },
  {
   "cell_type": "markdown",
   "metadata": {},
   "source": [
    "We can store information in a \"variable\" which will remember it and assign it a name."
   ]
  },
  {
   "cell_type": "code",
   "execution_count": 13,
   "metadata": {},
   "outputs": [
    {
     "name": "stdout",
     "output_type": "stream",
     "text": [
      "Guido\n"
     ]
    }
   ],
   "source": [
    "\n",
    "# declare a variable called \"name\" containing the string \"Guido\"\n",
    "name = \"Guido\"\n",
    "print(name)"
   ]
  },
  {
   "cell_type": "markdown",
   "metadata": {},
   "source": [
    "The len() argument returns the number of characters in a string. This can also be stored in a variable (Remember that we can't start variable names with number and there can be no spaces)."
   ]
  },
  {
   "cell_type": "code",
   "execution_count": 14,
   "metadata": {},
   "outputs": [
    {
     "name": "stdout",
     "output_type": "stream",
     "text": [
      "5\n"
     ]
    }
   ],
   "source": [
    "name_length = len(name)\n",
    "print(name_length)"
   ]
  },
  {
   "cell_type": "markdown",
   "metadata": {},
   "source": [
    "By default, Python includes newlines in strings. If you don’t want one, you can specify with the optional end argument as shown below. "
   ]
  },
  {
   "cell_type": "code",
   "execution_count": 15,
   "metadata": {},
   "outputs": [
    {
     "name": "stdout",
     "output_type": "stream",
     "text": [
      "Hello World\n"
     ]
    }
   ],
   "source": [
    "\n",
    "# the end argument tells Python where to end the print \n",
    "print(\"Hello \", end = \"\")\n",
    "print(\"World\")"
   ]
  },
  {
   "cell_type": "markdown",
   "metadata": {},
   "source": [
    "You can print regions of a string using indexing as below. Remember that Python (and most languages) start counting from zero. Also, the numeric ranges match the English sentence “up to but not including”."
   ]
  },
  {
   "cell_type": "code",
   "execution_count": 19,
   "metadata": {},
   "outputs": [
    {
     "name": "stdout",
     "output_type": "stream",
     "text": [
      "G\n",
      "Giu\n",
      "Giudo\n",
      "Giud\n"
     ]
    }
   ],
   "source": [
    "\n",
    "# print one spot in a string\n",
    "print(name[0])\n",
    "\n",
    "# print a range of characters - 0,1,2, not including 3\n",
    "print(name[0:3])\n",
    "\n",
    "### shorthand:\n",
    "\n",
    "# print form the start on\n",
    "print(name[0:])\n",
    "\n",
    "# print up to an index \n",
    "print(name[:4])"
   ]
  },
  {
   "cell_type": "markdown",
   "metadata": {},
   "source": [
    "The upper() and lower() methods belong to the string method that print upper and lower case version of the string. "
   ]
  },
  {
   "cell_type": "code",
   "execution_count": 17,
   "metadata": {},
   "outputs": [
    {
     "name": "stdout",
     "output_type": "stream",
     "text": [
      "GIUDO\n",
      "giudo\n"
     ]
    }
   ],
   "source": [
    "# declare name\n",
    "name = \"Giudo\"\n",
    "\n",
    "# Find the length using the len() function\n",
    "len(name)\n",
    "\n",
    "# change the case using methods.\n",
    "print(name.upper())\n",
    "print(name.lower())"
   ]
  }
 ],
 "metadata": {
  "kernelspec": {
   "display_name": "Python 3",
   "language": "python",
   "name": "python3"
  },
  "language_info": {
   "codemirror_mode": {
    "name": "ipython",
    "version": 3
   },
   "file_extension": ".py",
   "mimetype": "text/x-python",
   "name": "python",
   "nbconvert_exporter": "python",
   "pygments_lexer": "ipython3",
   "version": "3.5.3"
  }
 },
 "nbformat": 4,
 "nbformat_minor": 2
}
