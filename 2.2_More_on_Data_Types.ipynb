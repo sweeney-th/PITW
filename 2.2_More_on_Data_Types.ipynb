{
 "cells": [
  {
   "cell_type": "markdown",
   "metadata": {},
   "source": [
    "# More on Data Types"
   ]
  },
  {
   "cell_type": "markdown",
   "metadata": {},
   "source": [
    "I've mentioned data types a few time so far. We've encountered strings, and have been working with numbers. For reasons of efficient memory use, computers make some distinctions when working with numbers however, so we need to a little more specific. You may recall that I said an \"int\" is a number with no decimal place. Int stands for integer. If a number DOES have a decimal, it is called a \"float\", for \"floating point number\". They take up a little more room in memory.\n",
    "\n",
    "Python makes working with these two types of numbers pretty simple; they can be converted from one type to the other as needed, and simple calculations don’t require a conversion to begin with. \n",
    "\n",
    "If we are curious about the data type of something, we can use a type() function to investigate. This is called “introspection” because we are causing the language to think about itself (kinda)."
   ]
  },
  {
   "cell_type": "code",
   "execution_count": 43,
   "metadata": {},
   "outputs": [
    {
     "name": "stdout",
     "output_type": "stream",
     "text": [
      "<class 'int'>\n"
     ]
    }
   ],
   "source": [
    "x = 1\n",
    "\n",
    "# print the results of the type function on x\n",
    "print(type(x))"
   ]
  },
  {
   "cell_type": "markdown",
   "metadata": {},
   "source": [
    "Let's take a look with a decimal place:"
   ]
  },
  {
   "cell_type": "code",
   "execution_count": 44,
   "metadata": {},
   "outputs": [
    {
     "name": "stdout",
     "output_type": "stream",
     "text": [
      "<class 'float'>\n"
     ]
    }
   ],
   "source": [
    "x = 1.0\n",
    "\n",
    "# print the results of the type function on x\n",
    "print(type(x))"
   ]
  },
  {
   "cell_type": "markdown",
   "metadata": {},
   "source": [
    "You might notice we never told our program what type of data we were giving it, but it 'knew' anyway. This is because Python uses what is known as \"type inference\". It infers from context what the type is (some languages, for a number of reasons,  require the user to state what kind of data they are using). This is analagous to how we can say \"I wonder if they serve breakfast here\" when sitting in a resturant with out saying its name; it doesn't make sense we'd be sitting here, using the word \"they\", but meaning a different location."
   ]
  },
  {
   "cell_type": "markdown",
   "metadata": {},
   "source": [
    "Let's see what happens when we use the two together. "
   ]
  },
  {
   "cell_type": "code",
   "execution_count": 45,
   "metadata": {},
   "outputs": [
    {
     "name": "stdout",
     "output_type": "stream",
     "text": [
      "<class 'float'>\n"
     ]
    }
   ],
   "source": [
    "\n",
    "# declare an int and a float\n",
    "x = 1\n",
    "y = 2.0\n",
    "\n",
    "# add, store, print type\n",
    "z = x + y\n",
    "print(type(z))"
   ]
  },
  {
   "cell_type": "markdown",
   "metadata": {},
   "source": [
    "Because the float type requires more memory, if any of the number in a computation are floats, the result must be a float."
   ]
  },
  {
   "cell_type": "markdown",
   "metadata": {},
   "source": [
    "In some cases, we might need to change between its and floats. Python provides functions for this."
   ]
  },
  {
   "cell_type": "code",
   "execution_count": 46,
   "metadata": {},
   "outputs": [
    {
     "name": "stdout",
     "output_type": "stream",
     "text": [
      "<class 'int'>\n",
      "<class 'float'>\n"
     ]
    }
   ],
   "source": [
    "\n",
    "# set x to 1 (it is an int by default)\n",
    "x = 1\n",
    "\n",
    "# confirm the type\n",
    "print(type(x))\n",
    "\n",
    "# call the float function\n",
    "x = float(x)\n",
    "\n",
    "# check the type again \n",
    "print(type(x))"
   ]
  },
  {
   "cell_type": "markdown",
   "metadata": {},
   "source": [
    "If the float ends in .0, you can convert the other way as well:"
   ]
  },
  {
   "cell_type": "code",
   "execution_count": 47,
   "metadata": {},
   "outputs": [
    {
     "name": "stdout",
     "output_type": "stream",
     "text": [
      "<class 'float'>\n",
      "<class 'int'>\n"
     ]
    }
   ],
   "source": [
    "\n",
    "# set x to a float of 1\n",
    "x = 1.0\n",
    "\n",
    "# confirm the type\n",
    "print(type(x))\n",
    "\n",
    "# convert\n",
    "x = int(x)\n",
    "\n",
    "#confirm the type\n",
    "print(type(x))"
   ]
  },
  {
   "cell_type": "markdown",
   "metadata": {},
   "source": [
    "The takeaway here is that Python will help you out with int and floats quite a bit, but it is still good to know what you are dealing with. "
   ]
  },
  {
   "cell_type": "markdown",
   "metadata": {},
   "source": [
    "### Strings and Numbers"
   ]
  },
  {
   "cell_type": "markdown",
   "metadata": {},
   "source": [
    "One common headache with types comes from the fact that strings can sometimes look like ints. If, for example, our program has read data in from a file, we don't always know how the file was generated. Take a look:"
   ]
  },
  {
   "cell_type": "code",
   "execution_count": 48,
   "metadata": {},
   "outputs": [
    {
     "name": "stdout",
     "output_type": "stream",
     "text": [
      "12\n"
     ]
    }
   ],
   "source": [
    "\n",
    "#Let's say we read in x and y from a file:\n",
    "x = \"1\"\n",
    "z = \"2\"\n",
    "\n",
    "# we want to do some simple math\n",
    "print(x + z)"
   ]
  },
  {
   "cell_type": "markdown",
   "metadata": {},
   "source": [
    "Whoops. 1 plus 2 is not 12. Not in math anyway. But there is a case where \"1\" and \"2\" makes \"12\", and that is in string concatenation. You might notice that there are quotes around the definition of x and y. Recall that this is how we designated something as a string in the previous module. In our hypothetical example where we are reading in information from a file, we wouldn't be able to see this. So we can use introspection to see what's going on. "
   ]
  },
  {
   "cell_type": "code",
   "execution_count": 49,
   "metadata": {},
   "outputs": [
    {
     "name": "stdout",
     "output_type": "stream",
     "text": [
      "<class 'str'>\n"
     ]
    }
   ],
   "source": [
    "\n",
    "x = \"1\"\n",
    "y = \"2\"\n",
    "\n",
    "# see what type we are dealing with\n",
    "print(type(x))"
   ]
  },
  {
   "cell_type": "markdown",
   "metadata": {},
   "source": [
    "Now there's your problem; we are adding strings together, not numbers. Adding two strings pushes them together, well adding two numbers gives us their sum. It is tricky that \"1\" and \"2\" can appear in the same context as 1 and 2. I like to think of \"1\" (the string) as a picture of the number 1, or a character, and 1 as a the numerical value 1. How do we fix this?"
   ]
  },
  {
   "cell_type": "code",
   "execution_count": 50,
   "metadata": {},
   "outputs": [
    {
     "name": "stdout",
     "output_type": "stream",
     "text": [
      "3\n"
     ]
    }
   ],
   "source": [
    "\n",
    "x = \"1\"\n",
    "y = \"2\"\n",
    "\n",
    "# call the int function\n",
    "print(int(x) + int(y))"
   ]
  },
  {
   "cell_type": "markdown",
   "metadata": {},
   "source": [
    "And we're good to go. Bugs like this can be tricky because it isn't always obvious something is wrong. In this small example, it might be obvious that 1 and 2 don't make twelve, but it might be less clear in a larger example or when we don't see the numbers at each step. Furthermore, the program still runs. Obvious bugs will cause a crash and announce their presence. This one doesn't. This is known as a \"semantic error\" because the program runs and does excactly what we told it to, but not what we thought we told it to. "
   ]
  },
  {
   "cell_type": "markdown",
   "metadata": {},
   "source": [
    "Another specific example worth mentioning is when one of the variables is a string and the other isn't. "
   ]
  },
  {
   "cell_type": "markdown",
   "metadata": {},
   "source": [
    "x = \"1\"\n",
    "y = 1"
   ]
  },
  {
   "cell_type": "markdown",
   "metadata": {},
   "source": [
    "This will produce a \"Type Error\" meaning the entries are of incompatible types. "
   ]
  },
  {
   "cell_type": "markdown",
   "metadata": {},
   "source": [
    "### Technique:\n",
    "\n",
    "Ints are numbers with no decimal places. \n",
    "\n",
    "Floats are numbers with decimal places.\n",
    "\n",
    "They can be used together. \n",
    "\n",
    "You can convert between types with int() and float()\n",
    "\n",
    "the type() function tells us what type something is\n",
    "\n",
    "Type inference allows the language to determine type by context\n",
    "\n",
    "### Meta:\n",
    "\n",
    "A program that runs without errors but produces unexpected results is said to have a \"semantic error\", which can be tricky to suss out.\n",
    "\n",
    "Other languages use different typing systems where you tell the program what to expect in advance. This is the more traditional approach; languages balance speed, readability, ease of use, and tradition when decided how to approach types. \n",
    "\n",
    "\n"
   ]
  }
 ],
 "metadata": {
  "kernelspec": {
   "display_name": "Python 3",
   "language": "python",
   "name": "python3"
  },
  "language_info": {
   "codemirror_mode": {
    "name": "ipython",
    "version": 3
   },
   "file_extension": ".py",
   "mimetype": "text/x-python",
   "name": "python",
   "nbconvert_exporter": "python",
   "pygments_lexer": "ipython3",
   "version": "3.5.3"
  }
 },
 "nbformat": 4,
 "nbformat_minor": 2
}
