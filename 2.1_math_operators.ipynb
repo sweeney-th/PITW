{
 "cells": [
  {
   "cell_type": "markdown",
   "metadata": {},
   "source": [
    "# Start Unit 2 "
   ]
  },
  {
   "cell_type": "markdown",
   "metadata": {},
   "source": [
    "### Mathematical Operators"
   ]
  },
  {
   "cell_type": "markdown",
   "metadata": {},
   "source": [
    "In Unit 2 we will introduce basic concepts of math and logic. Math tends to freak people out a little bit. This is a valid concern as math is usually taught in a very narrow style. Python, however, makes it quite streamlined and keep in mind that our goal in programming is to make the computer do things for us, so it will do the numerical heavy lifting. First, let’s get some notation of out the way. The mathematical operators in Python should look fairly familiar if you’ve used any sort of computer based calculator. \n",
    "\n",
    "See if you can get all of these running."
   ]
  },
  {
   "cell_type": "markdown",
   "metadata": {},
   "source": [
    "Adding numbers simply uses the '+' operator."
   ]
  },
  {
   "cell_type": "code",
   "execution_count": 35,
   "metadata": {},
   "outputs": [
    {
     "name": "stdout",
     "output_type": "stream",
     "text": [
      "5\n"
     ]
    }
   ],
   "source": [
    "\n",
    "# we will use these two integers for our examples\n",
    "x = 2 \n",
    "y = 3\n",
    "\n",
    "# print the answer \n",
    "print(x + y)"
   ]
  },
  {
   "cell_type": "markdown",
   "metadata": {},
   "source": [
    "Subtraction uses the '-' operator."
   ]
  },
  {
   "cell_type": "code",
   "execution_count": 36,
   "metadata": {},
   "outputs": [
    {
     "name": "stdout",
     "output_type": "stream",
     "text": [
      "-1\n"
     ]
    }
   ],
   "source": [
    "\n",
    "# 2 - 3\n",
    "print(x - y)"
   ]
  },
  {
   "cell_type": "markdown",
   "metadata": {},
   "source": [
    "Multiplication uses the '*' operator."
   ]
  },
  {
   "cell_type": "code",
   "execution_count": 37,
   "metadata": {},
   "outputs": [
    {
     "name": "stdout",
     "output_type": "stream",
     "text": [
      "6\n"
     ]
    }
   ],
   "source": [
    "\n",
    "# 2 x 3\n",
    "print(x * y)"
   ]
  },
  {
   "cell_type": "markdown",
   "metadata": {},
   "source": [
    "Division uses the \"/\" operator."
   ]
  },
  {
   "cell_type": "code",
   "execution_count": 38,
   "metadata": {},
   "outputs": [
    {
     "name": "stdout",
     "output_type": "stream",
     "text": [
      "1.5\n"
     ]
    }
   ],
   "source": [
    "\n",
    "# 3/2\n",
    "print(y / x)"
   ]
  },
  {
   "cell_type": "markdown",
   "metadata": {},
   "source": [
    "To raise a number to a power, use **."
   ]
  },
  {
   "cell_type": "code",
   "execution_count": 39,
   "metadata": {},
   "outputs": [
    {
     "name": "stdout",
     "output_type": "stream",
     "text": [
      "8\n"
     ]
    }
   ],
   "source": [
    "\n",
    "# 2^3\n",
    "print(2**3)"
   ]
  },
  {
   "cell_type": "markdown",
   "metadata": {},
   "source": [
    "### Introducing the Modulus Operator "
   ]
  },
  {
   "cell_type": "markdown",
   "metadata": {},
   "source": [
    "Programming languages have an additional operator not commonly seen in traditional arithmetic. It is called the \"modulus operator\" and is represented by the symbol \"%\" in Python. It performs a division, and returns the remainder, or leftover, of that division. For example, 15 % 7 gives us 1. 7 goes into 15 twice, bringing us up to 14, but leaves 1 leftover. Putting 7 in three times would give us 21, which is too high, so we go with 2 times for 14 and accept the 1 as a leftover. "
   ]
  },
  {
   "cell_type": "code",
   "execution_count": 40,
   "metadata": {},
   "outputs": [
    {
     "name": "stdout",
     "output_type": "stream",
     "text": [
      "1\n"
     ]
    }
   ],
   "source": [
    "\n",
    "# set new values for x and y\n",
    "x = 7\n",
    "y = 15\n",
    "\n",
    "print(y % x)"
   ]
  },
  {
   "cell_type": "markdown",
   "metadata": {},
   "source": [
    "What is the point of the modulus operator?\n",
    "\n",
    "Generally speaking, Python will provide you with tools that may or may not be useful for whatever you are trying to do, and it unlikely all of the tools will be used frequently. \n",
    "\n",
    "Specifically though, the modulus operator if often used to determine if a number is even or odd, and we will implement this in our practice for this section. \n"
   ]
  },
  {
   "cell_type": "markdown",
   "metadata": {},
   "source": [
    "### Floor Division"
   ]
  },
  {
   "cell_type": "markdown",
   "metadata": {},
   "source": [
    "Another unusual but related operation is \"floor division\". It is a little more straightforward than the modulus; it simply returns the result of a division rounded down to the lowest \"floor\" number. So if the result of a division is 2.9, it would just be 2 in floor division. Floor division is denoted thusly: \"//\"."
   ]
  },
  {
   "cell_type": "code",
   "execution_count": 41,
   "metadata": {},
   "outputs": [
    {
     "name": "stdout",
     "output_type": "stream",
     "text": [
      "1.5\n",
      "1\n"
     ]
    }
   ],
   "source": [
    "x = 2\n",
    "y = 3\n",
    "\n",
    "# regular division\n",
    "print(y/x)\n",
    "\n",
    "# floor division\n",
    "print(y//x)"
   ]
  },
  {
   "cell_type": "markdown",
   "metadata": {},
   "source": [
    "### Increment and Decrement Operators "
   ]
  },
  {
   "cell_type": "markdown",
   "metadata": {},
   "source": [
    "We have one final set of operators: increment and decrement. These increase or decrease a variable by a designated amount. They use the + or - coupled with an =. Take a look:\n",
    "\n"
   ]
  },
  {
   "cell_type": "code",
   "execution_count": 42,
   "metadata": {},
   "outputs": [
    {
     "name": "stdout",
     "output_type": "stream",
     "text": [
      "11\n"
     ]
    }
   ],
   "source": [
    "\n",
    "# set new variable\n",
    "x = 10\n",
    "\n",
    "# increment by one\n",
    "x += 1\n",
    "\n",
    "# see the result\n",
    "print(x)"
   ]
  },
  {
   "cell_type": "markdown",
   "metadata": {},
   "source": [
    "Here it is with subtraction and a different number:"
   ]
  },
  {
   "cell_type": "code",
   "execution_count": 43,
   "metadata": {},
   "outputs": [
    {
     "name": "stdout",
     "output_type": "stream",
     "text": [
      "8\n"
     ]
    }
   ],
   "source": [
    "\n",
    "# set new variable \n",
    "x = 10\n",
    "\n",
    "# decrement by two\n",
    "x -= 2\n",
    "\n",
    "# see the results\n",
    "print(x)"
   ]
  },
  {
   "cell_type": "markdown",
   "metadata": {},
   "source": [
    "Why do we do this? They are often used in counting problems. For example, let's say you want to know how many times a certain word appears in a file. You can define a variable as = to zero and the instruct the program to use the increment operator on the variable every time the word is encountered. By the end, the variable will be equal to the number of times the word appears. We will be using this soon in our in context examples."
   ]
  },
  {
   "cell_type": "markdown",
   "metadata": {},
   "source": [
    "It it worth mentioning that you can do this with the other operators as well, though it is far less common. For example:"
   ]
  },
  {
   "cell_type": "code",
   "execution_count": 44,
   "metadata": {},
   "outputs": [
    {
     "name": "stdout",
     "output_type": "stream",
     "text": [
      "50\n"
     ]
    }
   ],
   "source": [
    "\n",
    "# set variable \n",
    "x = 10\n",
    "\n",
    "# call operator with multiplication \n",
    "x *= 5\n",
    "\n",
    "# see example\n",
    "print(x)"
   ]
  },
  {
   "cell_type": "markdown",
   "metadata": {},
   "source": [
    "### Variables\n",
    "\n",
    "Keep in mind that the results of these computations can be stored in a variable."
   ]
  },
  {
   "cell_type": "code",
   "execution_count": 45,
   "metadata": {},
   "outputs": [
    {
     "name": "stdout",
     "output_type": "stream",
     "text": [
      "5\n"
     ]
    }
   ],
   "source": [
    "x = 3\n",
    "y = 2\n",
    "\n",
    "# add and store\n",
    "z = x + y\n",
    "print(z)"
   ]
  },
  {
   "cell_type": "markdown",
   "metadata": {},
   "source": [
    "You can also update a variable even if you aren't printing it directly just yet."
   ]
  },
  {
   "cell_type": "code",
   "execution_count": 3,
   "metadata": {},
   "outputs": [
    {
     "name": "stdout",
     "output_type": "stream",
     "text": [
      "10\n"
     ]
    }
   ],
   "source": [
    "x = 5\n",
    "\n",
    "# new x \n",
    "x = x * 2\n",
    "\n",
    "# then print\n",
    "print(x)"
   ]
  },
  {
   "cell_type": "markdown",
   "metadata": {},
   "source": [
    "### Technique:\n",
    "\n",
    "Python uses the following operators for math:\n",
    "\n",
    "    Add        +\n",
    "    \n",
    "    Subtract   -\n",
    "    \n",
    "    Divide     /\n",
    "    \n",
    "    Multiply   *\n",
    "    \n",
    "    To Power   **\n",
    "    \n",
    "    Modulus    %   Returns leftover of a division \n",
    "    \n",
    "    Floor      //  Returns division round to lowest whole\n",
    "    \n",
    "    increment +=   Increases by the number specified \n",
    "    \n",
    "    decrement -=   Decreases by the number specified"
   ]
  },
  {
   "cell_type": "markdown",
   "metadata": {},
   "source": [
    "### Meta:\n",
    "\n",
    "Math rightfully freaks some people out, but programming allows us to harness the power of our computers to make it easier. \n",
    "\n",
    "Modulus seems odd at first but we will soon seen how to do useful things will it."
   ]
  }
 ],
 "metadata": {
  "kernelspec": {
   "display_name": "Python 3",
   "language": "python",
   "name": "python3"
  },
  "language_info": {
   "codemirror_mode": {
    "name": "ipython",
    "version": 3
   },
   "file_extension": ".py",
   "mimetype": "text/x-python",
   "name": "python",
   "nbconvert_exporter": "python",
   "pygments_lexer": "ipython3",
   "version": "3.5.3"
  }
 },
 "nbformat": 4,
 "nbformat_minor": 2
}
