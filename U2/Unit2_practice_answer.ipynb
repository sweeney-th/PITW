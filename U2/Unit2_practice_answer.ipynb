{
 "cells": [
  {
   "cell_type": "markdown",
   "metadata": {},
   "source": [
    "# Unit 2 Practice Problem\n"
   ]
  },
  {
   "cell_type": "markdown",
   "metadata": {},
   "source": [
    "1) Let's say we're making a prototype password checker. The checker should asses the 'entry' variable (that will be provided), and compare it to the 'password' variable that holds the true password. If the passwords match, the program should print \"Permission Granted\", or something to that effect. If the passwords do not match, it should print \"Ah, ah, ah, didn't say the Magic Word\". Make sure to test both possible conditions."
   ]
  },
  {
   "cell_type": "code",
   "execution_count": 7,
   "metadata": {},
   "outputs": [
    {
     "name": "stdout",
     "output_type": "stream",
     "text": [
      "Ah, ah, ah, didn't say the magic word\n"
     ]
    }
   ],
   "source": [
    "\n",
    "# user entry \n",
    "entry = \"realGoodPassword123\"\n",
    "\n",
    "# password we are looking for\n",
    "password = \"RealGoodPassword234\"\n",
    "\n",
    "### you do the rest!\n",
    "if entry == password:\n",
    "    print(\"Permission Granted\")\n",
    "else:\n",
    "    print(\"Ah, ah, ah, didn't say the magic word\")\n"
   ]
  },
  {
   "cell_type": "markdown",
   "metadata": {},
   "source": [
    "2) Consider the following variable \"x\". Write a program that considers the variable and determines if it is even or odd and prints a message informing the user.\n",
    "\n",
    "Hint: I've mentioned that this is a common use for one of coding's quirky operators. \n",
    "\n",
    "Other hint: IF you divide and even number divided by 2 it will have a remainder of 0. This is not true for an odd number. "
   ]
  },
  {
   "cell_type": "code",
   "execution_count": 2,
   "metadata": {},
   "outputs": [
    {
     "name": "stdout",
     "output_type": "stream",
     "text": [
      "The number is even\n"
     ]
    }
   ],
   "source": [
    "\n",
    "# here is your target\n",
    "x = 44\n",
    "\n",
    "# use the modulus operator to see if it returns 0\n",
    "if x%2 == 0:\n",
    "    print(\"The number is even\")\n",
    "else:\n",
    "    print(\"The number is odd\")"
   ]
  },
  {
   "cell_type": "markdown",
   "metadata": {},
   "source": [
    "3) Copy this program. Without changing the print statements or the 'name' varible, get the program to print \"if activated\". Then change it to get it to print \"elif activated\"."
   ]
  },
  {
   "cell_type": "code",
   "execution_count": 5,
   "metadata": {},
   "outputs": [
    {
     "name": "stdout",
     "output_type": "stream",
     "text": [
      "You are done\n"
     ]
    }
   ],
   "source": [
    "name = \"Guido\"\n",
    "\n",
    "# change \"u\" to a g to activate if\n",
    "if name[0] == \"u\":\n",
    "    print(\"if activated\")\n",
    "# change number to anything less that 5 to activate if\n",
    "elif len(name) > 5:\n",
    "    print(\"elif activated!\")\n",
    "else:\n",
    "    print(\"You are done\")\n",
    "\n",
    "# if you can't ge the elif to activate, consider the order Python operates.\n",
    "# it might activating the above condition and then stopping!"
   ]
  }
 ],
 "metadata": {
  "kernelspec": {
   "display_name": "Python 3",
   "language": "python",
   "name": "python3"
  },
  "language_info": {
   "codemirror_mode": {
    "name": "ipython",
    "version": 3
   },
   "file_extension": ".py",
   "mimetype": "text/x-python",
   "name": "python",
   "nbconvert_exporter": "python",
   "pygments_lexer": "ipython3",
   "version": "3.5.3"
  }
 },
 "nbformat": 4,
 "nbformat_minor": 2
}
