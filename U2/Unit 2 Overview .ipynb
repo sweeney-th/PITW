{
 "cells": [
  {
   "cell_type": "markdown",
   "metadata": {},
   "source": [
    "Unit 2: Math and Logic \n",
    "\n",
    "Numeric Types:\n",
    "    Int \n",
    "    Float \n",
    "    Conversion\n",
    "\n",
    "Operators\n",
    "    Mathematical \n",
    "    Increment \n",
    "    \n",
    "The 'if' statment and comp operators\n",
    "\n",
    "The 'while' statement \n",
    "\n",
    "Booleans \n"
   ]
  }
 ],
 "metadata": {
  "kernelspec": {
   "display_name": "Python 3",
   "language": "python",
   "name": "python3"
  },
  "language_info": {
   "codemirror_mode": {
    "name": "ipython",
    "version": 3
   },
   "file_extension": ".py",
   "mimetype": "text/x-python",
   "name": "python",
   "nbconvert_exporter": "python",
   "pygments_lexer": "ipython3",
   "version": "3.5.3"
  }
 },
 "nbformat": 4,
 "nbformat_minor": 2
}
