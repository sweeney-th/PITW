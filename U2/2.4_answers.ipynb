{
 "cells": [
  {
   "cell_type": "markdown",
   "metadata": {},
   "source": [
    "1) Let's say we want to make a prototype program that checks if a user entered a valid ID number. The ID numbers in our hypothetical system are supposed to be 8 characters long. Write a program that uses the if-elif-else idiom to determine if the length of a string is too short, too long, and just right. Print specific feedback to the user that tells them which problem they have, if any, and confirms their entry if they have the right length. This requires some elements of previous units.  "
   ]
  },
  {
   "cell_type": "code",
   "execution_count": 1,
   "metadata": {},
   "outputs": [
    {
     "name": "stdout",
     "output_type": "stream",
     "text": [
      "Too few characters entered\n"
     ]
    }
   ],
   "source": [
    "\n",
    "# user entry\n",
    "user_input = \"8675309\"\n",
    "\n",
    "# length we want \n",
    "id_number_len = 8 \n",
    "\n",
    "# are their fewer than in the id len?\n",
    "if len(user_input) < id_number_len:\n",
    "    print(\"Too few characters entered\")\n",
    "    \n",
    "# are their more than the id len?\n",
    "elif len(user_input) > id_number_len:\n",
    "    print(\"Too many characters entered\")\n",
    "\n",
    "# if we don't have too many or too few, we must be right on\n",
    "else:\n",
    "    print(\"ID contains the correct number of characters\")\n"
   ]
  },
  {
   "cell_type": "markdown",
   "metadata": {},
   "source": [
    "NOTE: I wouldn't be suprised if you came up with something like this:"
   ]
  },
  {
   "cell_type": "code",
   "execution_count": 2,
   "metadata": {},
   "outputs": [
    {
     "name": "stdout",
     "output_type": "stream",
     "text": [
      "Too few characters entered\n"
     ]
    }
   ],
   "source": [
    "# user entry\n",
    "user_input = \"8675309\"\n",
    "\n",
    "# length we want \n",
    "id_number_len = 8 \n",
    "\n",
    "# test against the number 8\n",
    "if len(user_input) < 8:\n",
    "    print(\"Too few characters entered\")\n",
    "### so and and so forth ###"
   ]
  },
  {
   "cell_type": "markdown",
   "metadata": {},
   "source": [
    "This is perfectly valid solution, so don't worry if that's what you have. There is something worth noting about it however. Notice that my answer compares the length of the user input to the id_number_len variable, which has the value of 8, not the integer 8 itself. "
   ]
  },
  {
   "cell_type": "markdown",
   "metadata": {},
   "source": [
    "if len(user_input) < len(id_number_len):"
   ]
  },
  {
   "cell_type": "markdown",
   "metadata": {},
   "source": [
    "vs"
   ]
  },
  {
   "cell_type": "markdown",
   "metadata": {},
   "source": [
    "if len(user_input) < 8:"
   ]
  },
  {
   "cell_type": "markdown",
   "metadata": {},
   "source": [
    "It is considered a 'best practice' to avoid this comparison. Why? Let's say we switch to using 9 digit id numbers. This means that anywhere that number appeared we have to go change it from an 8 to a 9. In an example this small, it is relatively trivial to make the change (though we still might forget one of the two), but in a large program it can be time consuming to do so. Worse, you might miss one instance of it and be comparing things to 8 in one place but 9 in others. This would result in a potentially nasty semantic bug that wouldn't produce a crash, but would make the results unreliable. A lone digit like this is referred to as a \"magic number\", and avoiding them where possible can save a lot of headaches later on. This simple fix is to use a variable like in my answer. This means if we ever need to make a change, we change the number in one place, and that number will be used wherever the variable appears. This has the added benefit of being easier to read. The name \"id_number_len\" tells a reader what the variable is for, while using a digit assumes that anyone else reading the code knows the significance of the number 8 to us. This will make it easier for others (or even ourselves, looking at code after some time has passed) to know what is happening."
   ]
  },
  {
   "cell_type": "markdown",
   "metadata": {},
   "source": [
    "2) Recall how you could test each condition to make sure they all work as desired. Implement the test."
   ]
  },
  {
   "cell_type": "markdown",
   "metadata": {},
   "source": [
    "The password has too few characters to begin with. Add two characters to test the 'too many' condition. Subtract one from that to test the 'just right' condition."
   ]
  }
 ],
 "metadata": {
  "kernelspec": {
   "display_name": "Python 3",
   "language": "python",
   "name": "python3"
  },
  "language_info": {
   "codemirror_mode": {
    "name": "ipython",
    "version": 3
   },
   "file_extension": ".py",
   "mimetype": "text/x-python",
   "name": "python",
   "nbconvert_exporter": "python",
   "pygments_lexer": "ipython3",
   "version": "3.6.3"
  }
 },
 "nbformat": 4,
 "nbformat_minor": 2
}
