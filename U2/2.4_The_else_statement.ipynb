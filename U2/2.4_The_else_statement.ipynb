{
 "cells": [
  {
   "cell_type": "markdown",
   "metadata": {},
   "source": [
    "# The 'else' and 'elif' Statements"
   ]
  },
  {
   "cell_type": "markdown",
   "metadata": {},
   "source": [
    "I would not be suprised to find that something seemed to be missing in the last lesson. If you felt that way, fear not, because it's here: the else statment. The else statement allows us to complement the 'if' statement in a sensible way, answering the implied question of \"if not, then what?' asked in the last post. The 'else' statement serves to answer the negative conditon of the 'if', and works the same way syntatically:"
   ]
  },
  {
   "cell_type": "code",
   "execution_count": 6,
   "metadata": {},
   "outputs": [
    {
     "name": "stdout",
     "output_type": "stream",
     "text": [
      "x is more than or equal to 10\n"
     ]
    }
   ],
   "source": [
    "x = 10\n",
    "\n",
    "if x < 10:\n",
    "    print(\"x is less than 10\")\n",
    "else:\n",
    "    print(\"x is more than or equal to 10\")"
   ]
  },
  {
   "cell_type": "markdown",
   "metadata": {},
   "source": [
    "We see the same use of the \":\" and indentation as before (though in this case a condition is not needed. Note that the text printed by the else statement says \"more than or equal to 10\" because x being EXACTLY 10 does not trigger the 'if' condition. "
   ]
  },
  {
   "cell_type": "markdown",
   "metadata": {},
   "source": [
    "### More than one 'else' condition?"
   ]
  },
  {
   "cell_type": "markdown",
   "metadata": {},
   "source": [
    "It isn't hard to imagine a scenario where more than one else condition would be useful. For example, we keep running into the \"more/less than or equal to\" statement. Wouldn't it be more useful to know if it was, in fact 10, or a number above/below instead of one of those two states? This is were 'elif' (short for else if) comes in:"
   ]
  },
  {
   "cell_type": "code",
   "execution_count": 5,
   "metadata": {},
   "outputs": [
    {
     "name": "stdout",
     "output_type": "stream",
     "text": [
      "x is exactly 10\n"
     ]
    }
   ],
   "source": [
    "x = 10\n",
    "\n",
    "if x < 10:\n",
    "    print(\"x is less than 10\")\n",
    "elif x > 10:\n",
    "    print(\"x is more than 10\")\n",
    "else:\n",
    "    print(\"x is exactly 10\")"
   ]
  },
  {
   "cell_type": "markdown",
   "metadata": {},
   "source": [
    "Logically, this works because every number is either more than 10, less than 10, or else simply 10. Syntactically, it works just like the if statement: a condition, a \":\", and then an indent. It is very common (in a myriad of languages) to see extensive use of logical blocks following the form if-elif-else with 'if' being the initial comparison, 'elif's being a series of checkdowns, and 'else' being the terminal condition activating if none of the others do. Note that the code will stop running as soon as a condition is activated as true. Knowing this, guess the output of the following block of code:"
   ]
  },
  {
   "cell_type": "code",
   "execution_count": 9,
   "metadata": {},
   "outputs": [
    {
     "name": "stdout",
     "output_type": "stream",
     "text": [
      "x is less than 13\n"
     ]
    }
   ],
   "source": [
    "x = 10 \n",
    "\n",
    "if x < 10:\n",
    "    print(\"x is less than 10\")\n",
    "elif x < 13:\n",
    "    print(\"x is less than 13\")\n",
    "elif x < 12:\n",
    "    print(\"x is less than 12\")\n",
    "elif x < 11:\n",
    "    print(\"x is less than 11\")"
   ]
  },
  {
   "cell_type": "markdown",
   "metadata": {},
   "source": [
    "Because x is not less than 10 (but 10 itself), the initial if condition is not satisfied, and the checkdowns begin. The first one, x < 13, is true, so the code stops, giving us \"x is less than 13\"."
   ]
  },
  {
   "cell_type": "markdown",
   "metadata": {},
   "source": [
    "### Debugging notes"
   ]
  },
  {
   "cell_type": "markdown",
   "metadata": {},
   "source": [
    "Logic contidions can present some debugging challenges because based on the code, a logical condition might not be satisfied by a test run, and thus not run. This means any errors in that condition won't be obvious to the user. Consider the following:\n"
   ]
  },
  {
   "cell_type": "code",
   "execution_count": 27,
   "metadata": {},
   "outputs": [
    {
     "name": "stdout",
     "output_type": "stream",
     "text": [
      "x is less than 11\n"
     ]
    }
   ],
   "source": [
    "x = 10\n",
    "\n",
    "if x < 11:\n",
    "    print(\"x is less than 11\")\n",
    "else:\n",
    "    print(error)"
   ]
  },
  {
   "cell_type": "markdown",
   "metadata": {},
   "source": [
    "In this sample we can see that I've left the quotes off the conditional print statement. On it's own, this would produce an obvious and easy to debug error:"
   ]
  },
  {
   "cell_type": "markdown",
   "metadata": {},
   "source": [
    "print(duh)"
   ]
  },
  {
   "cell_type": "markdown",
   "metadata": {},
   "source": [
    "\n",
    "NameError: name 'duh' is not defined"
   ]
  },
  {
   "cell_type": "markdown",
   "metadata": {},
   "source": [
    "In this scenario, however, it doesn't get activated ( 10 is never not less than 11 ) so we don't see it. This is especially nefarious if the code is going to take unknown imput from an end user. It is thus important to test both (or all) of the outcomes of a logical condition:"
   ]
  },
  {
   "cell_type": "markdown",
   "metadata": {},
   "source": [
    "\n",
    "#increase x to 11 to see how it handles it\n"
   ]
  },
  {
   "cell_type": "markdown",
   "metadata": {},
   "source": [
    "x = 11\n",
    "\n",
    "\n",
    "if x < 11:\n",
    "    print(\"x is less than 11\")\n",
    "else:\n",
    "    print(error)"
   ]
  },
  {
   "cell_type": "markdown",
   "metadata": {},
   "source": [
    "print(error)\n",
    "\n",
    "NameError: name 'error' is not defined\n"
   ]
  },
  {
   "cell_type": "markdown",
   "metadata": {},
   "source": [
    "This results in an error which we now know we need to fix."
   ]
  },
  {
   "cell_type": "markdown",
   "metadata": {},
   "source": [
    "### Technique:\n",
    "\n",
    "'else' and 'elif' statments follow 'if' conditions to continue the flow of logic and provide alternative and negative outcomes.\n",
    "\n",
    "'else' and 'elif' statments use the same syntactic conventions as the 'if' statement in term s of the \":\" and the indent. 'elif' statements take a condition in the same way.\n",
    "\n",
    "Code will run from top to bottom until something is true. This means that some code that is written may not be activated.\n",
    "\n",
    "\n"
   ]
  },
  {
   "cell_type": "markdown",
   "metadata": {},
   "source": [
    "### Meta:\n"
   ]
  },
  {
   "cell_type": "markdown",
   "metadata": {},
   "source": [
    "Logical blocks can provide a lot of powerful flexiblity and automation, but can produce some tricky bugs as not all code will run every time (in fact, it isn't always even possible for all code to run if the conditions are mutually exlusive like x = 10 and x < 10). It is thus important to check all the possible outcomes of the block. "
   ]
  }
 ],
 "metadata": {
  "kernelspec": {
   "display_name": "Python 3",
   "language": "python",
   "name": "python3"
  },
  "language_info": {
   "codemirror_mode": {
    "name": "ipython",
    "version": 3
   },
   "file_extension": ".py",
   "mimetype": "text/x-python",
   "name": "python",
   "nbconvert_exporter": "python",
   "pygments_lexer": "ipython3",
   "version": "3.6.3"
  }
 },
 "nbformat": 4,
 "nbformat_minor": 2
}
