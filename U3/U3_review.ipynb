{
 "cells": [
  {
   "cell_type": "markdown",
   "metadata": {},
   "source": [
    "# Lists"
   ]
  },
  {
   "cell_type": "markdown",
   "metadata": {},
   "source": [
    "Lists are declared with [ ] and can store multiple items of the same type. Commas are used to separate them."
   ]
  },
  {
   "cell_type": "code",
   "execution_count": 48,
   "metadata": {},
   "outputs": [],
   "source": [
    "\n",
    "# a list of words from the Joey Bada$$ song I am listening to \n",
    "my_stuff = [\"Land\", \"of\", \"the\", \"Free\"]"
   ]
  },
  {
   "cell_type": "markdown",
   "metadata": {},
   "source": [
    "Our old standby functions are still with us."
   ]
  },
  {
   "cell_type": "code",
   "execution_count": 49,
   "metadata": {},
   "outputs": [
    {
     "name": "stdout",
     "output_type": "stream",
     "text": [
      "4\n",
      "['Land', 'of', 'the', 'Free']\n"
     ]
    }
   ],
   "source": [
    "\n",
    "#len still works\n",
    "print(len(my_stuff))\n",
    "\n",
    "# print still works\n",
    "print(my_stuff)"
   ]
  },
  {
   "cell_type": "markdown",
   "metadata": {},
   "source": [
    "Indexing behaves as expected based on the rules from string indexing. "
   ]
  },
  {
   "cell_type": "code",
   "execution_count": 50,
   "metadata": {},
   "outputs": [
    {
     "name": "stdout",
     "output_type": "stream",
     "text": [
      "['Land', 'of', 'the']\n",
      "['of', 'the']\n",
      "['Land', 'of', 'the', 'Free']\n",
      "['Land', 'of', 'the', 'Free']\n"
     ]
    }
   ],
   "source": [
    "\n",
    "# indexing and shorthand\n",
    "print(my_stuff[0:3])\n",
    "print(my_stuff[1:3])\n",
    "print(my_stuff[0:])\n",
    "print(my_stuff[:5])"
   ]
  },
  {
   "cell_type": "markdown",
   "metadata": {},
   "source": [
    "Adding and removing things from a list is done by the following methods()"
   ]
  },
  {
   "cell_type": "code",
   "execution_count": 51,
   "metadata": {},
   "outputs": [
    {
     "name": "stdout",
     "output_type": "stream",
     "text": [
      "['Land', 'of', 'the', 'Free', 'Anything']\n",
      "['Land', 'of', 'the', 'Free']\n"
     ]
    }
   ],
   "source": [
    "\n",
    "# append() adds to the end\n",
    "my_stuff.append(\"Anything\")\n",
    "print(my_stuff)\n",
    "\n",
    "#remove() removes the target\n",
    "my_stuff.remove(\"Anything\")\n",
    "print(my_stuff)"
   ]
  },
  {
   "cell_type": "markdown",
   "metadata": {},
   "source": [
    "list can be added together:\n",
    "    \n",
    "    "
   ]
  },
  {
   "cell_type": "code",
   "execution_count": 52,
   "metadata": {},
   "outputs": [
    {
     "name": "stdout",
     "output_type": "stream",
     "text": [
      "[1, 2, 3, 4, 5, 6]\n"
     ]
    }
   ],
   "source": [
    "\n",
    "# two lists\n",
    "a = [1,2,3]\n",
    "b = [4,5,6]\n",
    "\n",
    "# add together\n",
    "c = a + b\n",
    "print(c)"
   ]
  },
  {
   "cell_type": "markdown",
   "metadata": {},
   "source": [
    "sum() returns the total of a list of numbers"
   ]
  },
  {
   "cell_type": "code",
   "execution_count": 53,
   "metadata": {},
   "outputs": [
    {
     "name": "stdout",
     "output_type": "stream",
     "text": [
      "21\n"
     ]
    }
   ],
   "source": [
    "\n",
    "# call the sum() function\n",
    "print(sum(c))"
   ]
  },
  {
   "cell_type": "markdown",
   "metadata": {},
   "source": [
    "# For"
   ]
  },
  {
   "cell_type": "markdown",
   "metadata": {},
   "source": [
    "for loops iterate through data structures using a default variable-like structure:"
   ]
  },
  {
   "cell_type": "code",
   "execution_count": 54,
   "metadata": {},
   "outputs": [
    {
     "name": "stdout",
     "output_type": "stream",
     "text": [
      "1\n",
      "2\n",
      "3\n",
      "4\n",
      "5\n",
      "6\n"
     ]
    }
   ],
   "source": [
    "\n",
    "# iterate with a for loop\n",
    "for item in c:\n",
    "    print(item)"
   ]
  },
  {
   "cell_type": "markdown",
   "metadata": {},
   "source": [
    "if allows us to use conditionals"
   ]
  },
  {
   "cell_type": "code",
   "execution_count": 55,
   "metadata": {},
   "outputs": [
    {
     "name": "stdout",
     "output_type": "stream",
     "text": [
      "4\n",
      "5\n",
      "6\n"
     ]
    }
   ],
   "source": [
    "\n",
    "# iterate through\n",
    "for item in c:\n",
    "    # implement a conditional \n",
    "    if item > 3:\n",
    "        print(item)"
   ]
  },
  {
   "cell_type": "markdown",
   "metadata": {},
   "source": [
    "The range() function counts between the arguments passed (or from 0 to the number passed if none specified)"
   ]
  },
  {
   "cell_type": "code",
   "execution_count": 56,
   "metadata": {},
   "outputs": [
    {
     "name": "stdout",
     "output_type": "stream",
     "text": [
      "5\n",
      "6\n",
      "7\n",
      "8\n",
      "9\n"
     ]
    }
   ],
   "source": [
    "\n",
    "# range with 2 args\n",
    "for x in range(5,10):\n",
    "    print(x)"
   ]
  },
  {
   "cell_type": "markdown",
   "metadata": {},
   "source": [
    "The and keyword allows us to filter by more than one condition. "
   ]
  },
  {
   "cell_type": "code",
   "execution_count": 57,
   "metadata": {},
   "outputs": [
    {
     "name": "stdout",
     "output_type": "stream",
     "text": [
      "x is between 5 and 10\n"
     ]
    }
   ],
   "source": [
    "\n",
    "x = 6\n",
    "\n",
    "# join the conditions with 'and'\n",
    "if x > 5 and x < 10:\n",
    "    print(\"x is between 5 and 10\")"
   ]
  },
  {
   "cell_type": "markdown",
   "metadata": {},
   "source": [
    "# Dicts"
   ]
  },
  {
   "cell_type": "markdown",
   "metadata": {},
   "source": [
    "Dicts allow us to pair keys and values for easy lookups. They use { } to denote the dict, and : to separate the keys and values."
   ]
  },
  {
   "cell_type": "code",
   "execution_count": 58,
   "metadata": {},
   "outputs": [],
   "source": [
    "\n",
    "# declare a dict \n",
    "names = {\"Michael Render\":\"Killer Mike\", \"Jaime Meline\":\"El-P\" }"
   ]
  },
  {
   "cell_type": "markdown",
   "metadata": {},
   "source": [
    "We can still use al the usual suspects:\n"
   ]
  },
  {
   "cell_type": "code",
   "execution_count": 59,
   "metadata": {},
   "outputs": [
    {
     "name": "stdout",
     "output_type": "stream",
     "text": [
      "{'Michael Render': 'Killer Mike', 'Jaime Meline': 'El-P'}\n",
      "2\n"
     ]
    }
   ],
   "source": [
    "\n",
    "# print \n",
    "print(names)\n",
    "\n",
    "# len returns number of pairs\n",
    "print(len(names))"
   ]
  },
  {
   "cell_type": "markdown",
   "metadata": {},
   "source": [
    "Looking up a value:"
   ]
  },
  {
   "cell_type": "code",
   "execution_count": 60,
   "metadata": {},
   "outputs": [
    {
     "name": "stdout",
     "output_type": "stream",
     "text": [
      "Killer Mike\n"
     ]
    }
   ],
   "source": [
    "\n",
    "# lookup with [ ]\n",
    "print(names[\"Michael Render\"])"
   ]
  },
  {
   "cell_type": "markdown",
   "metadata": {},
   "source": [
    "Iterating through keys and values: "
   ]
  },
  {
   "cell_type": "code",
   "execution_count": 61,
   "metadata": {},
   "outputs": [
    {
     "name": "stdout",
     "output_type": "stream",
     "text": [
      "Michael Render Killer Mike\n",
      "Jaime Meline El-P\n"
     ]
    }
   ],
   "source": [
    "\n",
    "# iterate through names\n",
    "for item in names:\n",
    "    # print item and the value of the lookup\n",
    "    print(item, names[item])"
   ]
  },
  {
   "cell_type": "markdown",
   "metadata": {},
   "source": [
    "get() allows us to handle the case of an item not being there with an alternative provided by the second argument:"
   ]
  },
  {
   "cell_type": "code",
   "execution_count": 62,
   "metadata": {},
   "outputs": [
    {
     "name": "stdout",
     "output_type": "stream",
     "text": [
      "Rapper Not Found\n"
     ]
    }
   ],
   "source": [
    "\n",
    "# second argument is negative condition\n",
    "print(names.get(\"Macklemore\", \"Rapper Not Found\"))"
   ]
  },
  {
   "cell_type": "markdown",
   "metadata": {},
   "source": [
    "# Sorting \n",
    "\n"
   ]
  },
  {
   "cell_type": "code",
   "execution_count": 63,
   "metadata": {},
   "outputs": [
    {
     "name": "stdout",
     "output_type": "stream",
     "text": [
      "E\n",
      "D\n",
      "C\n",
      "B\n",
      "A\n"
     ]
    }
   ],
   "source": [
    "\n",
    "# create a dictionary \n",
    "d = {\"A\":1, \"B\":2, \"C\":3, \"D\":4, \"E\":5}\n",
    "\n",
    "# sort it in reverse\n",
    "for item in sorted(d, reverse = True):\n",
    "    print(item)"
   ]
  }
 ],
 "metadata": {
  "kernelspec": {
   "display_name": "Python 3",
   "language": "python",
   "name": "python3"
  },
  "language_info": {
   "codemirror_mode": {
    "name": "ipython",
    "version": 3
   },
   "file_extension": ".py",
   "mimetype": "text/x-python",
   "name": "python",
   "nbconvert_exporter": "python",
   "pygments_lexer": "ipython3",
   "version": "3.5.3"
  }
 },
 "nbformat": 4,
 "nbformat_minor": 2
}
