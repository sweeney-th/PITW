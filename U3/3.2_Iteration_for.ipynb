{
 "cells": [
  {
   "cell_type": "markdown",
   "metadata": {},
   "source": [
    "# Iterating: the 'for' Keyword"
   ]
  },
  {
   "cell_type": "markdown",
   "metadata": {},
   "source": [
    "Now that we have stored our data in a structure, we can proceed to use it as we see fit. If we still have to access each element with a variable one at a time, however, there wasn't that much point in storing it that way to begin with. This is where iteration comes in. Iteration is a simple but important concept in computer programming. Iteration is the repetition of a process systematically. In the context of a data structure, it just means we do something to each element of the structure. This is usually called \"iterating over\" or \"iterating through\" the lists, acting on each element in turn. The syntactic construct most commonly associated with iteration is the \"for\" loop, and it uses the same syntax as the \"if\" keyword, but adds and intuitive 'in' to the mix. "
   ]
  },
  {
   "cell_type": "code",
   "execution_count": 2,
   "metadata": {},
   "outputs": [
    {
     "name": "stdout",
     "output_type": "stream",
     "text": [
      "I\n",
      "t\n",
      "e\n",
      "r\n",
      "a\n",
      "t\n",
      "i\n",
      "o\n",
      "n\n"
     ]
    }
   ],
   "source": [
    "\n",
    "# define a varible \n",
    "word = \"Iteration\"\n",
    "\n",
    "for x in word:\n",
    "        print(x)"
   ]
  },
  {
   "cell_type": "markdown",
   "metadata": {},
   "source": [
    "We use the word 'for', a letter or word to represent the item at the iteration (more on that in a moment), and then the thing we want to iterate over. We round things out with the by-now-familiar \":\", new line, and indent combo. \n",
    "\n",
    "The \"for loop\" iterates through the word and prints each letter. Thinking in English, it is something like \"for each\" (in fact, some languages have a 'foreach' keyword).\n",
    "\n",
    "There is one thing that might seem strange about this though. We never defined \"x\" (at least explicitly). How does the program know what it is? The declaration is part of the syntax of the for-loop. Right after the word 'for' we see I use x. This is where it is declared and defined, a short hand for \"=\", if you will. The interesting thing about this is that we can choose whatever term we want. This allows us to make very intuitive, easy-to-read code by naming it something that makes it obvious what we are trying to do. For example, the code below will work in the same way but is very easy to read:"
   ]
  },
  {
   "cell_type": "code",
   "execution_count": 3,
   "metadata": {},
   "outputs": [
    {
     "name": "stdout",
     "output_type": "stream",
     "text": [
      "I\n",
      "t\n",
      "e\n",
      "r\n",
      "a\n",
      "t\n",
      "i\n",
      "o\n",
      "n\n"
     ]
    }
   ],
   "source": [
    "\n",
    "# iterate through the word\n",
    "for letter in word:\n",
    "    print(letter)     # note that the term in the print \n",
    "                      # statement needs to match \n",
    "                      # the one used in the for loop"
   ]
  },
  {
   "cell_type": "markdown",
   "metadata": {},
   "source": [
    "In some languges the role \"x\" is filling is reffered to as a \"default variable\" because it represents the incoming variable at each step of the iteration. It isn't typically called that in Python, but we will use this term for sake of simplicty. "
   ]
  },
  {
   "cell_type": "markdown",
   "metadata": {},
   "source": [
    "Let's apply this to a list:"
   ]
  },
  {
   "cell_type": "code",
   "execution_count": 4,
   "metadata": {},
   "outputs": [
    {
     "name": "stdout",
     "output_type": "stream",
     "text": [
      "1\n",
      "2\n",
      "3\n",
      "4\n",
      "5\n"
     ]
    }
   ],
   "source": [
    "\n",
    "# make a list of numbers\n",
    "numbers = [1, 2, 3, 4, 5]\n",
    "\n",
    "# iterate through using a sensibly named default variable. \"item\" is a common choice too.\n",
    "for number in numbers:\n",
    "    print(number)"
   ]
  },
  {
   "cell_type": "markdown",
   "metadata": {},
   "source": [
    "### Adding Functions and Conditionals"
   ]
  },
  {
   "cell_type": "markdown",
   "metadata": {},
   "source": [
    "Here is where things get interesting. While we are using the print statement as an example, we can use any of the other tools at our disposal. "
   ]
  },
  {
   "cell_type": "code",
   "execution_count": 5,
   "metadata": {},
   "outputs": [
    {
     "name": "stdout",
     "output_type": "stream",
     "text": [
      "2\n",
      "4\n",
      "6\n",
      "8\n",
      "10\n"
     ]
    }
   ],
   "source": [
    "\n",
    "# make a list of numbers\n",
    "numbers = [1, 2, 3, 4, 5]\n",
    "\n",
    "# perform a calculation with each one\n",
    "for number in numbers:\n",
    "    print(number * 2)"
   ]
  },
  {
   "cell_type": "markdown",
   "metadata": {},
   "source": [
    "Now let's get really freaky and add an 'if' to the 'for'. This is a little odd-looking at first, but it we keep the general Python principles we've learned so far in mind, it makes sense. You'll recall that both the 'if' and the 'for' use an indent. To use both at once, we simple add another indent. It is easier to see than to read: The following will print out numbers in a list, but only if they are above a certain threshold."
   ]
  },
  {
   "cell_type": "code",
   "execution_count": 6,
   "metadata": {},
   "outputs": [
    {
     "name": "stdout",
     "output_type": "stream",
     "text": [
      "11\n",
      "12\n",
      "13\n",
      "12\n",
      "16\n",
      "17\n"
     ]
    }
   ],
   "source": [
    "\n",
    "# list of numbers\n",
    "numbers = [9, 8, 11, 12, 13, 9, 10, 12, 16, 17, 6]\n",
    "\n",
    "# iterate though the list, but add a conditional\n",
    "for item in numbers:\n",
    "    if item > 10:\n",
    "        print(item)"
   ]
  },
  {
   "cell_type": "markdown",
   "metadata": {},
   "source": [
    "All we have to do is add another indent for the \"if\" under the \"for\" and we create a block of logic that translates roughly to \"for each thing in the list, if it is higher than 10, print it\"."
   ]
  },
  {
   "cell_type": "markdown",
   "metadata": {},
   "source": [
    "And now we can easily see that this unlocks a lot of computational potential."
   ]
  },
  {
   "cell_type": "markdown",
   "metadata": {},
   "source": [
    "### The range() function\n",
    "\n",
    "Often seen with 'for' is the range() function. Passing it a number will cause it to iterate up to the number starting with 0. Giving it more than one argument will print the numbers between them using the \"up to but not including\" rules. See below:"
   ]
  },
  {
   "cell_type": "code",
   "execution_count": 7,
   "metadata": {},
   "outputs": [
    {
     "name": "stdout",
     "output_type": "stream",
     "text": [
      "0\n",
      "1\n",
      "2\n",
      "3\n",
      "4\n",
      "5\n",
      "6\n",
      "7\n",
      "8\n",
      "9\n"
     ]
    }
   ],
   "source": [
    "\n",
    "# a for loop with the range function\n",
    "for number in range(10):\n",
    "    print(number)"
   ]
  },
  {
   "cell_type": "code",
   "execution_count": 8,
   "metadata": {},
   "outputs": [
    {
     "name": "stdout",
     "output_type": "stream",
     "text": [
      "5\n",
      "6\n",
      "7\n",
      "8\n",
      "9\n"
     ]
    }
   ],
   "source": [
    "\n",
    "# with two arguments\n",
    "for number in range(5,10):\n",
    "    print(number)"
   ]
  },
  {
   "cell_type": "markdown",
   "metadata": {},
   "source": [
    "Note that 'in' works for check against a string or a list as well:"
   ]
  },
  {
   "cell_type": "code",
   "execution_count": 3,
   "metadata": {},
   "outputs": [
    {
     "name": "stdout",
     "output_type": "stream",
     "text": [
      "Yes\n",
      "Yes\n"
     ]
    }
   ],
   "source": [
    "\n",
    "# against a string\n",
    "if \"F\" in \"Mr Fijji Wiji\":\n",
    "    print(\"Yes\")\n",
    "\n",
    "# against a string\n",
    "vowels = [\"A\",\"E\",\"I\",\"O\",\"U\"]\n",
    "if \"A\" in vowels:\n",
    "    print(\"Yes\")"
   ]
  },
  {
   "cell_type": "markdown",
   "metadata": {},
   "source": [
    "### Technique "
   ]
  },
  {
   "cell_type": "markdown",
   "metadata": {},
   "source": [
    "Iteration is the process of moving through a range or set and doing something to each point in the set.\n",
    "\n",
    "The 'for' keyword creates a loop that moves through each element of something. It uses the same syntax as the 'if' word.\n",
    "\n",
    "You can use 'for' and 'if' together to create useful logic flows provided you indent for each additional expression.\n",
    "\n",
    "The range() function will take a number as an argument and count it's way up to that number using the \"up to but not including\" rule. It can also take two numbers and start on the first number and stop before the second."
   ]
  },
  {
   "cell_type": "markdown",
   "metadata": {},
   "source": [
    "### Meta"
   ]
  },
  {
   "cell_type": "markdown",
   "metadata": {},
   "source": [
    "Lists are Python's term for something similar to what might also be called an array, vector, or arrayList. \n",
    "\n",
    "Storing things in data structures greatly increases our ability to organize our programs and make them more efficient. "
   ]
  },
  {
   "cell_type": "markdown",
   "metadata": {},
   "source": [
    "### Questions "
   ]
  },
  {
   "cell_type": "markdown",
   "metadata": {},
   "source": [
    "1) Iterate through the following list and print everything out."
   ]
  },
  {
   "cell_type": "code",
   "execution_count": 9,
   "metadata": {},
   "outputs": [],
   "source": [
    "\n",
    "# list of ints\n",
    "numbers = [1, 2, 3, 4, 5, 6, 7]\n",
    "\n",
    "# create a for loop to print them all"
   ]
  },
  {
   "cell_type": "markdown",
   "metadata": {},
   "source": [
    "2) Iterate through the following list and print out only the even numbers \n",
    "\n"
   ]
  },
  {
   "cell_type": "code",
   "execution_count": 10,
   "metadata": {},
   "outputs": [],
   "source": [
    "\n",
    "# list on ints\n",
    "numbers = [11, 14, 16, 18, 17, 19, 44, 43, 102, 99, 14444, 1, 100]\n",
    "\n",
    "# for loop with a conditional"
   ]
  },
  {
   "cell_type": "markdown",
   "metadata": {},
   "source": [
    "3) Below is what appears to be a working solution to problem 1, but there is a bug in it. Will this program run? If so, what will it output? What's the term for this kind of bug?"
   ]
  },
  {
   "cell_type": "markdown",
   "metadata": {},
   "source": [
    "\n",
    "numbers = [1, 2, 3, 4, 5, 6, 7]\n",
    "\n",
    "for item in numbers:\n",
    "\n",
    "    print(numbers)"
   ]
  }
 ],
 "metadata": {
  "kernelspec": {
   "display_name": "Python 3",
   "language": "python",
   "name": "python3"
  },
  "language_info": {
   "codemirror_mode": {
    "name": "ipython",
    "version": 3
   },
   "file_extension": ".py",
   "mimetype": "text/x-python",
   "name": "python",
   "nbconvert_exporter": "python",
   "pygments_lexer": "ipython3",
   "version": "3.5.3"
  }
 },
 "nbformat": 4,
 "nbformat_minor": 2
}
