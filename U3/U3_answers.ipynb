{
 "cells": [
  {
   "cell_type": "markdown",
   "metadata": {},
   "source": [
    "Things to consider:\n",
    "\n",
    "Yes, there are repeats in the list. It doesn't matter for this program, because iterating through the list will result in it counting the repeats. The items in the list are indexed, and the value at each index is passed through in the iteration. Consider the following:"
   ]
  },
  {
   "cell_type": "code",
   "execution_count": 9,
   "metadata": {},
   "outputs": [
    {
     "name": "stdout",
     "output_type": "stream",
     "text": [
      "Hey\n",
      "Hey\n",
      "Hey\n"
     ]
    }
   ],
   "source": [
    "\n",
    "# a list with repeats\n",
    "l = [\"Hey\", \"Hey\", \"Hey\"]\n",
    "\n",
    "# iterate and print\n",
    "for item in l:\n",
    "    print(item)"
   ]
  },
  {
   "cell_type": "markdown",
   "metadata": {},
   "source": [
    "Each of the \"Hey\"s would get looked up in a dict in our program, so we don't need to worry."
   ]
  },
  {
   "cell_type": "markdown",
   "metadata": {},
   "source": [
    "I'll hit each of the other answers to the \"things to think about\" in the comments."
   ]
  },
  {
   "cell_type": "code",
   "execution_count": 1,
   "metadata": {},
   "outputs": [
    {
     "name": "stdout",
     "output_type": "stream",
     "text": [
      "Total Cost: 103.53999999999999\n",
      "After Tax: 109.7524\n",
      "You have spent 85 dollars or more\n"
     ]
    }
   ],
   "source": [
    "\n",
    "# here is a your shopping list \n",
    "shopping_list = [\"MegaDeath Sauce\", \"Maddog 357\", \"Secret Aardvark\", \n",
    "        \"Tapitio\",\"High River Rogue\",\"Da'Bomb\",\n",
    "        \"Red Hot\",\"Queen Majesty\",\"Pain 100%\",\n",
    "        \"Secret Aardvark\",\"Siracha\",\"Cholula\",\n",
    "        \"Red Hot\",\"The Last Dab\", \"Red Hot\"]\n",
    "\n",
    "# here is the dict mapping the item to their prices\n",
    "price = {\"MegaDeath Sauce\" :7.99, \"Maddog 357\":8.99,\n",
    "         \"Secret Aardvark\" :5.99, \"Tapatio\"   :2.95,\n",
    "         \"High River Rouge\":8.95, \"Da'Bomb\"   :7.99,\n",
    "         \"Queen Majesty\"   :9.99, \"Pain 100%\" :10.48, \n",
    "         \"Cholula\"         :3.65, \"Red Hot\"   :7.49,\n",
    "         \"The Last Dab\"    :20.00 }\n",
    "\n",
    "# we start with a cost stored as 0\n",
    "cost = 0\n",
    "\n",
    "# we iterate though the shopping list\n",
    "for item in shopping_list:\n",
    "    # we use increment increase the cost by the price of the item\n",
    "    # note we use get() in case we don't find the item\n",
    "    # in this case, add 0 using the second argument.\n",
    "    cost += price.get(item, 0)\n",
    "\n",
    "# we have now read each item in the list and added the price to cost    \n",
    "    \n",
    "# print the price\n",
    "print(\"Total Cost:\", cost)\n",
    "\n",
    "# multiply by 1.06 to get the total after tax\n",
    "cost_w_tax = cost * 1.06\n",
    "\n",
    "# print the total after tax\n",
    "print(\"After Tax:\", cost_w_tax)\n",
    "\n",
    "# greater than or equal to 85?\n",
    "if cost_w_tax >= 85:\n",
    "    print(\"You have spent 85 dollars or more\")"
   ]
  }
 ],
 "metadata": {
  "kernelspec": {
   "display_name": "Python 3",
   "language": "python",
   "name": "python3"
  },
  "language_info": {
   "codemirror_mode": {
    "name": "ipython",
    "version": 3
   },
   "file_extension": ".py",
   "mimetype": "text/x-python",
   "name": "python",
   "nbconvert_exporter": "python",
   "pygments_lexer": "ipython3",
   "version": "3.5.3"
  }
 },
 "nbformat": 4,
 "nbformat_minor": 2
}
