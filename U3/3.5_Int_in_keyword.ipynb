{
 "cells": [
  {
   "cell_type": "markdown",
   "metadata": {},
   "source": [
    "### The \"in\" Keyword"
   ]
  },
  {
   "cell_type": "markdown",
   "metadata": {},
   "source": [
    "Python provides an intuitive \"in\" keyword for checking the contents of lists. It works pretty much exactly how you would expect. The following code reads through a word and compares the letters to a lits of vowels. If the letter is \"in\" the vowel it prints out the letter."
   ]
  },
  {
   "cell_type": "code",
   "execution_count": 4,
   "metadata": {},
   "outputs": [
    {
     "name": "stdout",
     "output_type": "stream",
     "text": [
      "o is a vowel\n",
      "e is a vowel\n",
      "u is a vowel\n",
      "i is a vowel\n",
      "o is a vowel\n",
      "u is a vowel\n"
     ]
    }
   ],
   "source": [
    "\n",
    "# list of vowels\n",
    "vowels = [\"a\",\"e\",\"i\",\"o\",\"u\"]\n",
    "\n",
    "# deal with it\n",
    "word = \"obsequious\"\n",
    "\n",
    "# iterate through\n",
    "for letter in word:\n",
    "    # use \"in\" to see if letter is in vowels\n",
    "    if letter in vowels:\n",
    "        # print a messge \n",
    "        print(letter, \"is a vowel\")"
   ]
  },
  {
   "cell_type": "markdown",
   "metadata": {},
   "source": [
    "If the variable in question is in the list that follows the keyword, it will activate the conditional."
   ]
  },
  {
   "cell_type": "markdown",
   "metadata": {},
   "source": [
    "Conveniently, we can also use this keyword on strings. Observe:"
   ]
  },
  {
   "cell_type": "code",
   "execution_count": 8,
   "metadata": {},
   "outputs": [
    {
     "name": "stdout",
     "output_type": "stream",
     "text": [
      "yes a is in 'apple'\n"
     ]
    }
   ],
   "source": [
    "\n",
    "# pick a litter\n",
    "letter = \"a\"\n",
    "\n",
    "# call the keyword on a string\n",
    "if letter in \"apple\":\n",
    "    print(\"yes\", letter, \"is in 'apple'\")"
   ]
  }
 ],
 "metadata": {
  "kernelspec": {
   "display_name": "Python 3",
   "language": "python",
   "name": "python3"
  },
  "language_info": {
   "codemirror_mode": {
    "name": "ipython",
    "version": 3
   },
   "file_extension": ".py",
   "mimetype": "text/x-python",
   "name": "python",
   "nbconvert_exporter": "python",
   "pygments_lexer": "ipython3",
   "version": "3.5.3"
  }
 },
 "nbformat": 4,
 "nbformat_minor": 2
}
