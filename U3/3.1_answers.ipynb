{
 "cells": [
  {
   "cell_type": "markdown",
   "metadata": {},
   "source": [
    "### 3.1 Answers "
   ]
  },
  {
   "cell_type": "markdown",
   "metadata": {},
   "source": [
    "1) In one line, create a list called \"words\" that contains the words in the sentence \"I have a dream\".\n"
   ]
  },
  {
   "cell_type": "code",
   "execution_count": 4,
   "metadata": {},
   "outputs": [
    {
     "name": "stdout",
     "output_type": "stream",
     "text": [
      "['I', 'have', 'a', 'dream']\n"
     ]
    }
   ],
   "source": [
    "\n",
    "# declare a list using the typical syntax\n",
    "words = [\"I\", \"have\", \"a\", \"dream\"]\n",
    "\n",
    "# print evidence \n",
    "print(words)"
   ]
  },
  {
   "cell_type": "markdown",
   "metadata": {},
   "source": [
    "2) Change the list so that it says \"I have many dreams\""
   ]
  },
  {
   "cell_type": "code",
   "execution_count": 5,
   "metadata": {},
   "outputs": [
    {
     "name": "stdout",
     "output_type": "stream",
     "text": [
      "['I', 'have', 'many', 'dreams']\n"
     ]
    }
   ],
   "source": [
    "\n",
    "# change the two words by index\n",
    "words[2] = \"many\"\n",
    "words[3] = \"dreams\"\n",
    "\n",
    "# print evidence\n",
    "print(words)"
   ]
  },
  {
   "cell_type": "markdown",
   "metadata": {},
   "source": [
    "3) Write a program that finds the average of a list of 5 numbers"
   ]
  },
  {
   "cell_type": "markdown",
   "metadata": {},
   "source": [
    "To do this we need to know the total of the numbers all added together and how many of them there are. Python has given us tools to find out each of these things: sum(), len()."
   ]
  },
  {
   "cell_type": "code",
   "execution_count": 9,
   "metadata": {},
   "outputs": [
    {
     "name": "stdout",
     "output_type": "stream",
     "text": [
      "The average is: 3.8\n"
     ]
    }
   ],
   "source": [
    "\n",
    "# list of numbers\n",
    "numbers = [3, 4, 5, 4, 3]\n",
    "\n",
    "# get the total \n",
    "total = sum(numbers)\n",
    "\n",
    "# get number of numbers\n",
    "num_of_elements = len(numbers)\n",
    "\n",
    "# divide the total by the number of entries \n",
    "average = total/num_of_elements\n",
    "\n",
    "# print results \n",
    "print(\"The average is:\", average)"
   ]
  },
  {
   "cell_type": "markdown",
   "metadata": {},
   "source": [
    "This could be more consicely written as:"
   ]
  },
  {
   "cell_type": "code",
   "execution_count": 12,
   "metadata": {},
   "outputs": [
    {
     "name": "stdout",
     "output_type": "stream",
     "text": [
      "3.8\n"
     ]
    }
   ],
   "source": [
    "\n",
    "numbers = [3, 4, 5, 4, 3]\n",
    "\n",
    "# create average without storing parts as variables\n",
    "average = sum(numbers)/len(numbers)"
   ]
  },
  {
   "cell_type": "code",
   "execution_count": null,
   "metadata": {},
   "outputs": [],
   "source": []
  }
 ],
 "metadata": {
  "kernelspec": {
   "display_name": "Python 3",
   "language": "python",
   "name": "python3"
  },
  "language_info": {
   "codemirror_mode": {
    "name": "ipython",
    "version": 3
   },
   "file_extension": ".py",
   "mimetype": "text/x-python",
   "name": "python",
   "nbconvert_exporter": "python",
   "pygments_lexer": "ipython3",
   "version": "3.6.4"
  }
 },
 "nbformat": 4,
 "nbformat_minor": 2
}
