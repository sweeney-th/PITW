{
 "cells": [
  {
   "cell_type": "markdown",
   "metadata": {},
   "source": [
    "# Starting Data Structures "
   ]
  },
  {
   "cell_type": "markdown",
   "metadata": {},
   "source": [
    "So far we have stored data in variables in basically all of our lessons. This is fundamental to programming, but it is be no means the whole story. For example, when we've worked with multiple points of data, we've stored them in multiple variables, \"x\", \"y\", \"z\", etc. But we can make this easier by storing points of data in structures. We'll look at two foundational data structures in this unit: the list and the dictionary. There are others we will get to later on, but these are the workhorses for now. They work in intuitive ways, so we will just right into examples of a list."
   ]
  },
  {
   "cell_type": "markdown",
   "metadata": {},
   "source": [
    "### The List\n",
    "List store information of the same type in a variable name. The use squared braces to designate the start and end, and commas to separate values. "
   ]
  },
  {
   "cell_type": "code",
   "execution_count": 192,
   "metadata": {},
   "outputs": [],
   "source": [
    "\n",
    "# declare a list of numbers\n",
    "numbers = [1, 2, 3, 4, 5, 6, 7, 8]\n",
    "\n",
    "# declare a list of strings\n",
    "words = [\"dream\", \"about\", \"me\"]"
   ]
  },
  {
   "cell_type": "markdown",
   "metadata": {},
   "source": [
    "Lists are their own class of data in Python."
   ]
  },
  {
   "cell_type": "code",
   "execution_count": 193,
   "metadata": {},
   "outputs": [
    {
     "name": "stdout",
     "output_type": "stream",
     "text": [
      "<class 'list'>\n"
     ]
    }
   ],
   "source": [
    "\n",
    "# call the type function\n",
    "print(type(numbers))"
   ]
  },
  {
   "cell_type": "markdown",
   "metadata": {},
   "source": [
    "We can work with lists in a lot of similar ways to how we work with strings. You can probably guess what this code is doing:"
   ]
  },
  {
   "cell_type": "code",
   "execution_count": 194,
   "metadata": {},
   "outputs": [
    {
     "name": "stdout",
     "output_type": "stream",
     "text": [
      "['dream', 'about', 'me']\n"
     ]
    }
   ],
   "source": [
    "print(words)"
   ]
  },
  {
   "cell_type": "markdown",
   "metadata": {},
   "source": [
    "Printing displays the words in the lists."
   ]
  },
  {
   "cell_type": "markdown",
   "metadata": {},
   "source": [
    "What about len()?"
   ]
  },
  {
   "cell_type": "code",
   "execution_count": 195,
   "metadata": {},
   "outputs": [
    {
     "name": "stdout",
     "output_type": "stream",
     "text": [
      "8\n"
     ]
    }
   ],
   "source": [
    "print(len(numbers))"
   ]
  },
  {
   "cell_type": "markdown",
   "metadata": {},
   "source": [
    "The len() function works on lists too, and returns the number of elements stored in them. What about this?"
   ]
  },
  {
   "cell_type": "code",
   "execution_count": 196,
   "metadata": {},
   "outputs": [
    {
     "name": "stdout",
     "output_type": "stream",
     "text": [
      "1\n",
      "2\n",
      "dream\n",
      "about\n"
     ]
    }
   ],
   "source": [
    "\n",
    "# can print elements by their index just like did with strings \n",
    "print(numbers[0])\n",
    "print(numbers[1])\n",
    "\n",
    "# it works the same for the other list\n",
    "print(words[0])\n",
    "print(words[1])"
   ]
  },
  {
   "cell_type": "markdown",
   "metadata": {},
   "source": [
    "Indexing a list is just like indexing a string. And this?"
   ]
  },
  {
   "cell_type": "code",
   "execution_count": 197,
   "metadata": {},
   "outputs": [
    {
     "name": "stdout",
     "output_type": "stream",
     "text": [
      "[1, 2, 3, 4, 5]\n"
     ]
    }
   ],
   "source": [
    "print(numbers[0:5])"
   ]
  },
  {
   "cell_type": "markdown",
   "metadata": {},
   "source": [
    "This prints the value at index 0, 1, 2, 3, 4. Remember \"up to but not including\"?"
   ]
  },
  {
   "cell_type": "markdown",
   "metadata": {},
   "source": [
    " What about our shorthand?"
   ]
  },
  {
   "cell_type": "code",
   "execution_count": 198,
   "metadata": {},
   "outputs": [
    {
     "name": "stdout",
     "output_type": "stream",
     "text": [
      "[2, 3]\n"
     ]
    }
   ],
   "source": [
    "print(numbers[1:3])"
   ]
  },
  {
   "cell_type": "code",
   "execution_count": 199,
   "metadata": {},
   "outputs": [
    {
     "name": "stdout",
     "output_type": "stream",
     "text": [
      "[1, 2, 3, 4, 5, 6, 7, 8]\n",
      "[1, 2, 3, 4, 5, 6, 7, 8]\n"
     ]
    }
   ],
   "source": [
    "print(numbers[0:])\n",
    "print(numbers[:8])"
   ]
  },
  {
   "cell_type": "markdown",
   "metadata": {},
   "source": [
    "All here! Pretty handy. "
   ]
  },
  {
   "cell_type": "markdown",
   "metadata": {},
   "source": [
    "There are two important methods to keep in mind when working with strings. They are remove() and append(), and they do pretty much what you would expect."
   ]
  },
  {
   "cell_type": "code",
   "execution_count": 200,
   "metadata": {},
   "outputs": [
    {
     "name": "stdout",
     "output_type": "stream",
     "text": [
      "['dream', 'about', 'me', 'emotion']\n"
     ]
    }
   ],
   "source": [
    "\n",
    "# call the append method on the 'words' list\n",
    "words.append(\"emotion\")\n",
    "\n",
    "# print the list to see the change\n",
    "print(words)"
   ]
  },
  {
   "cell_type": "markdown",
   "metadata": {},
   "source": [
    "We have another word now, \"emotion\". Append puts the new material on the end of the old one."
   ]
  },
  {
   "cell_type": "markdown",
   "metadata": {},
   "source": [
    "If we want to put it at specific location explicity or \"manually\", we can specify using indexing:"
   ]
  },
  {
   "cell_type": "code",
   "execution_count": 201,
   "metadata": {},
   "outputs": [
    {
     "name": "stdout",
     "output_type": "stream",
     "text": [
      "['please', 'about', 'me', 'emotion']\n"
     ]
    }
   ],
   "source": [
    "\n",
    "# use the index to refer to a specific location and tell it what goes there \n",
    "words[0] = \"please\"\n",
    "\n",
    "# print to see\n",
    "print(words)"
   ]
  },
  {
   "cell_type": "markdown",
   "metadata": {},
   "source": [
    "Index 0 now holds the value \"please\"."
   ]
  },
  {
   "cell_type": "markdown",
   "metadata": {},
   "source": [
    "Remove() takes things awat from a list:"
   ]
  },
  {
   "cell_type": "code",
   "execution_count": 202,
   "metadata": {},
   "outputs": [
    {
     "name": "stdout",
     "output_type": "stream",
     "text": [
      "['please', 'about', 'me']\n"
     ]
    }
   ],
   "source": [
    "\n",
    "# remove the word with remove\n",
    "words.remove(\"emotion\")\n",
    "\n",
    "# print the list to see if it worked\n",
    "print(words)"
   ]
  },
  {
   "cell_type": "markdown",
   "metadata": {},
   "source": [
    "The word \"emotion\" is now gone."
   ]
  },
  {
   "cell_type": "markdown",
   "metadata": {},
   "source": [
    "Note that we don't use quotes if we are passing an integer not a string."
   ]
  },
  {
   "cell_type": "code",
   "execution_count": 203,
   "metadata": {},
   "outputs": [
    {
     "name": "stdout",
     "output_type": "stream",
     "text": [
      "[1, 2, 3, 4, 5, 6, 7, 8, 9]\n"
     ]
    }
   ],
   "source": [
    "\n",
    "# use append on the number list\n",
    "numbers.append(9)\n",
    "\n",
    "# print out to see\n",
    "print(numbers)"
   ]
  },
  {
   "cell_type": "code",
   "execution_count": 204,
   "metadata": {},
   "outputs": [
    {
     "name": "stdout",
     "output_type": "stream",
     "text": [
      "[1, 2, 3, 4, 5, 6, 7, 8]\n"
     ]
    }
   ],
   "source": [
    "\n",
    "# now remove it\n",
    "numbers.remove(9)\n",
    "\n",
    "# print to see\n",
    "print(numbers)"
   ]
  },
  {
   "cell_type": "code",
   "execution_count": 205,
   "metadata": {},
   "outputs": [
    {
     "name": "stdout",
     "output_type": "stream",
     "text": [
      "[2, 3, 4, 5, 6, 7, 8]\n"
     ]
    }
   ],
   "source": [
    "# note we can remove whatever we want, not just the end\n",
    "numbers.remove(1)\n",
    "\n",
    "# print to see\n",
    "print(numbers)"
   ]
  },
  {
   "cell_type": "markdown",
   "metadata": {},
   "source": [
    "What do you think is going on here?"
   ]
  },
  {
   "cell_type": "code",
   "execution_count": 206,
   "metadata": {},
   "outputs": [
    {
     "name": "stdout",
     "output_type": "stream",
     "text": [
      "[1, 2, 3, 4, 5, 6, 7, 8, 9]\n"
     ]
    }
   ],
   "source": [
    "l1 = [1,2,3]\n",
    "l2 = [4,5,6]\n",
    "l3 = [7,8,9]\n",
    "\n",
    "l4 = l1 + l2 + l3\n",
    "print(l4)"
   ]
  },
  {
   "cell_type": "markdown",
   "metadata": {},
   "source": [
    "We can add the lists together if they are of appropriate types. "
   ]
  },
  {
   "cell_type": "markdown",
   "metadata": {},
   "source": [
    "### Empty Lists"
   ]
  },
  {
   "cell_type": "markdown",
   "metadata": {},
   "source": [
    "A common strategy used when working with lists is to create an empty list and add things to it as desired. Take a look:"
   ]
  },
  {
   "cell_type": "code",
   "execution_count": 207,
   "metadata": {},
   "outputs": [
    {
     "name": "stdout",
     "output_type": "stream",
     "text": [
      "Starting length of list: 0\n",
      "Final length of list: 1\n"
     ]
    }
   ],
   "source": [
    "\n",
    "# create an empty list - simply don't add anything to it \n",
    "empty = []\n",
    "\n",
    "# prove that it is empty\n",
    "print(\"Starting length of list:\", len(empty))\n",
    "\n",
    "# use append, will add it to index zero becuase it is empty\n",
    "empty.append(\"First Element\")\n",
    "\n",
    "# print length to show change\n",
    "print(\"Final length of list:\", len(empty))"
   ]
  },
  {
   "cell_type": "markdown",
   "metadata": {},
   "source": [
    "### sum()"
   ]
  },
  {
   "cell_type": "markdown",
   "metadata": {},
   "source": [
    "A final note in closing: if the list is of integers or floats, we can use Python's sum() function to get the total in one easy step."
   ]
  },
  {
   "cell_type": "code",
   "execution_count": 208,
   "metadata": {},
   "outputs": [
    {
     "name": "stdout",
     "output_type": "stream",
     "text": [
      "4.300000000000001\n"
     ]
    }
   ],
   "source": [
    "\n",
    "# create a list of floats \n",
    "floats = [1.5, 1.2, 1.6]\n",
    "\n",
    "# create a total\n",
    "total = sum(floats)\n",
    "\n",
    "print(total)"
   ]
  },
  {
   "cell_type": "markdown",
   "metadata": {},
   "source": [
    "### Technique \n",
    "\n",
    "Lists are structures of data defined by square braces. \n",
    "\n",
    "They hold elements of the same type.\n",
    "\n",
    "We can get members of a list by using the same syntax we use for strings.\n",
    "\n",
    "We can add and remove list elements using append() and remove().\n",
    "\n",
    "We can manually overwrite elements using the index and the = sign, and then the new element we want to be written over.\n",
    "\n",
    "We can still use print(), type(), and len() with lists."
   ]
  },
  {
   "cell_type": "markdown",
   "metadata": {},
   "source": [
    "### Meta"
   ]
  },
  {
   "cell_type": "markdown",
   "metadata": {},
   "source": [
    "List-like structures are somtimes reffered to as arrays, arrayLists, or vectors in other languges. "
   ]
  },
  {
   "cell_type": "markdown",
   "metadata": {},
   "source": [
    "There are more data structures, but lists are the most foundational in Python."
   ]
  },
  {
   "cell_type": "markdown",
   "metadata": {},
   "source": [
    "When encountering new material, sometimes it is helpful to use known functions on them to see what happens. "
   ]
  },
  {
   "cell_type": "markdown",
   "metadata": {},
   "source": [
    "# Questions "
   ]
  },
  {
   "cell_type": "markdown",
   "metadata": {},
   "source": [
    "1) In one line, create a list called \"words\" that contains the words in the sentence \"I have a dream\"."
   ]
  },
  {
   "cell_type": "markdown",
   "metadata": {},
   "source": [
    "2) Change the list so that it says \"I have many dreams\""
   ]
  },
  {
   "cell_type": "markdown",
   "metadata": {},
   "source": [
    "3) Write a program that finds the average of a list of 5 numbers"
   ]
  }
 ],
 "metadata": {
  "kernelspec": {
   "display_name": "Python 3",
   "language": "python",
   "name": "python3"
  },
  "language_info": {
   "codemirror_mode": {
    "name": "ipython",
    "version": 3
   },
   "file_extension": ".py",
   "mimetype": "text/x-python",
   "name": "python",
   "nbconvert_exporter": "python",
   "pygments_lexer": "ipython3",
   "version": "3.6.4"
  }
 },
 "nbformat": 4,
 "nbformat_minor": 2
}
