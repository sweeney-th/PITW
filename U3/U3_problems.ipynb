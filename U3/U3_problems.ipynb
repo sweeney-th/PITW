{
 "cells": [
  {
   "cell_type": "markdown",
   "metadata": {},
   "source": [
    "Q1) You are writing code to calculate the cost of a hot sauce buying rampage. The shopping list is represented by a list, and the prices are stored as name-price entries in a dictionary. If an item is in the cart, but not the dict, assume it is found to be out of stock. \n",
    "\n",
    "You mission is to find the price of the shopping spree. You will need to use iteration over a dict, and a \"cost\" variable that starts at 0 that gets increased as the iteration progresses. For each item in the list, look up the value for it, and increase the count by that amount. \n",
    "\n",
    "This will also involve looking up items from the list \"cart\" in the dict \"price\". As long as an item has the same name, there is no reason you CAN'T do this with the tools that you have (even though I didn't spell out that you can :). Sometimes coding is about asking if you can't do something, not if you can. I'll give a quick snippet just to be clear though. "
   ]
  },
  {
   "cell_type": "code",
   "execution_count": 35,
   "metadata": {},
   "outputs": [
    {
     "name": "stdout",
     "output_type": "stream",
     "text": [
      "Looking up: A\n",
      "1\n",
      "Looking up: B\n",
      "2\n",
      "Looking up: C\n",
      "3\n"
     ]
    }
   ],
   "source": [
    "\n",
    "# a list\n",
    "the_list = [\"A\",\"B\",\"C\"]\n",
    "\n",
    "# a dict with the same values\n",
    "# mapped to a dictionary \n",
    "the_dict = {\"A\":1,\"B\":2,\"C\":3}\n",
    "\n",
    "# for item in LIST\n",
    "for item in the_list:\n",
    "    # print for clarity\n",
    "    print(\"Looking up:\", item)\n",
    "    # look it up and print the value from the dict\n",
    "    print(the_dict[item])"
   ]
  },
  {
   "cell_type": "markdown",
   "metadata": {},
   "source": [
    "Some things to think about:\n",
    "\n",
    "Are there repeats in the list? Does this matter?\n",
    "\n",
    "How do I handle an item that is on the shopping list but not in the dict without crashing out due to a KeyError?\n",
    "\n",
    "If you're ready to go, find the total price and print it out after the label \"Total Cost:\"."
   ]
  },
  {
   "cell_type": "code",
   "execution_count": 1,
   "metadata": {},
   "outputs": [],
   "source": [
    "\n",
    "# here is a your shopping list nothing says you can't use multiple lines\n",
    "shopping_list = [\"MegaDeath Sauce\", \"Maddog 357\", \"Secret Aardvark\", \n",
    "        \"Tapitio\",\"High River Rogue\",\"Da'Bomb\",\n",
    "        \"Red Hot\",\"Queen Majesty\",\"Pain 100%\",\n",
    "        \"Secret Aardvark\",\"Siracha\",\"Cholula\",\n",
    "        \"Red Hot\",\"The Last Dab\", \"Red Hot\"]\n",
    "\n",
    "# here is the dict mapping the item to their prices\n",
    "price = {\"MegaDeath Sauce\" :7.99, \"Maddog 357\":8.99,\n",
    "         \"Secret Aardvark\" :5.99, \"Tapatio\"   :2.95,\n",
    "         \"High River Rouge\":8.95, \"Da'Bomb\"   :7.99,\n",
    "         \"Queen Majesty\"   :9.99, \"Pain 100%\" :10.48, \n",
    "         \"Cholula\"         :3.65, \"Red Hot\"   :7.49,\n",
    "         \"The Last Dab\"    :20.00 }"
   ]
  },
  {
   "cell_type": "markdown",
   "metadata": {},
   "source": [
    "Q2) What is the price if a 6% sales tax is added? Print it after the label \"After Tax:\""
   ]
  },
  {
   "cell_type": "markdown",
   "metadata": {},
   "source": [
    "Q3) Add and 'if' statement that warns the user if they have spent $85 or more(after tax)."
   ]
  }
 ],
 "metadata": {
  "kernelspec": {
   "display_name": "Python 3",
   "language": "python",
   "name": "python3"
  },
  "language_info": {
   "codemirror_mode": {
    "name": "ipython",
    "version": 3
   },
   "file_extension": ".py",
   "mimetype": "text/x-python",
   "name": "python",
   "nbconvert_exporter": "python",
   "pygments_lexer": "ipython3",
   "version": "3.5.3"
  }
 },
 "nbformat": 4,
 "nbformat_minor": 2
}
