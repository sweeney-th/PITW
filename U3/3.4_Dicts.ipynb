{
 "cells": [
  {
   "cell_type": "markdown",
   "metadata": {},
   "source": [
    "# Paired Data: Dicts"
   ]
  },
  {
   "cell_type": "markdown",
   "metadata": {},
   "source": [
    "Paired data refers to items that are store together with one as the \"key\" and one as the \"value\". In Python, the data structure used for this is called a 'dict' (short for dictionary), because it mirrors the way a dictionary functions: the key is the word, and it is stored with its value, a definition. They are very straightforward to implement in Python. "
   ]
  },
  {
   "cell_type": "markdown",
   "metadata": {},
   "source": [
    "Syntactically, they are similar to lists, but with \"curly braces\" instead of square ones, and a colon to designate items as pairs. If there is more than one entry, commas are used. Here is a dictionary with 2 entries (each of two strings for a total of four strings):"
   ]
  },
  {
   "cell_type": "code",
   "execution_count": 21,
   "metadata": {},
   "outputs": [],
   "source": [
    "\n",
    "# declare a dictionary \n",
    "dictionary = {\"Aubrey\":\"Graham\", \"Kendrick\":\"Lamar\"}"
   ]
  },
  {
   "cell_type": "markdown",
   "metadata": {},
   "source": [
    "Note that while there are 4 strings, \"Aubrey\", \"Graham\", \"Kendrick\", and \"Lamar\", the length of this dict is 2 because it goes by the numbers of entries, or pairs. "
   ]
  },
  {
   "cell_type": "code",
   "execution_count": 22,
   "metadata": {},
   "outputs": [
    {
     "name": "stdout",
     "output_type": "stream",
     "text": [
      "2\n"
     ]
    }
   ],
   "source": [
    "\n",
    "# suprise! we can still use len()\n",
    "print(len(dictionary))"
   ]
  },
  {
   "cell_type": "markdown",
   "metadata": {},
   "source": [
    "To see the contents, we can use print:"
   ]
  },
  {
   "cell_type": "code",
   "execution_count": 29,
   "metadata": {},
   "outputs": [
    {
     "name": "stdout",
     "output_type": "stream",
     "text": [
      "{'Aubrey': 'Graham', 'Kendrick': 'Lamar'}\n"
     ]
    }
   ],
   "source": [
    "print(dictionary)"
   ]
  },
  {
   "cell_type": "markdown",
   "metadata": {},
   "source": [
    "Dictionaries are generally used as a refference of some kind, storing names of items with their price, etc. In this case, we are storing names, first then last. "
   ]
  },
  {
   "cell_type": "markdown",
   "metadata": {},
   "source": [
    "Let's say our program is supposed to look up a name (we'll assume for now we know that the name is in the dict). We can do so using the following syntax:"
   ]
  },
  {
   "cell_type": "code",
   "execution_count": 23,
   "metadata": {},
   "outputs": [
    {
     "name": "stdout",
     "output_type": "stream",
     "text": [
      "Graham\n"
     ]
    }
   ],
   "source": [
    "\n",
    "# we use the name of the dict we want and then [] containing what to look up\n",
    "print(dictionary[\"Aubrey\"])"
   ]
  },
  {
   "cell_type": "markdown",
   "metadata": {},
   "source": [
    "### Iterating Through a Dict"
   ]
  },
  {
   "cell_type": "markdown",
   "metadata": {},
   "source": [
    "Iterating through a dict's items is easy:"
   ]
  },
  {
   "cell_type": "code",
   "execution_count": 24,
   "metadata": {},
   "outputs": [
    {
     "name": "stdout",
     "output_type": "stream",
     "text": [
      "Aubrey\n",
      "Kendrick\n"
     ]
    }
   ],
   "source": [
    "\n",
    "# we proceede just the way we would with a list\n",
    "for item in dictionary:\n",
    "    print(item)"
   ]
  },
  {
   "cell_type": "markdown",
   "metadata": {},
   "source": [
    "You'll notice, however, that this doesn't show the values, just the keys. If we want to see both, we simply add method made for this purpose: .items()."
   ]
  },
  {
   "cell_type": "code",
   "execution_count": 25,
   "metadata": {},
   "outputs": [
    {
     "name": "stdout",
     "output_type": "stream",
     "text": [
      "('Aubrey', 'Graham')\n",
      "('Kendrick', 'Lamar')\n"
     ]
    }
   ],
   "source": [
    "\n",
    "# as above, with addition of .items\n",
    "for item in dictionary.items():\n",
    "    print(item)"
   ]
  },
  {
   "cell_type": "markdown",
   "metadata": {},
   "source": [
    "Easy!"
   ]
  },
  {
   "cell_type": "markdown",
   "metadata": {},
   "source": [
    "We could also do this \"manually\" like this:"
   ]
  },
  {
   "cell_type": "code",
   "execution_count": 27,
   "metadata": {},
   "outputs": [
    {
     "name": "stdout",
     "output_type": "stream",
     "text": [
      "Aubrey Graham\n",
      "Kendrick Lamar\n"
     ]
    }
   ],
   "source": [
    "\n",
    "# iterate through the dict\n",
    "for item in dictionary:\n",
    "    # print the item, and the value of looking it up\n",
    "    print(item, dictionary[item])"
   ]
  },
  {
   "cell_type": "markdown",
   "metadata": {},
   "source": [
    "In the above example, we used the same syntax for regular lookup. "
   ]
  },
  {
   "cell_type": "markdown",
   "metadata": {},
   "source": [
    "What it we only wanted the values?"
   ]
  },
  {
   "cell_type": "code",
   "execution_count": 30,
   "metadata": {},
   "outputs": [
    {
     "name": "stdout",
     "output_type": "stream",
     "text": [
      "Graham\n",
      "Lamar\n"
     ]
    }
   ],
   "source": [
    "\n",
    "for item in dictionary:\n",
    "    # only print the lookuop value\n",
    "    print(dictionary[item])"
   ]
  }
 ],
 "metadata": {
  "kernelspec": {
   "display_name": "Python 3",
   "language": "python",
   "name": "python3"
  },
  "language_info": {
   "codemirror_mode": {
    "name": "ipython",
    "version": 3
   },
   "file_extension": ".py",
   "mimetype": "text/x-python",
   "name": "python",
   "nbconvert_exporter": "python",
   "pygments_lexer": "ipython3",
   "version": "3.6.4"
  }
 },
 "nbformat": 4,
 "nbformat_minor": 2
}
