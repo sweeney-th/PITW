{
 "cells": [
  {
   "cell_type": "markdown",
   "metadata": {},
   "source": [
    "# Paired Data: Dicts"
   ]
  },
  {
   "cell_type": "markdown",
   "metadata": {},
   "source": [
    "Paired data refers to items that are store together with one as the \"key\" and one as the \"value\". In Python, the data structure used for this is called a 'dict' (short for dictionary), because it mirrors the way a dictionary functions: the key is the word, and it is stored with its value, a definition. They allow us to associate values, like and item and its price. They are very straightforward to implement in Python. "
   ]
  },
  {
   "cell_type": "markdown",
   "metadata": {},
   "source": [
    "Syntactically, they are similar to lists, but with \"curly braces\" instead of square ones, and a colon to designate items as pairs. If there is more than one entry, commas are used to separate them. Here is a dictionary with 2 entries (each of two strings for a total of four strings):"
   ]
  },
  {
   "cell_type": "code",
   "execution_count": 169,
   "metadata": {},
   "outputs": [],
   "source": [
    "\n",
    "# declare a dictionary \n",
    "dictionary = {\"Aubrey\":\"Graham\", \"Kendrick\":\"Lamar\"}"
   ]
  },
  {
   "cell_type": "markdown",
   "metadata": {},
   "source": [
    "The dictionary would be used to look up the last name of one of these people based on their first name."
   ]
  },
  {
   "cell_type": "markdown",
   "metadata": {},
   "source": [
    "In my experience, most errors here come from missing a comma when there are a lot of entries, so watch out for that. It is a simple fix however."
   ]
  },
  {
   "cell_type": "markdown",
   "metadata": {},
   "source": [
    "Note that while there are 4 strings, \"Aubrey\", \"Graham\", \"Kendrick\", and \"Lamar\", the length of this dict is 2 because it goes by the numbers of entries, or pairs. "
   ]
  },
  {
   "cell_type": "markdown",
   "metadata": {},
   "source": [
    "Also note that while the values can be anything, th keys should be unique or you have no way of knowing which entry for that key you will retrieve. "
   ]
  },
  {
   "cell_type": "markdown",
   "metadata": {},
   "source": [
    "To see the contents of a dict, we can use print:"
   ]
  },
  {
   "cell_type": "code",
   "execution_count": 170,
   "metadata": {},
   "outputs": [
    {
     "name": "stdout",
     "output_type": "stream",
     "text": [
      "2\n"
     ]
    }
   ],
   "source": [
    "\n",
    "# suprise! we can still use len()\n",
    "print(len(dictionary))"
   ]
  },
  {
   "cell_type": "markdown",
   "metadata": {},
   "source": [
    "We can take a look at the dictionary in a manner you can probably deduce:"
   ]
  },
  {
   "cell_type": "code",
   "execution_count": 171,
   "metadata": {},
   "outputs": [
    {
     "name": "stdout",
     "output_type": "stream",
     "text": [
      "{'Aubrey': 'Graham', 'Kendrick': 'Lamar'}\n"
     ]
    }
   ],
   "source": [
    "\n",
    "# use the print() function as normal \n",
    "print(dictionary)"
   ]
  },
  {
   "cell_type": "markdown",
   "metadata": {},
   "source": [
    "### Looking Up a Value"
   ]
  },
  {
   "cell_type": "markdown",
   "metadata": {},
   "source": [
    "Let's say our program is supposed to look up a name (we'll assume for now we know that the name is in the dict). We can do so using the following syntax:"
   ]
  },
  {
   "cell_type": "code",
   "execution_count": 172,
   "metadata": {},
   "outputs": [
    {
     "name": "stdout",
     "output_type": "stream",
     "text": [
      "Graham\n"
     ]
    }
   ],
   "source": [
    "\n",
    "# we use the name of the dict we want and then [] containing what to look up\n",
    "print(dictionary[\"Aubrey\"])"
   ]
  },
  {
   "cell_type": "markdown",
   "metadata": {},
   "source": [
    "We use the name of the dictionary and then the value in [ ] to denote what we are looking for. "
   ]
  },
  {
   "cell_type": "markdown",
   "metadata": {},
   "source": [
    "### KeyErrors and the get() Method"
   ]
  },
  {
   "cell_type": "markdown",
   "metadata": {},
   "source": [
    "As of right now, we have two items in our dictionary. What would happen if we looked up something that wasn't there? We'd get a KeyError. In some situations, we'll have a dictionary of items we've read in from a file and we will want to look something up. If it isn't there, we'll get a crash, but there is a cleaner way to deal with this: the get() function. This takes two arguments: one for what to look up, and a second for what to put if it isn't found (By default, it returns \"None\"). This circumvents the crash. The code below, in English, would say \"Get the string Tariq from the dictionary, and display \"Item not found\" if it isn't there\"."
   ]
  },
  {
   "cell_type": "code",
   "execution_count": 173,
   "metadata": {},
   "outputs": [
    {
     "name": "stdout",
     "output_type": "stream",
     "text": [
      "Item not found\n"
     ]
    }
   ],
   "source": [
    "\n",
    "# use the get() function\n",
    "print(dictionary.get(\"Tariq\", \"Item not found\"))"
   ]
  },
  {
   "cell_type": "markdown",
   "metadata": {},
   "source": [
    "### Adding and Removing items"
   ]
  },
  {
   "cell_type": "markdown",
   "metadata": {},
   "source": [
    "The syntax for adding to a dictionary should look somewhat familiar. It is not unlike something we would see in a list. Other than the fact we add something with an = sign to show what to add to the dict, it is the same as the syntax for looking something up."
   ]
  },
  {
   "cell_type": "code",
   "execution_count": 174,
   "metadata": {},
   "outputs": [
    {
     "name": "stdout",
     "output_type": "stream",
     "text": [
      "{'Tariq': 'Trotter', 'Aubrey': 'Graham', 'Kendrick': 'Lamar', 'Yasiin': 'Bey'}\n"
     ]
    }
   ],
   "source": [
    "\n",
    "# adding something to the dict\n",
    "dictionary[\"Tariq\"] = \"Trotter\"\n",
    "dictionary[\"Yasiin\"] = \"Bey\"\n",
    "\n",
    "# look at the dict \n",
    "print(dictionary)"
   ]
  },
  {
   "cell_type": "markdown",
   "metadata": {},
   "source": [
    "While it isn't commonly done, you can remove items from your dict thusly:"
   ]
  },
  {
   "cell_type": "code",
   "execution_count": 175,
   "metadata": {},
   "outputs": [
    {
     "name": "stdout",
     "output_type": "stream",
     "text": [
      "{'Tariq': 'Trotter', 'Kendrick': 'Lamar', 'Yasiin': 'Bey'}\n"
     ]
    }
   ],
   "source": [
    "\n",
    "# we could also use the .pop() method\n",
    "dictionary.pop(\"Aubrey\")\n",
    "\n",
    "# inspect the dictionary\n",
    "print(dictionary)"
   ]
  },
  {
   "cell_type": "markdown",
   "metadata": {},
   "source": [
    "### Iterating Through a Dict"
   ]
  },
  {
   "cell_type": "markdown",
   "metadata": {},
   "source": [
    "Iterating through a dict's items is easy:"
   ]
  },
  {
   "cell_type": "code",
   "execution_count": 176,
   "metadata": {},
   "outputs": [
    {
     "name": "stdout",
     "output_type": "stream",
     "text": [
      "Tariq\n",
      "Kendrick\n",
      "Yasiin\n"
     ]
    }
   ],
   "source": [
    "\n",
    "# we proceede just the way we would with a list\n",
    "for item in dictionary:\n",
    "    print(item)"
   ]
  },
  {
   "cell_type": "markdown",
   "metadata": {},
   "source": [
    "You'll notice, however, that this doesn't show the values, just the keys. If we want to see both, we simply add the method made for this purpose: .items()."
   ]
  },
  {
   "cell_type": "code",
   "execution_count": 177,
   "metadata": {},
   "outputs": [
    {
     "name": "stdout",
     "output_type": "stream",
     "text": [
      "('Tariq', 'Trotter')\n",
      "('Kendrick', 'Lamar')\n",
      "('Yasiin', 'Bey')\n"
     ]
    }
   ],
   "source": [
    "\n",
    "# as above, with addition of .items\n",
    "for item in dictionary.items():\n",
    "    print(item)"
   ]
  },
  {
   "cell_type": "markdown",
   "metadata": {},
   "source": [
    "Easy!"
   ]
  },
  {
   "cell_type": "markdown",
   "metadata": {},
   "source": [
    "We could also do this \"manually\" like this:"
   ]
  },
  {
   "cell_type": "code",
   "execution_count": 178,
   "metadata": {},
   "outputs": [
    {
     "name": "stdout",
     "output_type": "stream",
     "text": [
      "Tariq Trotter\n",
      "Kendrick Lamar\n",
      "Yasiin Bey\n"
     ]
    }
   ],
   "source": [
    "\n",
    "# iterate through the dict\n",
    "for item in dictionary:\n",
    "    # print the item, and the value of looking it up\n",
    "    print(item, dictionary[item])"
   ]
  },
  {
   "cell_type": "markdown",
   "metadata": {},
   "source": [
    "In the above example, we used the same syntax for regular lookup. "
   ]
  },
  {
   "cell_type": "markdown",
   "metadata": {},
   "source": [
    "What it we only wanted the values?"
   ]
  },
  {
   "cell_type": "code",
   "execution_count": 179,
   "metadata": {},
   "outputs": [
    {
     "name": "stdout",
     "output_type": "stream",
     "text": [
      "Trotter\n",
      "Lamar\n",
      "Bey\n"
     ]
    }
   ],
   "source": [
    "\n",
    "# iterate through the dict\n",
    "for item in dictionary:\n",
    "    # only print the lookuop value\n",
    "    print(dictionary[item])"
   ]
  },
  {
   "cell_type": "markdown",
   "metadata": {},
   "source": [
    "### Mixed Data Types"
   ]
  },
  {
   "cell_type": "markdown",
   "metadata": {},
   "source": [
    "Note that you don't have to match data of the same type as long as you are consistent. It is perfectly legal (and common) to \"map\" items of different types, as in the following example:"
   ]
  },
  {
   "cell_type": "code",
   "execution_count": 180,
   "metadata": {},
   "outputs": [
    {
     "name": "stdout",
     "output_type": "stream",
     "text": [
      "{'Eggs': 2.99, 'Juice': 1.99, 'Milk': 3.99}\n"
     ]
    }
   ],
   "source": [
    "\n",
    "# declare a dict that pairs strings with floats \n",
    "prices = {\"Milk\":3.99, \"Eggs\":2.99, \"Juice\":1.99}\n",
    "\n",
    "# inspect the dict\n",
    "print(prices)"
   ]
  },
  {
   "cell_type": "markdown",
   "metadata": {},
   "source": [
    "As long as the key is a string the prince is a float, you can add to, remove from, and otherwise use the dict as much as you like."
   ]
  },
  {
   "cell_type": "markdown",
   "metadata": {},
   "source": [
    "This makes it evident how a program can compute the prices of all the items in a cart, for example. "
   ]
  },
  {
   "cell_type": "markdown",
   "metadata": {},
   "source": [
    "### Sorting Dicts"
   ]
  },
  {
   "cell_type": "markdown",
   "metadata": {},
   "source": [
    "A final note:\n",
    "Because dicts pair keys to values, not items in an index like a list, when the dict is in your computer's memory the order of items is random. This will be especially obvious if you read the data in from a file and then print the dict. For example, if you print the dict on a different day, it might not appear in the same order. This seems like a problem but again, we're looking items up by their name so it doesn't actually matter. If we want to see them in a certain order, we can use a function called \"sorted()\" to sort them by alphabetical or numeric order."
   ]
  },
  {
   "cell_type": "code",
   "execution_count": 181,
   "metadata": {},
   "outputs": [
    {
     "name": "stdout",
     "output_type": "stream",
     "text": [
      "Eggs\n",
      "Juice\n",
      "Milk\n"
     ]
    }
   ],
   "source": [
    "\n",
    "# print the items in sorted order\n",
    "for item in sorted(prices):\n",
    "    print(item)"
   ]
  },
  {
   "cell_type": "markdown",
   "metadata": {},
   "source": [
    "The sorted() function can take an optional True/False argument to sort in reverse order."
   ]
  },
  {
   "cell_type": "code",
   "execution_count": 184,
   "metadata": {},
   "outputs": [
    {
     "name": "stdout",
     "output_type": "stream",
     "text": [
      "Milk\n",
      "Juice\n",
      "Eggs\n"
     ]
    }
   ],
   "source": [
    "\n",
    "# as above, but in reverse using optional argument\n",
    "for item in sorted(prices, reverse = True):\n",
    "    print(item)"
   ]
  },
  {
   "cell_type": "markdown",
   "metadata": {},
   "source": [
    "We see that these are in alphabetical order, even tough they aren't entered that way and may not have been stored that way in memory. "
   ]
  },
  {
   "cell_type": "code",
   "execution_count": 182,
   "metadata": {},
   "outputs": [
    {
     "name": "stdout",
     "output_type": "stream",
     "text": [
      "('Eggs', 2.99)\n",
      "('Juice', 1.99)\n",
      "('Milk', 3.99)\n"
     ]
    }
   ],
   "source": [
    "\n",
    "# print the items using sorted()\n",
    "for item in sorted(prices.items()):\n",
    "    print(item)"
   ]
  },
  {
   "cell_type": "markdown",
   "metadata": {},
   "source": [
    "Note that this function will also soft numbers:"
   ]
  },
  {
   "cell_type": "code",
   "execution_count": 183,
   "metadata": {},
   "outputs": [
    {
     "name": "stdout",
     "output_type": "stream",
     "text": [
      "1\n",
      "2\n",
      "3\n",
      "4\n"
     ]
    }
   ],
   "source": [
    "\n",
    "# a dict with ints as the key and strings as values\n",
    "letters = {4:\"D\", 1:\"A\", 2:\"B\", 3:\"C\"}\n",
    "\n",
    "# print sorted results\n",
    "for item in sorted(letters):\n",
    "    print(item)"
   ]
  },
  {
   "cell_type": "code",
   "execution_count": null,
   "metadata": {},
   "outputs": [],
   "source": []
  },
  {
   "cell_type": "markdown",
   "metadata": {},
   "source": [
    "### Technique  "
   ]
  },
  {
   "cell_type": "markdown",
   "metadata": {},
   "source": [
    "Dicts emulate the function of a dctionary, storing key-value pairs for easy lookup. \n",
    "\n",
    "They use { } braces to denote the start and end. \n",
    "\n",
    "Colons separate the values in the dict.\n",
    "\n",
    "You can \"map\" items of different types.\n",
    "\n",
    "You can lookup and item by calling the dict and typing the key inside the [ ]\n",
    "\n",
    "You can iterate through dicts like a list. This shows the keys.\n",
    "\n",
    "You can use the .items() method to see both items in the pairs.\n",
    "\n",
    "The del keyword can remove an item with the same syntax as the lookup.\n",
    "\n",
    "Python dicts are unordered."
   ]
  },
  {
   "cell_type": "markdown",
   "metadata": {},
   "source": [
    "### Meta"
   ]
  },
  {
   "cell_type": "markdown",
   "metadata": {},
   "source": [
    "Dicts are extremely useful for \"storing paired data\".\n",
    "\n",
    "They are often used for lookup problems like calculating the prices of items in a cart. \n",
    "\n",
    "Making a dict is sometimes called \"mapping\" the keys to the value."
   ]
  },
  {
   "cell_type": "markdown",
   "metadata": {},
   "source": [
    "### Questions"
   ]
  },
  {
   "cell_type": "markdown",
   "metadata": {},
   "source": [
    "1) Create a dict that maps the first 5 letters of the alphabet to the iteger of their order, ie A to 1, B to 2, etc."
   ]
  },
  {
   "cell_type": "markdown",
   "metadata": {},
   "source": [
    "2) There are three parts:\n",
    "\n",
    "Print out all of the keys in the dict from Q1.\n",
    "\n",
    "Print out all the values.\n",
    "\n",
    "Print all keys with their values next to them.\n",
    "\n",
    "Print the items in reverse order."
   ]
  },
  {
   "cell_type": "markdown",
   "metadata": {},
   "source": [
    "3) A dict has the names of the 10 highest selling rock albums of all time in it. It maps the name of the band to the name of the record, for 20 total strings. What is the length of the dictionary?"
   ]
  }
 ],
 "metadata": {
  "kernelspec": {
   "display_name": "Python 3",
   "language": "python",
   "name": "python3"
  },
  "language_info": {
   "codemirror_mode": {
    "name": "ipython",
    "version": 3
   },
   "file_extension": ".py",
   "mimetype": "text/x-python",
   "name": "python",
   "nbconvert_exporter": "python",
   "pygments_lexer": "ipython3",
   "version": "3.7.5"
  }
 },
 "nbformat": 4,
 "nbformat_minor": 4
}
